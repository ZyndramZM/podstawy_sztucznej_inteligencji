{
 "cells": [
  {
   "cell_type": "markdown",
   "metadata": {
    "pycharm": {
     "name": "#%% md\n"
    }
   },
   "source": [
    "# Titanic competition - GaussianNB\n",
    "\n",
    "In this approach I will try to reach great score using simple Mixed GaussianNB algorithm.\n",
    "\n",
    "`var_smoothing` parameter is adjusted using Optuna"
   ]
  },
  {
   "cell_type": "markdown",
   "metadata": {
    "pycharm": {
     "name": "#%% md\n"
    }
   },
   "source": [
    "### Imports & settings"
   ]
  },
  {
   "cell_type": "code",
   "execution_count": null,
   "outputs": [],
   "source": [
    "import numpy as np\n",
    "import pandas as pd\n",
    "import plotly.express as px\n",
    "\n",
    "from sklearn.naive_bayes import GaussianNB\n",
    "from mixed_naive_bayes import MixedNB\n",
    "from sklearn.preprocessing import LabelEncoder\n",
    "from sklearn.model_selection import KFold, LeaveOneOut, train_test_split\n",
    "\n",
    "import optuna\n",
    "\n",
    "MIN_VS = 1e-50\n",
    "MAX_VS = 1e-4\n",
    "\n",
    "N_TRIALS = 500\n",
    "\n",
    "DROP_LIST = [\"PassengerId\", \"Name\"]\n"
   ],
   "metadata": {
    "collapsed": false,
    "pycharm": {
     "name": "#%%\n"
    }
   }
  },
  {
   "cell_type": "markdown",
   "source": [
    "### Get train dataset"
   ],
   "metadata": {
    "collapsed": false,
    "pycharm": {
     "name": "#%% md\n"
    }
   }
  },
  {
   "cell_type": "code",
   "execution_count": null,
   "outputs": [],
   "source": [
    "titanic = pd.read_csv(\"./data/train.csv\")\n",
    "titanic"
   ],
   "metadata": {
    "collapsed": false,
    "pycharm": {
     "name": "#%%\n"
    }
   }
  },
  {
   "cell_type": "markdown",
   "source": [
    "## Dataset INFO"
   ],
   "metadata": {
    "collapsed": false,
    "pycharm": {
     "name": "#%% md\n"
    }
   }
  },
  {
   "cell_type": "code",
   "execution_count": null,
   "outputs": [],
   "source": [
    "titanic.info()"
   ],
   "metadata": {
    "collapsed": false,
    "pycharm": {
     "name": "#%%\n"
    }
   }
  },
  {
   "cell_type": "markdown",
   "source": [
    "### Drop columns\n",
    "Which are difficult to process"
   ],
   "metadata": {
    "collapsed": false,
    "pycharm": {
     "name": "#%% md\n"
    }
   }
  },
  {
   "cell_type": "code",
   "execution_count": null,
   "outputs": [],
   "source": [
    "titanic = titanic.drop(DROP_LIST, axis=1)\n",
    "titanic"
   ],
   "metadata": {
    "collapsed": false,
    "pycharm": {
     "name": "#%%\n"
    }
   }
  },
  {
   "cell_type": "markdown",
   "source": [
    "### Prepare data for algorithm\n",
    "* In `Cabin` leave only firs letter (which means sector in which cabin is placed)\n",
    "* Adjust labels for `Sex`, `Embarked` and `Cabin` using LabelEncoder\n",
    "* Fill NaN values in `Age` with mean of this column"
   ],
   "metadata": {
    "collapsed": false,
    "pycharm": {
     "name": "#%% md\n"
    }
   }
  },
  {
   "cell_type": "code",
   "execution_count": null,
   "outputs": [],
   "source": [
    "def preprocessing(data):\n",
    "    data[\"Cabin\"] = data.apply(lambda row: ord(str(row[\"Cabin\"])[0])-ord('A') if str(row[\"Cabin\"])[0] != \"n\" else np.nan, axis=1)\n",
    "    \n",
    "    import re\n",
    "    data[\"Ticket\"] = data.apply(lambda row: re.sub(\"[^0-9]\", \"\", row[\"Ticket\"]), axis=1)\n",
    "    data[\"Ticket_class\"] = data.apply(lambda row: int(str(row[\"Ticket\"])[0]) if len(str(row[\"Ticket\"])) > 1 else np.nan, axis=1)\n",
    "    data[\"Ticket_class\"].fillna(data[\"Ticket_class\"].mean(), inplace=True)\n",
    "    data.drop([\"Ticket\"], axis=1, inplace=True)\n",
    "    \n",
    "    le = LabelEncoder()\n",
    "    data[\"Sex\"] = le.fit_transform(data[\"Sex\"])\n",
    "    data[\"Embarked\"] = le.fit_transform(data[\"Embarked\"])\n",
    "\n",
    "\n",
    "    data[\"Age\"].fillna(data[\"Age\"].mean(), inplace=True)\n",
    "    data[\"Cabin\"].fillna(data[\"Cabin\"].mean(), inplace=True)\n",
    "    data.fillna(data.mean(), inplace=True)\n",
    "\n",
    "    # data.dropna(inplace=True)\n",
    "\n",
    "    return data"
   ],
   "metadata": {
    "collapsed": false,
    "pycharm": {
     "name": "#%%\n"
    }
   }
  },
  {
   "cell_type": "code",
   "execution_count": null,
   "outputs": [],
   "source": [
    "preprocessing(titanic)\n",
    "titanic"
   ],
   "metadata": {
    "collapsed": false,
    "pycharm": {
     "name": "#%%\n"
    }
   }
  },
  {
   "cell_type": "markdown",
   "source": [
    "### Split columns\n",
    "to create datasets to predict and validate predictions.\n",
    "\n",
    "`titanic_x` has to be casted to numpy array because of \"categorical-feature\" parameter of MixedNB."
   ],
   "metadata": {
    "collapsed": false,
    "pycharm": {
     "name": "#%% md\n"
    }
   }
  },
  {
   "cell_type": "code",
   "execution_count": null,
   "outputs": [],
   "source": [
    "titanic_x = titanic.drop([\"Survived\"], axis=1)#.to_numpy()\n",
    "titanic_y = titanic[\"Survived\"]\n",
    "titanic_x"
   ],
   "metadata": {
    "collapsed": false,
    "pycharm": {
     "name": "#%%\n"
    }
   }
  },
  {
   "cell_type": "markdown",
   "source": [
    "Categorical columns are:"
   ],
   "metadata": {
    "collapsed": false,
    "pycharm": {
     "name": "#%% md\n"
    }
   }
  },
  {
   "cell_type": "code",
   "execution_count": null,
   "outputs": [],
   "source": [
    "# model = MixedNB(categorical_features=CATEGORICAL)\n",
    "# acc = []\n",
    "#\n",
    "# kf = KFold(n_splits=500, shuffle=True, random_state=1)\n",
    "# for train_index, test_index in kf.split(titanic_x):\n",
    "#     X_train, X_test = titanic_x[train_index, :], titanic_x[test_index, :]\n",
    "#     y_train, y_test = titanic_y.iloc[train_index], titanic_y.iloc[test_index]\n",
    "#\n",
    "#     model.fit(X_train, y_train)\n",
    "#     acc.append(model.score(X_test, y_test))\n",
    "#\n",
    "# print(np.mean(acc))"
   ],
   "metadata": {
    "collapsed": false,
    "pycharm": {
     "name": "#%%\n"
    }
   }
  },
  {
   "cell_type": "code",
   "execution_count": null,
   "outputs": [],
   "source": [
    "def objective(trial):\n",
    "    kf = KFold(n_splits=10, shuffle=True, random_state=8)\n",
    "    var_smth = trial.suggest_float(\"var_smth\", MIN_VS, MAX_VS, log=True)\n",
    "    # alpha = trial.suggest_float(\"alpha\",MIN_ALPHA, MAX_ALPHA)\n",
    "    # model = MixedNB(categorical_features=CATEGORICAL, var_smoothing=var_smth, alpha=alpha)\n",
    "    model = GaussianNB(var_smoothing=var_smth)\n",
    "    acc = []\n",
    "\n",
    "\n",
    "    for train_index, test_index in kf.split(titanic_x):\n",
    "        X_train, X_test = titanic_x.iloc[train_index, :], titanic_x.iloc[test_index, :]\n",
    "        y_train, y_test = titanic_y.iloc[train_index], titanic_y.iloc[test_index]\n",
    "\n",
    "        model.fit(X_train, y_train)\n",
    "        acc.append(model.score(X_test, y_test))\n",
    "    return np.mean(acc)"
   ],
   "metadata": {
    "collapsed": false,
    "pycharm": {
     "name": "#%%\n"
    }
   }
  },
  {
   "cell_type": "code",
   "execution_count": null,
   "outputs": [],
   "source": [
    "study = optuna.create_study(direction=\"maximize\")\n",
    "study.optimize(objective, n_trials=N_TRIALS, n_jobs=-1)\n",
    "print(f\"BEST TRIAL: {study.best_trial}\")\n",
    "\n",
    "# optuna.visualization.plot_slice(study).show()"
   ],
   "metadata": {
    "collapsed": false,
    "pycharm": {
     "name": "#%%\n"
    }
   }
  },
  {
   "cell_type": "code",
   "execution_count": null,
   "outputs": [],
   "source": [
    "optuna.visualization.plot_slice(study).show()"
   ],
   "metadata": {
    "collapsed": false,
    "pycharm": {
     "name": "#%%\n"
    }
   }
  },
  {
   "cell_type": "markdown",
   "source": [
    "## Generate test output"
   ],
   "metadata": {
    "collapsed": false,
    "pycharm": {
     "name": "#%% md\n"
    }
   }
  },
  {
   "cell_type": "code",
   "execution_count": null,
   "outputs": [],
   "source": [
    "titanic_test = pd.read_csv(\"./data/test.csv\")\n",
    "ids = titanic_test[\"PassengerId\"]\n",
    "print(f\"SHAPE: {titanic_test.shape}\")\n",
    "titanic_test = titanic_test.drop(DROP_LIST, axis=1)\n",
    "preprocessing(titanic_test)\n",
    "titanic_test"
   ],
   "metadata": {
    "collapsed": false,
    "pycharm": {
     "name": "#%%\n"
    }
   }
  },
  {
   "cell_type": "code",
   "execution_count": 15,
   "metadata": {
    "pycharm": {
     "name": "#%%\n"
    }
   },
   "outputs": [],
   "source": [
    "model = GaussianNB(var_smoothing=study.best_trial.params[\"var_smth\"])\n",
    "model.fit(titanic_x, titanic_y)\n",
    "survived = model.predict(titanic_test)\n",
    "survived = pd.DataFrame(survived, columns=[\"Survived\"])\n",
    "survived[\"PassengerId\"] = ids\n",
    "survived.to_csv(\"./results.csv\", index=False)"
   ]
  }
 ],
 "metadata": {
  "kernelspec": {
   "display_name": "Python 3 (ipykernel)",
   "language": "python",
   "name": "python3"
  },
  "language_info": {
   "codemirror_mode": {
    "name": "ipython",
    "version": 3
   },
   "file_extension": ".py",
   "mimetype": "text/x-python",
   "name": "python",
   "nbconvert_exporter": "python",
   "pygments_lexer": "ipython3",
   "version": "3.8.12"
  }
 },
 "nbformat": 4,
 "nbformat_minor": 4
}