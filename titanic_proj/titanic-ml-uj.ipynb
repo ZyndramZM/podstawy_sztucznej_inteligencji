{
 "cells": [
  {
   "cell_type": "markdown",
   "source": [
    "# Titanic competition - GaussianNB\n",
    "\n",
    "In this approach I will try to reach great score using simple Mixed GaussianNB algorithm.\n",
    "\n",
    "`var_smoothing` parameter is adjusted using Optuna"
   ],
   "metadata": {
    "collapsed": false,
    "pycharm": {
     "name": "#%% md\n"
    }
   }
  },
  {
   "cell_type": "markdown",
   "source": [
    "### Imports & settings"
   ],
   "metadata": {
    "collapsed": false,
    "pycharm": {
     "name": "#%% md\n"
    }
   }
  },
  {
   "cell_type": "code",
   "execution_count": 174,
   "metadata": {
    "_cell_guid": "b1076dfc-b9ad-4769-8c92-a6c4dae69d19",
    "_uuid": "8f2839f25d086af736a60e9eeb907d3b93b6e0e5",
    "execution": {
     "iopub.execute_input": "2022-05-16T01:26:38.670295Z",
     "iopub.status.busy": "2022-05-16T01:26:38.669687Z",
     "iopub.status.idle": "2022-05-16T01:26:38.675440Z",
     "shell.execute_reply": "2022-05-16T01:26:38.674601Z",
     "shell.execute_reply.started": "2022-05-16T01:26:38.670259Z"
    },
    "pycharm": {
     "name": "#%%\n"
    }
   },
   "outputs": [],
   "source": [
    "import numpy as np\n",
    "import pandas as pd\n",
    "import plotly.express as px\n",
    "\n",
    "from sklearn.naive_bayes import GaussianNB\n",
    "from mixed_naive_bayes import MixedNB\n",
    "from sklearn.preprocessing import LabelEncoder\n",
    "from sklearn.model_selection import KFold, LeaveOneOut\n",
    "\n",
    "import optuna\n",
    "\n",
    "MIN_VS = 1e-50\n",
    "MAX_VS = 1e-4\n",
    "\n",
    "MIN_ALPHA = 0\n",
    "MAX_ALPHA = 1\n",
    "\n",
    "N_TRIALS = 100\n"
   ]
  },
  {
   "cell_type": "markdown",
   "source": [
    "### Get train dataset"
   ],
   "metadata": {
    "collapsed": false,
    "pycharm": {
     "name": "#%% md\n"
    }
   }
  },
  {
   "cell_type": "code",
   "execution_count": 175,
   "metadata": {
    "execution": {
     "iopub.execute_input": "2022-05-16T01:26:39.063463Z",
     "iopub.status.busy": "2022-05-16T01:26:39.062839Z",
     "iopub.status.idle": "2022-05-16T01:26:39.093456Z",
     "shell.execute_reply": "2022-05-16T01:26:39.092672Z",
     "shell.execute_reply.started": "2022-05-16T01:26:39.063413Z"
    },
    "pycharm": {
     "name": "#%%\n"
    }
   },
   "outputs": [
    {
     "data": {
      "text/plain": "     PassengerId  Survived  Pclass  \\\n0              1         0       3   \n1              2         1       1   \n2              3         1       3   \n3              4         1       1   \n4              5         0       3   \n..           ...       ...     ...   \n886          887         0       2   \n887          888         1       1   \n888          889         0       3   \n889          890         1       1   \n890          891         0       3   \n\n                                                  Name     Sex   Age  SibSp  \\\n0                              Braund, Mr. Owen Harris    male  22.0      1   \n1    Cumings, Mrs. John Bradley (Florence Briggs Th...  female  38.0      1   \n2                               Heikkinen, Miss. Laina  female  26.0      0   \n3         Futrelle, Mrs. Jacques Heath (Lily May Peel)  female  35.0      1   \n4                             Allen, Mr. William Henry    male  35.0      0   \n..                                                 ...     ...   ...    ...   \n886                              Montvila, Rev. Juozas    male  27.0      0   \n887                       Graham, Miss. Margaret Edith  female  19.0      0   \n888           Johnston, Miss. Catherine Helen \"Carrie\"  female   NaN      1   \n889                              Behr, Mr. Karl Howell    male  26.0      0   \n890                                Dooley, Mr. Patrick    male  32.0      0   \n\n     Parch            Ticket     Fare Cabin Embarked  \n0        0         A/5 21171   7.2500   NaN        S  \n1        0          PC 17599  71.2833   C85        C  \n2        0  STON/O2. 3101282   7.9250   NaN        S  \n3        0            113803  53.1000  C123        S  \n4        0            373450   8.0500   NaN        S  \n..     ...               ...      ...   ...      ...  \n886      0            211536  13.0000   NaN        S  \n887      0            112053  30.0000   B42        S  \n888      2        W./C. 6607  23.4500   NaN        S  \n889      0            111369  30.0000  C148        C  \n890      0            370376   7.7500   NaN        Q  \n\n[891 rows x 12 columns]",
      "text/html": "<div>\n<style scoped>\n    .dataframe tbody tr th:only-of-type {\n        vertical-align: middle;\n    }\n\n    .dataframe tbody tr th {\n        vertical-align: top;\n    }\n\n    .dataframe thead th {\n        text-align: right;\n    }\n</style>\n<table border=\"1\" class=\"dataframe\">\n  <thead>\n    <tr style=\"text-align: right;\">\n      <th></th>\n      <th>PassengerId</th>\n      <th>Survived</th>\n      <th>Pclass</th>\n      <th>Name</th>\n      <th>Sex</th>\n      <th>Age</th>\n      <th>SibSp</th>\n      <th>Parch</th>\n      <th>Ticket</th>\n      <th>Fare</th>\n      <th>Cabin</th>\n      <th>Embarked</th>\n    </tr>\n  </thead>\n  <tbody>\n    <tr>\n      <th>0</th>\n      <td>1</td>\n      <td>0</td>\n      <td>3</td>\n      <td>Braund, Mr. Owen Harris</td>\n      <td>male</td>\n      <td>22.0</td>\n      <td>1</td>\n      <td>0</td>\n      <td>A/5 21171</td>\n      <td>7.2500</td>\n      <td>NaN</td>\n      <td>S</td>\n    </tr>\n    <tr>\n      <th>1</th>\n      <td>2</td>\n      <td>1</td>\n      <td>1</td>\n      <td>Cumings, Mrs. John Bradley (Florence Briggs Th...</td>\n      <td>female</td>\n      <td>38.0</td>\n      <td>1</td>\n      <td>0</td>\n      <td>PC 17599</td>\n      <td>71.2833</td>\n      <td>C85</td>\n      <td>C</td>\n    </tr>\n    <tr>\n      <th>2</th>\n      <td>3</td>\n      <td>1</td>\n      <td>3</td>\n      <td>Heikkinen, Miss. Laina</td>\n      <td>female</td>\n      <td>26.0</td>\n      <td>0</td>\n      <td>0</td>\n      <td>STON/O2. 3101282</td>\n      <td>7.9250</td>\n      <td>NaN</td>\n      <td>S</td>\n    </tr>\n    <tr>\n      <th>3</th>\n      <td>4</td>\n      <td>1</td>\n      <td>1</td>\n      <td>Futrelle, Mrs. Jacques Heath (Lily May Peel)</td>\n      <td>female</td>\n      <td>35.0</td>\n      <td>1</td>\n      <td>0</td>\n      <td>113803</td>\n      <td>53.1000</td>\n      <td>C123</td>\n      <td>S</td>\n    </tr>\n    <tr>\n      <th>4</th>\n      <td>5</td>\n      <td>0</td>\n      <td>3</td>\n      <td>Allen, Mr. William Henry</td>\n      <td>male</td>\n      <td>35.0</td>\n      <td>0</td>\n      <td>0</td>\n      <td>373450</td>\n      <td>8.0500</td>\n      <td>NaN</td>\n      <td>S</td>\n    </tr>\n    <tr>\n      <th>...</th>\n      <td>...</td>\n      <td>...</td>\n      <td>...</td>\n      <td>...</td>\n      <td>...</td>\n      <td>...</td>\n      <td>...</td>\n      <td>...</td>\n      <td>...</td>\n      <td>...</td>\n      <td>...</td>\n      <td>...</td>\n    </tr>\n    <tr>\n      <th>886</th>\n      <td>887</td>\n      <td>0</td>\n      <td>2</td>\n      <td>Montvila, Rev. Juozas</td>\n      <td>male</td>\n      <td>27.0</td>\n      <td>0</td>\n      <td>0</td>\n      <td>211536</td>\n      <td>13.0000</td>\n      <td>NaN</td>\n      <td>S</td>\n    </tr>\n    <tr>\n      <th>887</th>\n      <td>888</td>\n      <td>1</td>\n      <td>1</td>\n      <td>Graham, Miss. Margaret Edith</td>\n      <td>female</td>\n      <td>19.0</td>\n      <td>0</td>\n      <td>0</td>\n      <td>112053</td>\n      <td>30.0000</td>\n      <td>B42</td>\n      <td>S</td>\n    </tr>\n    <tr>\n      <th>888</th>\n      <td>889</td>\n      <td>0</td>\n      <td>3</td>\n      <td>Johnston, Miss. Catherine Helen \"Carrie\"</td>\n      <td>female</td>\n      <td>NaN</td>\n      <td>1</td>\n      <td>2</td>\n      <td>W./C. 6607</td>\n      <td>23.4500</td>\n      <td>NaN</td>\n      <td>S</td>\n    </tr>\n    <tr>\n      <th>889</th>\n      <td>890</td>\n      <td>1</td>\n      <td>1</td>\n      <td>Behr, Mr. Karl Howell</td>\n      <td>male</td>\n      <td>26.0</td>\n      <td>0</td>\n      <td>0</td>\n      <td>111369</td>\n      <td>30.0000</td>\n      <td>C148</td>\n      <td>C</td>\n    </tr>\n    <tr>\n      <th>890</th>\n      <td>891</td>\n      <td>0</td>\n      <td>3</td>\n      <td>Dooley, Mr. Patrick</td>\n      <td>male</td>\n      <td>32.0</td>\n      <td>0</td>\n      <td>0</td>\n      <td>370376</td>\n      <td>7.7500</td>\n      <td>NaN</td>\n      <td>Q</td>\n    </tr>\n  </tbody>\n</table>\n<p>891 rows × 12 columns</p>\n</div>"
     },
     "execution_count": 175,
     "metadata": {},
     "output_type": "execute_result"
    }
   ],
   "source": [
    "titanic = pd.read_csv(\"./data/train.csv\")\n",
    "titanic"
   ]
  },
  {
   "cell_type": "markdown",
   "source": [
    "## Dataset INFO"
   ],
   "metadata": {
    "collapsed": false,
    "pycharm": {
     "name": "#%% md\n"
    }
   }
  },
  {
   "cell_type": "code",
   "execution_count": 176,
   "outputs": [
    {
     "name": "stdout",
     "output_type": "stream",
     "text": [
      "<class 'pandas.core.frame.DataFrame'>\n",
      "RangeIndex: 891 entries, 0 to 890\n",
      "Data columns (total 12 columns):\n",
      " #   Column       Non-Null Count  Dtype  \n",
      "---  ------       --------------  -----  \n",
      " 0   PassengerId  891 non-null    int64  \n",
      " 1   Survived     891 non-null    int64  \n",
      " 2   Pclass       891 non-null    int64  \n",
      " 3   Name         891 non-null    object \n",
      " 4   Sex          891 non-null    object \n",
      " 5   Age          714 non-null    float64\n",
      " 6   SibSp        891 non-null    int64  \n",
      " 7   Parch        891 non-null    int64  \n",
      " 8   Ticket       891 non-null    object \n",
      " 9   Fare         891 non-null    float64\n",
      " 10  Cabin        204 non-null    object \n",
      " 11  Embarked     889 non-null    object \n",
      "dtypes: float64(2), int64(5), object(5)\n",
      "memory usage: 83.7+ KB\n"
     ]
    }
   ],
   "source": [
    "titanic.info()"
   ],
   "metadata": {
    "collapsed": false,
    "pycharm": {
     "name": "#%%\n"
    }
   }
  },
  {
   "cell_type": "markdown",
   "source": [
    "### Drop columns\n",
    "Which are difficult to process"
   ],
   "metadata": {
    "collapsed": false,
    "pycharm": {
     "name": "#%% md\n"
    }
   }
  },
  {
   "cell_type": "code",
   "execution_count": 177,
   "metadata": {
    "execution": {
     "iopub.execute_input": "2022-05-16T01:26:39.441538Z",
     "iopub.status.busy": "2022-05-16T01:26:39.441251Z",
     "iopub.status.idle": "2022-05-16T01:26:39.462018Z",
     "shell.execute_reply": "2022-05-16T01:26:39.461182Z",
     "shell.execute_reply.started": "2022-05-16T01:26:39.441506Z"
    },
    "pycharm": {
     "name": "#%%\n"
    }
   },
   "outputs": [
    {
     "data": {
      "text/plain": "     Survived  Pclass     Sex   Age  SibSp  Parch     Fare Cabin Embarked\n0           0       3    male  22.0      1      0   7.2500   NaN        S\n1           1       1  female  38.0      1      0  71.2833   C85        C\n2           1       3  female  26.0      0      0   7.9250   NaN        S\n3           1       1  female  35.0      1      0  53.1000  C123        S\n4           0       3    male  35.0      0      0   8.0500   NaN        S\n..        ...     ...     ...   ...    ...    ...      ...   ...      ...\n886         0       2    male  27.0      0      0  13.0000   NaN        S\n887         1       1  female  19.0      0      0  30.0000   B42        S\n888         0       3  female   NaN      1      2  23.4500   NaN        S\n889         1       1    male  26.0      0      0  30.0000  C148        C\n890         0       3    male  32.0      0      0   7.7500   NaN        Q\n\n[891 rows x 9 columns]",
      "text/html": "<div>\n<style scoped>\n    .dataframe tbody tr th:only-of-type {\n        vertical-align: middle;\n    }\n\n    .dataframe tbody tr th {\n        vertical-align: top;\n    }\n\n    .dataframe thead th {\n        text-align: right;\n    }\n</style>\n<table border=\"1\" class=\"dataframe\">\n  <thead>\n    <tr style=\"text-align: right;\">\n      <th></th>\n      <th>Survived</th>\n      <th>Pclass</th>\n      <th>Sex</th>\n      <th>Age</th>\n      <th>SibSp</th>\n      <th>Parch</th>\n      <th>Fare</th>\n      <th>Cabin</th>\n      <th>Embarked</th>\n    </tr>\n  </thead>\n  <tbody>\n    <tr>\n      <th>0</th>\n      <td>0</td>\n      <td>3</td>\n      <td>male</td>\n      <td>22.0</td>\n      <td>1</td>\n      <td>0</td>\n      <td>7.2500</td>\n      <td>NaN</td>\n      <td>S</td>\n    </tr>\n    <tr>\n      <th>1</th>\n      <td>1</td>\n      <td>1</td>\n      <td>female</td>\n      <td>38.0</td>\n      <td>1</td>\n      <td>0</td>\n      <td>71.2833</td>\n      <td>C85</td>\n      <td>C</td>\n    </tr>\n    <tr>\n      <th>2</th>\n      <td>1</td>\n      <td>3</td>\n      <td>female</td>\n      <td>26.0</td>\n      <td>0</td>\n      <td>0</td>\n      <td>7.9250</td>\n      <td>NaN</td>\n      <td>S</td>\n    </tr>\n    <tr>\n      <th>3</th>\n      <td>1</td>\n      <td>1</td>\n      <td>female</td>\n      <td>35.0</td>\n      <td>1</td>\n      <td>0</td>\n      <td>53.1000</td>\n      <td>C123</td>\n      <td>S</td>\n    </tr>\n    <tr>\n      <th>4</th>\n      <td>0</td>\n      <td>3</td>\n      <td>male</td>\n      <td>35.0</td>\n      <td>0</td>\n      <td>0</td>\n      <td>8.0500</td>\n      <td>NaN</td>\n      <td>S</td>\n    </tr>\n    <tr>\n      <th>...</th>\n      <td>...</td>\n      <td>...</td>\n      <td>...</td>\n      <td>...</td>\n      <td>...</td>\n      <td>...</td>\n      <td>...</td>\n      <td>...</td>\n      <td>...</td>\n    </tr>\n    <tr>\n      <th>886</th>\n      <td>0</td>\n      <td>2</td>\n      <td>male</td>\n      <td>27.0</td>\n      <td>0</td>\n      <td>0</td>\n      <td>13.0000</td>\n      <td>NaN</td>\n      <td>S</td>\n    </tr>\n    <tr>\n      <th>887</th>\n      <td>1</td>\n      <td>1</td>\n      <td>female</td>\n      <td>19.0</td>\n      <td>0</td>\n      <td>0</td>\n      <td>30.0000</td>\n      <td>B42</td>\n      <td>S</td>\n    </tr>\n    <tr>\n      <th>888</th>\n      <td>0</td>\n      <td>3</td>\n      <td>female</td>\n      <td>NaN</td>\n      <td>1</td>\n      <td>2</td>\n      <td>23.4500</td>\n      <td>NaN</td>\n      <td>S</td>\n    </tr>\n    <tr>\n      <th>889</th>\n      <td>1</td>\n      <td>1</td>\n      <td>male</td>\n      <td>26.0</td>\n      <td>0</td>\n      <td>0</td>\n      <td>30.0000</td>\n      <td>C148</td>\n      <td>C</td>\n    </tr>\n    <tr>\n      <th>890</th>\n      <td>0</td>\n      <td>3</td>\n      <td>male</td>\n      <td>32.0</td>\n      <td>0</td>\n      <td>0</td>\n      <td>7.7500</td>\n      <td>NaN</td>\n      <td>Q</td>\n    </tr>\n  </tbody>\n</table>\n<p>891 rows × 9 columns</p>\n</div>"
     },
     "execution_count": 177,
     "metadata": {},
     "output_type": "execute_result"
    }
   ],
   "source": [
    "drop_list = [\"PassengerId\", \"Name\", \"Ticket\"]\n",
    "titanic = titanic.drop(drop_list, axis=1)\n",
    "titanic"
   ]
  },
  {
   "cell_type": "markdown",
   "source": [
    "### Prepare data for algorithm\n",
    "* In `Cabin` leave only firs letter (which means sector in which cabin is placed)\n",
    "* Adjust labels for `Sex`, `Embarked` and `Cabin` using LabelEncoder\n",
    "* Fill NaN values in `Age` with mean of this column"
   ],
   "metadata": {
    "collapsed": false,
    "pycharm": {
     "name": "#%% md\n"
    }
   }
  },
  {
   "cell_type": "code",
   "execution_count": 178,
   "outputs": [
    {
     "data": {
      "text/plain": "     Survived  Pclass  Sex        Age  SibSp  Parch     Fare    Cabin  \\\n0           0       3    1  22.000000      1      0   7.2500  2.45098   \n1           1       1    0  38.000000      1      0  71.2833  2.00000   \n2           1       3    0  26.000000      0      0   7.9250  2.45098   \n3           1       1    0  35.000000      1      0  53.1000  2.00000   \n4           0       3    1  35.000000      0      0   8.0500  2.45098   \n..        ...     ...  ...        ...    ...    ...      ...      ...   \n886         0       2    1  27.000000      0      0  13.0000  2.45098   \n887         1       1    0  19.000000      0      0  30.0000  1.00000   \n888         0       3    0  29.699118      1      2  23.4500  2.45098   \n889         1       1    1  26.000000      0      0  30.0000  2.00000   \n890         0       3    1  32.000000      0      0   7.7500  2.45098   \n\n     Embarked  \n0           2  \n1           0  \n2           2  \n3           2  \n4           2  \n..        ...  \n886         2  \n887         2  \n888         2  \n889         0  \n890         1  \n\n[891 rows x 9 columns]",
      "text/html": "<div>\n<style scoped>\n    .dataframe tbody tr th:only-of-type {\n        vertical-align: middle;\n    }\n\n    .dataframe tbody tr th {\n        vertical-align: top;\n    }\n\n    .dataframe thead th {\n        text-align: right;\n    }\n</style>\n<table border=\"1\" class=\"dataframe\">\n  <thead>\n    <tr style=\"text-align: right;\">\n      <th></th>\n      <th>Survived</th>\n      <th>Pclass</th>\n      <th>Sex</th>\n      <th>Age</th>\n      <th>SibSp</th>\n      <th>Parch</th>\n      <th>Fare</th>\n      <th>Cabin</th>\n      <th>Embarked</th>\n    </tr>\n  </thead>\n  <tbody>\n    <tr>\n      <th>0</th>\n      <td>0</td>\n      <td>3</td>\n      <td>1</td>\n      <td>22.000000</td>\n      <td>1</td>\n      <td>0</td>\n      <td>7.2500</td>\n      <td>2.45098</td>\n      <td>2</td>\n    </tr>\n    <tr>\n      <th>1</th>\n      <td>1</td>\n      <td>1</td>\n      <td>0</td>\n      <td>38.000000</td>\n      <td>1</td>\n      <td>0</td>\n      <td>71.2833</td>\n      <td>2.00000</td>\n      <td>0</td>\n    </tr>\n    <tr>\n      <th>2</th>\n      <td>1</td>\n      <td>3</td>\n      <td>0</td>\n      <td>26.000000</td>\n      <td>0</td>\n      <td>0</td>\n      <td>7.9250</td>\n      <td>2.45098</td>\n      <td>2</td>\n    </tr>\n    <tr>\n      <th>3</th>\n      <td>1</td>\n      <td>1</td>\n      <td>0</td>\n      <td>35.000000</td>\n      <td>1</td>\n      <td>0</td>\n      <td>53.1000</td>\n      <td>2.00000</td>\n      <td>2</td>\n    </tr>\n    <tr>\n      <th>4</th>\n      <td>0</td>\n      <td>3</td>\n      <td>1</td>\n      <td>35.000000</td>\n      <td>0</td>\n      <td>0</td>\n      <td>8.0500</td>\n      <td>2.45098</td>\n      <td>2</td>\n    </tr>\n    <tr>\n      <th>...</th>\n      <td>...</td>\n      <td>...</td>\n      <td>...</td>\n      <td>...</td>\n      <td>...</td>\n      <td>...</td>\n      <td>...</td>\n      <td>...</td>\n      <td>...</td>\n    </tr>\n    <tr>\n      <th>886</th>\n      <td>0</td>\n      <td>2</td>\n      <td>1</td>\n      <td>27.000000</td>\n      <td>0</td>\n      <td>0</td>\n      <td>13.0000</td>\n      <td>2.45098</td>\n      <td>2</td>\n    </tr>\n    <tr>\n      <th>887</th>\n      <td>1</td>\n      <td>1</td>\n      <td>0</td>\n      <td>19.000000</td>\n      <td>0</td>\n      <td>0</td>\n      <td>30.0000</td>\n      <td>1.00000</td>\n      <td>2</td>\n    </tr>\n    <tr>\n      <th>888</th>\n      <td>0</td>\n      <td>3</td>\n      <td>0</td>\n      <td>29.699118</td>\n      <td>1</td>\n      <td>2</td>\n      <td>23.4500</td>\n      <td>2.45098</td>\n      <td>2</td>\n    </tr>\n    <tr>\n      <th>889</th>\n      <td>1</td>\n      <td>1</td>\n      <td>1</td>\n      <td>26.000000</td>\n      <td>0</td>\n      <td>0</td>\n      <td>30.0000</td>\n      <td>2.00000</td>\n      <td>0</td>\n    </tr>\n    <tr>\n      <th>890</th>\n      <td>0</td>\n      <td>3</td>\n      <td>1</td>\n      <td>32.000000</td>\n      <td>0</td>\n      <td>0</td>\n      <td>7.7500</td>\n      <td>2.45098</td>\n      <td>1</td>\n    </tr>\n  </tbody>\n</table>\n<p>891 rows × 9 columns</p>\n</div>"
     },
     "execution_count": 178,
     "metadata": {},
     "output_type": "execute_result"
    }
   ],
   "source": [
    "titanic[\"Cabin\"] = titanic.apply(lambda row: ord(str(row[\"Cabin\"])[0])-ord('A') if str(row[\"Cabin\"])[0] != \"n\" else np.nan, axis=1)\n",
    "\n",
    "le = LabelEncoder()\n",
    "titanic[\"Sex\"] = le.fit_transform(titanic[\"Sex\"])\n",
    "titanic[\"Embarked\"] = le.fit_transform(titanic[\"Embarked\"])\n",
    "\n",
    "\n",
    "titanic[\"Age\"].fillna(titanic[\"Age\"].mean(), inplace=True)\n",
    "titanic[\"Cabin\"].fillna(titanic[\"Cabin\"].mean(), inplace=True)\n",
    "\n",
    "titanic"
   ],
   "metadata": {
    "collapsed": false,
    "pycharm": {
     "name": "#%%\n"
    }
   }
  },
  {
   "cell_type": "markdown",
   "source": [
    "### Split columns\n",
    "to create datasets to predict and validate predictions.\n",
    "\n",
    "`titanic_x` has to be casted to numpy array because of \"categorical-feature\" parameter of MixedNB."
   ],
   "metadata": {
    "collapsed": false,
    "pycharm": {
     "name": "#%% md\n"
    }
   }
  },
  {
   "cell_type": "code",
   "execution_count": 179,
   "metadata": {
    "execution": {
     "iopub.execute_input": "2022-05-16T01:26:40.039947Z",
     "iopub.status.busy": "2022-05-16T01:26:40.039647Z",
     "iopub.status.idle": "2022-05-16T01:26:40.045892Z",
     "shell.execute_reply": "2022-05-16T01:26:40.045068Z",
     "shell.execute_reply.started": "2022-05-16T01:26:40.039916Z"
    },
    "pycharm": {
     "name": "#%%\n"
    }
   },
   "outputs": [
    {
     "data": {
      "text/plain": "     Pclass  Sex        Age  SibSp  Parch     Fare    Cabin  Embarked\n0         3    1  22.000000      1      0   7.2500  2.45098         2\n1         1    0  38.000000      1      0  71.2833  2.00000         0\n2         3    0  26.000000      0      0   7.9250  2.45098         2\n3         1    0  35.000000      1      0  53.1000  2.00000         2\n4         3    1  35.000000      0      0   8.0500  2.45098         2\n..      ...  ...        ...    ...    ...      ...      ...       ...\n886       2    1  27.000000      0      0  13.0000  2.45098         2\n887       1    0  19.000000      0      0  30.0000  1.00000         2\n888       3    0  29.699118      1      2  23.4500  2.45098         2\n889       1    1  26.000000      0      0  30.0000  2.00000         0\n890       3    1  32.000000      0      0   7.7500  2.45098         1\n\n[891 rows x 8 columns]",
      "text/html": "<div>\n<style scoped>\n    .dataframe tbody tr th:only-of-type {\n        vertical-align: middle;\n    }\n\n    .dataframe tbody tr th {\n        vertical-align: top;\n    }\n\n    .dataframe thead th {\n        text-align: right;\n    }\n</style>\n<table border=\"1\" class=\"dataframe\">\n  <thead>\n    <tr style=\"text-align: right;\">\n      <th></th>\n      <th>Pclass</th>\n      <th>Sex</th>\n      <th>Age</th>\n      <th>SibSp</th>\n      <th>Parch</th>\n      <th>Fare</th>\n      <th>Cabin</th>\n      <th>Embarked</th>\n    </tr>\n  </thead>\n  <tbody>\n    <tr>\n      <th>0</th>\n      <td>3</td>\n      <td>1</td>\n      <td>22.000000</td>\n      <td>1</td>\n      <td>0</td>\n      <td>7.2500</td>\n      <td>2.45098</td>\n      <td>2</td>\n    </tr>\n    <tr>\n      <th>1</th>\n      <td>1</td>\n      <td>0</td>\n      <td>38.000000</td>\n      <td>1</td>\n      <td>0</td>\n      <td>71.2833</td>\n      <td>2.00000</td>\n      <td>0</td>\n    </tr>\n    <tr>\n      <th>2</th>\n      <td>3</td>\n      <td>0</td>\n      <td>26.000000</td>\n      <td>0</td>\n      <td>0</td>\n      <td>7.9250</td>\n      <td>2.45098</td>\n      <td>2</td>\n    </tr>\n    <tr>\n      <th>3</th>\n      <td>1</td>\n      <td>0</td>\n      <td>35.000000</td>\n      <td>1</td>\n      <td>0</td>\n      <td>53.1000</td>\n      <td>2.00000</td>\n      <td>2</td>\n    </tr>\n    <tr>\n      <th>4</th>\n      <td>3</td>\n      <td>1</td>\n      <td>35.000000</td>\n      <td>0</td>\n      <td>0</td>\n      <td>8.0500</td>\n      <td>2.45098</td>\n      <td>2</td>\n    </tr>\n    <tr>\n      <th>...</th>\n      <td>...</td>\n      <td>...</td>\n      <td>...</td>\n      <td>...</td>\n      <td>...</td>\n      <td>...</td>\n      <td>...</td>\n      <td>...</td>\n    </tr>\n    <tr>\n      <th>886</th>\n      <td>2</td>\n      <td>1</td>\n      <td>27.000000</td>\n      <td>0</td>\n      <td>0</td>\n      <td>13.0000</td>\n      <td>2.45098</td>\n      <td>2</td>\n    </tr>\n    <tr>\n      <th>887</th>\n      <td>1</td>\n      <td>0</td>\n      <td>19.000000</td>\n      <td>0</td>\n      <td>0</td>\n      <td>30.0000</td>\n      <td>1.00000</td>\n      <td>2</td>\n    </tr>\n    <tr>\n      <th>888</th>\n      <td>3</td>\n      <td>0</td>\n      <td>29.699118</td>\n      <td>1</td>\n      <td>2</td>\n      <td>23.4500</td>\n      <td>2.45098</td>\n      <td>2</td>\n    </tr>\n    <tr>\n      <th>889</th>\n      <td>1</td>\n      <td>1</td>\n      <td>26.000000</td>\n      <td>0</td>\n      <td>0</td>\n      <td>30.0000</td>\n      <td>2.00000</td>\n      <td>0</td>\n    </tr>\n    <tr>\n      <th>890</th>\n      <td>3</td>\n      <td>1</td>\n      <td>32.000000</td>\n      <td>0</td>\n      <td>0</td>\n      <td>7.7500</td>\n      <td>2.45098</td>\n      <td>1</td>\n    </tr>\n  </tbody>\n</table>\n<p>891 rows × 8 columns</p>\n</div>"
     },
     "execution_count": 179,
     "metadata": {},
     "output_type": "execute_result"
    }
   ],
   "source": [
    "titanic_x = titanic.drop([\"Survived\"], axis=1)#.to_numpy()\n",
    "titanic_y = titanic[\"Survived\"]\n",
    "titanic_x"
   ]
  },
  {
   "cell_type": "markdown",
   "source": [
    "Categorical columns are:"
   ],
   "metadata": {
    "collapsed": false,
    "pycharm": {
     "name": "#%% md\n"
    }
   }
  },
  {
   "cell_type": "code",
   "execution_count": 129,
   "outputs": [],
   "source": [
    "CATEGORICAL = [1, 6, 7]"
   ],
   "metadata": {
    "collapsed": false,
    "pycharm": {
     "name": "#%%\n"
    }
   }
  },
  {
   "cell_type": "code",
   "execution_count": 130,
   "outputs": [],
   "source": [
    "# model = MixedNB(categorical_features=CATEGORICAL)\n",
    "# acc = []\n",
    "#\n",
    "# kf = KFold(n_splits=500, shuffle=True, random_state=1)\n",
    "# for train_index, test_index in kf.split(titanic_x):\n",
    "#     X_train, X_test = titanic_x[train_index, :], titanic_x[test_index, :]\n",
    "#     y_train, y_test = titanic_y.iloc[train_index], titanic_y.iloc[test_index]\n",
    "#\n",
    "#     model.fit(X_train, y_train)\n",
    "#     acc.append(model.score(X_test, y_test))\n",
    "#\n",
    "# print(np.mean(acc))"
   ],
   "metadata": {
    "collapsed": false,
    "pycharm": {
     "name": "#%%\n"
    }
   }
  },
  {
   "cell_type": "code",
   "execution_count": 180,
   "metadata": {
    "execution": {
     "iopub.execute_input": "2022-05-16T01:26:40.698560Z",
     "iopub.status.busy": "2022-05-16T01:26:40.697964Z",
     "iopub.status.idle": "2022-05-16T01:26:40.705766Z",
     "shell.execute_reply": "2022-05-16T01:26:40.704915Z",
     "shell.execute_reply.started": "2022-05-16T01:26:40.698520Z"
    },
    "pycharm": {
     "name": "#%%\n"
    }
   },
   "outputs": [],
   "source": [
    "def objective(trial):\n",
    "    kf = KFold(n_splits=10, shuffle=True, random_state=10)\n",
    "    var_smth = trial.suggest_float(\"var_smth\", MIN_VS, MAX_VS, log=True)\n",
    "    # alpha = trial.suggest_float(\"alpha\",MIN_ALPHA, MAX_ALPHA)\n",
    "    # model = MixedNB(categorical_features=CATEGORICAL, var_smoothing=var_smth, alpha=alpha)\n",
    "    model = GaussianNB(var_smoothing=var_smth)\n",
    "    acc = []\n",
    "\n",
    "\n",
    "    for train_index, test_index in kf.split(titanic_x):\n",
    "        X_train, X_test = titanic_x.iloc[train_index, :], titanic_x.iloc[test_index, :]\n",
    "        y_train, y_test = titanic_y.iloc[train_index], titanic_y.iloc[test_index]\n",
    "\n",
    "        model.fit(X_train, y_train)\n",
    "        acc.append(model.score(X_test, y_test))\n",
    "    return np.mean(acc)"
   ]
  },
  {
   "cell_type": "code",
   "execution_count": 181,
   "metadata": {
    "execution": {
     "iopub.execute_input": "2022-05-16T01:26:40.761229Z",
     "iopub.status.busy": "2022-05-16T01:26:40.760403Z",
     "iopub.status.idle": "2022-05-16T01:29:04.851898Z",
     "shell.execute_reply": "2022-05-16T01:29:04.850583Z",
     "shell.execute_reply.started": "2022-05-16T01:26:40.761189Z"
    },
    "pycharm": {
     "name": "#%%\n"
    }
   },
   "outputs": [
    {
     "name": "stderr",
     "output_type": "stream",
     "text": [
      "\u001B[32m[I 2022-05-18 00:38:51,461]\u001B[0m A new study created in memory with name: no-name-ddd16656-e871-468b-bb93-44ecc95f41c6\u001B[0m\n",
      "C:\\ProgramData\\Anaconda3\\envs\\podstawy_sztucznej_inteligencji\\lib\\site-packages\\optuna\\study\\study.py:393: FutureWarning:\n",
      "\n",
      "`n_jobs` argument has been deprecated in v2.7.0. This feature will be removed in v4.0.0. See https://github.com/optuna/optuna/releases/tag/v2.7.0.\n",
      "\n",
      "\u001B[32m[I 2022-05-18 00:38:53,033]\u001B[0m Trial 2 finished with value: 0.7889887640449438 and parameters: {'var_smth': 2.1332748781324394e-44}. Best is trial 2 with value: 0.7889887640449438.\u001B[0m\n",
      "\u001B[32m[I 2022-05-18 00:38:53,093]\u001B[0m Trial 1 finished with value: 0.7844694132334582 and parameters: {'var_smth': 1.7154879764145393e-05}. Best is trial 2 with value: 0.7889887640449438.\u001B[0m\n",
      "\u001B[32m[I 2022-05-18 00:38:53,203]\u001B[0m Trial 8 finished with value: 0.7889887640449438 and parameters: {'var_smth': 1.3104356498883945e-48}. Best is trial 2 with value: 0.7889887640449438.\u001B[0m\n",
      "\u001B[32m[I 2022-05-18 00:38:53,252]\u001B[0m Trial 6 finished with value: 0.7889887640449438 and parameters: {'var_smth': 1.7956224886361652e-17}. Best is trial 2 with value: 0.7889887640449438.\u001B[0m\n",
      "\u001B[32m[I 2022-05-18 00:38:53,275]\u001B[0m Trial 3 finished with value: 0.7889887640449438 and parameters: {'var_smth': 3.236125777867906e-48}. Best is trial 2 with value: 0.7889887640449438.\u001B[0m\n",
      "\u001B[32m[I 2022-05-18 00:38:53,280]\u001B[0m Trial 7 finished with value: 0.7889887640449438 and parameters: {'var_smth': 6.955231769044193e-39}. Best is trial 2 with value: 0.7889887640449438.\u001B[0m\n",
      "\u001B[32m[I 2022-05-18 00:38:53,323]\u001B[0m Trial 11 finished with value: 0.7889887640449438 and parameters: {'var_smth': 3.741709795158303e-08}. Best is trial 2 with value: 0.7889887640449438.\u001B[0m\n",
      "\u001B[32m[I 2022-05-18 00:38:53,337]\u001B[0m Trial 9 finished with value: 0.7889887640449438 and parameters: {'var_smth': 6.994563686308451e-10}. Best is trial 2 with value: 0.7889887640449438.\u001B[0m\n",
      "\u001B[32m[I 2022-05-18 00:38:53,351]\u001B[0m Trial 4 finished with value: 0.7889887640449438 and parameters: {'var_smth': 1.3190639321002502e-34}. Best is trial 2 with value: 0.7889887640449438.\u001B[0m\n",
      "\u001B[32m[I 2022-05-18 00:38:53,358]\u001B[0m Trial 10 finished with value: 0.7889887640449438 and parameters: {'var_smth': 4.874109736538876e-49}. Best is trial 2 with value: 0.7889887640449438.\u001B[0m\n",
      "\u001B[32m[I 2022-05-18 00:38:53,370]\u001B[0m Trial 0 finished with value: 0.7889887640449438 and parameters: {'var_smth': 1.9415024011039203e-24}. Best is trial 2 with value: 0.7889887640449438.\u001B[0m\n",
      "\u001B[32m[I 2022-05-18 00:38:53,417]\u001B[0m Trial 15 finished with value: 0.7889887640449438 and parameters: {'var_smth': 1.3080871707128743e-28}. Best is trial 2 with value: 0.7889887640449438.\u001B[0m\n",
      "\u001B[32m[I 2022-05-18 00:38:53,422]\u001B[0m Trial 14 finished with value: 0.7889887640449438 and parameters: {'var_smth': 2.6597900714914275e-31}. Best is trial 2 with value: 0.7889887640449438.\u001B[0m\n",
      "\u001B[32m[I 2022-05-18 00:38:53,425]\u001B[0m Trial 5 finished with value: 0.7889887640449438 and parameters: {'var_smth': 4.689136973201015e-10}. Best is trial 2 with value: 0.7889887640449438.\u001B[0m\n",
      "\u001B[32m[I 2022-05-18 00:38:53,427]\u001B[0m Trial 13 finished with value: 0.7889887640449438 and parameters: {'var_smth': 2.9783577629041255e-11}. Best is trial 2 with value: 0.7889887640449438.\u001B[0m\n",
      "\u001B[32m[I 2022-05-18 00:38:53,475]\u001B[0m Trial 12 finished with value: 0.7889887640449438 and parameters: {'var_smth': 1.2661049827171307e-36}. Best is trial 2 with value: 0.7889887640449438.\u001B[0m\n",
      "\u001B[32m[I 2022-05-18 00:38:54,538]\u001B[0m Trial 16 finished with value: 0.7889887640449438 and parameters: {'var_smth': 1.0180748955958346e-47}. Best is trial 2 with value: 0.7889887640449438.\u001B[0m\n",
      "\u001B[32m[I 2022-05-18 00:38:54,565]\u001B[0m Trial 17 finished with value: 0.7889887640449438 and parameters: {'var_smth': 4.239314285642144e-16}. Best is trial 2 with value: 0.7889887640449438.\u001B[0m\n",
      "\u001B[32m[I 2022-05-18 00:38:54,609]\u001B[0m Trial 19 finished with value: 0.7867415730337078 and parameters: {'var_smth': 7.163053766360307e-06}. Best is trial 2 with value: 0.7889887640449438.\u001B[0m\n",
      "\u001B[32m[I 2022-05-18 00:38:54,656]\u001B[0m Trial 21 finished with value: 0.7889887640449438 and parameters: {'var_smth': 5.269720259482227e-24}. Best is trial 2 with value: 0.7889887640449438.\u001B[0m\n",
      "\u001B[32m[I 2022-05-18 00:38:54,689]\u001B[0m Trial 18 finished with value: 0.7889887640449438 and parameters: {'var_smth': 4.1287799910368037e-41}. Best is trial 2 with value: 0.7889887640449438.\u001B[0m\n",
      "\u001B[32m[I 2022-05-18 00:38:54,705]\u001B[0m Trial 22 finished with value: 0.7889887640449438 and parameters: {'var_smth': 3.8362004999686486e-21}. Best is trial 2 with value: 0.7889887640449438.\u001B[0m\n",
      "\u001B[32m[I 2022-05-18 00:38:54,832]\u001B[0m Trial 20 finished with value: 0.7889887640449438 and parameters: {'var_smth': 1.4382366484762498e-47}. Best is trial 2 with value: 0.7889887640449438.\u001B[0m\n",
      "\u001B[32m[I 2022-05-18 00:38:54,879]\u001B[0m Trial 23 finished with value: 0.7889887640449438 and parameters: {'var_smth': 6.144842021740332e-19}. Best is trial 2 with value: 0.7889887640449438.\u001B[0m\n",
      "\u001B[32m[I 2022-05-18 00:38:54,882]\u001B[0m Trial 24 finished with value: 0.7889887640449438 and parameters: {'var_smth': 3.8667139547567565e-22}. Best is trial 2 with value: 0.7889887640449438.\u001B[0m\n",
      "\u001B[32m[I 2022-05-18 00:38:54,893]\u001B[0m Trial 27 finished with value: 0.7889887640449438 and parameters: {'var_smth': 6.252937930220686e-21}. Best is trial 2 with value: 0.7889887640449438.\u001B[0m\n",
      "\u001B[32m[I 2022-05-18 00:38:55,018]\u001B[0m Trial 31 finished with value: 0.7889887640449438 and parameters: {'var_smth': 5.335484646000035e-20}. Best is trial 2 with value: 0.7889887640449438.\u001B[0m\n",
      "\u001B[32m[I 2022-05-18 00:38:55,037]\u001B[0m Trial 26 finished with value: 0.7889887640449438 and parameters: {'var_smth': 2.6528603090984853e-23}. Best is trial 2 with value: 0.7889887640449438.\u001B[0m\n",
      "\u001B[32m[I 2022-05-18 00:38:55,040]\u001B[0m Trial 30 finished with value: 0.7889887640449438 and parameters: {'var_smth': 1.093924718610428e-21}. Best is trial 2 with value: 0.7889887640449438.\u001B[0m\n",
      "\u001B[32m[I 2022-05-18 00:38:55,087]\u001B[0m Trial 29 finished with value: 0.7889887640449438 and parameters: {'var_smth': 1.1575908839226402e-21}. Best is trial 2 with value: 0.7889887640449438.\u001B[0m\n",
      "\u001B[32m[I 2022-05-18 00:38:55,104]\u001B[0m Trial 28 finished with value: 0.7889887640449438 and parameters: {'var_smth': 6.1984038567282586e-21}. Best is trial 2 with value: 0.7889887640449438.\u001B[0m\n",
      "\u001B[32m[I 2022-05-18 00:38:55,204]\u001B[0m Trial 25 finished with value: 0.7889887640449438 and parameters: {'var_smth': 2.155122687200204e-21}. Best is trial 2 with value: 0.7889887640449438.\u001B[0m\n",
      "\u001B[32m[I 2022-05-18 00:38:56,011]\u001B[0m Trial 33 finished with value: 0.7889887640449438 and parameters: {'var_smth': 8.139607663062836e-22}. Best is trial 2 with value: 0.7889887640449438.\u001B[0m\n",
      "\u001B[32m[I 2022-05-18 00:38:56,039]\u001B[0m Trial 32 finished with value: 0.7889887640449438 and parameters: {'var_smth': 3.656087316861107e-23}. Best is trial 2 with value: 0.7889887640449438.\u001B[0m\n",
      "\u001B[32m[I 2022-05-18 00:38:56,126]\u001B[0m Trial 36 finished with value: 0.7889887640449438 and parameters: {'var_smth': 4.66927891794277e-16}. Best is trial 2 with value: 0.7889887640449438.\u001B[0m\n",
      "\u001B[32m[I 2022-05-18 00:38:56,130]\u001B[0m Trial 37 finished with value: 0.7889887640449438 and parameters: {'var_smth': 4.312808882298206e-17}. Best is trial 2 with value: 0.7889887640449438.\u001B[0m\n",
      "\u001B[32m[I 2022-05-18 00:38:56,203]\u001B[0m Trial 35 finished with value: 0.7889887640449438 and parameters: {'var_smth': 2.5991335887229787e-20}. Best is trial 2 with value: 0.7889887640449438.\u001B[0m\n",
      "\u001B[32m[I 2022-05-18 00:38:56,242]\u001B[0m Trial 34 finished with value: 0.7889887640449438 and parameters: {'var_smth': 1.4373428785688748e-22}. Best is trial 2 with value: 0.7889887640449438.\u001B[0m\n",
      "\u001B[32m[I 2022-05-18 00:38:56,311]\u001B[0m Trial 40 finished with value: 0.7889887640449438 and parameters: {'var_smth': 3.934272234632851e-26}. Best is trial 2 with value: 0.7889887640449438.\u001B[0m\n",
      "\u001B[32m[I 2022-05-18 00:38:56,392]\u001B[0m Trial 39 finished with value: 0.7889887640449438 and parameters: {'var_smth': 3.6688628699161935e-26}. Best is trial 2 with value: 0.7889887640449438.\u001B[0m\n",
      "\u001B[32m[I 2022-05-18 00:38:56,454]\u001B[0m Trial 38 finished with value: 0.7889887640449438 and parameters: {'var_smth': 3.0477948347733754e-40}. Best is trial 2 with value: 0.7889887640449438.\u001B[0m\n",
      "\u001B[32m[I 2022-05-18 00:38:56,487]\u001B[0m Trial 41 finished with value: 0.7889887640449438 and parameters: {'var_smth': 3.8147557336241296e-26}. Best is trial 2 with value: 0.7889887640449438.\u001B[0m\n",
      "\u001B[32m[I 2022-05-18 00:38:56,576]\u001B[0m Trial 45 finished with value: 0.7889887640449438 and parameters: {'var_smth': 1.2603469210069408e-26}. Best is trial 2 with value: 0.7889887640449438.\u001B[0m\n",
      "\u001B[32m[I 2022-05-18 00:38:56,591]\u001B[0m Trial 44 finished with value: 0.7889887640449438 and parameters: {'var_smth': 5.218169592434128e-14}. Best is trial 2 with value: 0.7889887640449438.\u001B[0m\n",
      "\u001B[32m[I 2022-05-18 00:38:56,607]\u001B[0m Trial 42 finished with value: 0.7889887640449438 and parameters: {'var_smth': 8.2344975133220405e-25}. Best is trial 2 with value: 0.7889887640449438.\u001B[0m\n",
      "\u001B[32m[I 2022-05-18 00:38:56,610]\u001B[0m Trial 43 finished with value: 0.7889887640449438 and parameters: {'var_smth': 1.3924045958365798e-26}. Best is trial 2 with value: 0.7889887640449438.\u001B[0m\n",
      "\u001B[32m[I 2022-05-18 00:38:56,622]\u001B[0m Trial 46 finished with value: 0.7889887640449438 and parameters: {'var_smth': 4.660213413223259e-14}. Best is trial 2 with value: 0.7889887640449438.\u001B[0m\n",
      "\u001B[32m[I 2022-05-18 00:38:56,732]\u001B[0m Trial 47 finished with value: 0.7889887640449438 and parameters: {'var_smth': 1.3606255961775136e-14}. Best is trial 2 with value: 0.7889887640449438.\u001B[0m\n",
      "\u001B[32m[I 2022-05-18 00:38:57,459]\u001B[0m Trial 48 finished with value: 0.7889887640449438 and parameters: {'var_smth': 1.3193082820451543e-26}. Best is trial 2 with value: 0.7889887640449438.\u001B[0m\n",
      "\u001B[32m[I 2022-05-18 00:38:57,482]\u001B[0m Trial 50 finished with value: 0.7889887640449438 and parameters: {'var_smth': 7.240504064937982e-27}. Best is trial 2 with value: 0.7889887640449438.\u001B[0m\n",
      "\u001B[32m[I 2022-05-18 00:38:57,500]\u001B[0m Trial 49 finished with value: 0.7889887640449438 and parameters: {'var_smth': 1.4442762250679176e-27}. Best is trial 2 with value: 0.7889887640449438.\u001B[0m\n",
      "\u001B[32m[I 2022-05-18 00:38:57,579]\u001B[0m Trial 52 finished with value: 0.7889887640449438 and parameters: {'var_smth': 2.305789426154947e-26}. Best is trial 2 with value: 0.7889887640449438.\u001B[0m\n",
      "\u001B[32m[I 2022-05-18 00:38:57,586]\u001B[0m Trial 51 finished with value: 0.7889887640449438 and parameters: {'var_smth': 2.9386338439397277e-27}. Best is trial 2 with value: 0.7889887640449438.\u001B[0m\n",
      "\u001B[32m[I 2022-05-18 00:38:57,697]\u001B[0m Trial 53 finished with value: 0.7889887640449438 and parameters: {'var_smth': 7.880351429481755e-27}. Best is trial 2 with value: 0.7889887640449438.\u001B[0m\n",
      "\u001B[32m[I 2022-05-18 00:38:57,698]\u001B[0m Trial 55 finished with value: 0.7889887640449438 and parameters: {'var_smth': 8.438981278622481e-13}. Best is trial 2 with value: 0.7889887640449438.\u001B[0m\n",
      "\u001B[32m[I 2022-05-18 00:38:57,718]\u001B[0m Trial 54 finished with value: 0.7889887640449438 and parameters: {'var_smth': 1.4777568866200952e-28}. Best is trial 2 with value: 0.7889887640449438.\u001B[0m\n",
      "\u001B[32m[I 2022-05-18 00:38:57,779]\u001B[0m Trial 57 finished with value: 0.7889887640449438 and parameters: {'var_smth': 1.3190275840329096e-13}. Best is trial 2 with value: 0.7889887640449438.\u001B[0m\n",
      "\u001B[32m[I 2022-05-18 00:38:57,936]\u001B[0m Trial 56 finished with value: 0.7889887640449438 and parameters: {'var_smth': 3.359999796575202e-13}. Best is trial 2 with value: 0.7889887640449438.\u001B[0m\n",
      "\u001B[32m[I 2022-05-18 00:38:57,955]\u001B[0m Trial 61 finished with value: 0.7889887640449438 and parameters: {'var_smth': 2.8646482987003136e-30}. Best is trial 2 with value: 0.7889887640449438.\u001B[0m\n",
      "\u001B[32m[I 2022-05-18 00:38:57,969]\u001B[0m Trial 58 finished with value: 0.7889887640449438 and parameters: {'var_smth': 3.143633202508413e-30}. Best is trial 2 with value: 0.7889887640449438.\u001B[0m\n",
      "\u001B[32m[I 2022-05-18 00:38:57,992]\u001B[0m Trial 63 finished with value: 0.7889887640449438 and parameters: {'var_smth': 1.4777508814395497e-30}. Best is trial 2 with value: 0.7889887640449438.\u001B[0m\n",
      "\u001B[32m[I 2022-05-18 00:38:58,048]\u001B[0m Trial 62 finished with value: 0.7889887640449438 and parameters: {'var_smth': 2.5628268194598143e-30}. Best is trial 2 with value: 0.7889887640449438.\u001B[0m\n",
      "\u001B[32m[I 2022-05-18 00:38:58,082]\u001B[0m Trial 59 finished with value: 0.7889887640449438 and parameters: {'var_smth': 2.147014112476695e-30}. Best is trial 2 with value: 0.7889887640449438.\u001B[0m\n",
      "\u001B[32m[I 2022-05-18 00:38:58,160]\u001B[0m Trial 60 finished with value: 0.7889887640449438 and parameters: {'var_smth': 1.2979430074037794e-29}. Best is trial 2 with value: 0.7889887640449438.\u001B[0m\n",
      "\u001B[32m[I 2022-05-18 00:38:58,701]\u001B[0m Trial 64 finished with value: 0.7889887640449438 and parameters: {'var_smth': 5.385864246047574e-30}. Best is trial 2 with value: 0.7889887640449438.\u001B[0m\n",
      "\u001B[32m[I 2022-05-18 00:38:58,812]\u001B[0m Trial 65 finished with value: 0.7889887640449438 and parameters: {'var_smth': 5.119791007389678e-19}. Best is trial 2 with value: 0.7889887640449438.\u001B[0m\n",
      "\u001B[32m[I 2022-05-18 00:38:58,874]\u001B[0m Trial 67 finished with value: 0.7889887640449438 and parameters: {'var_smth': 1.205855598625445e-29}. Best is trial 2 with value: 0.7889887640449438.\u001B[0m\n",
      "\u001B[32m[I 2022-05-18 00:38:58,932]\u001B[0m Trial 71 finished with value: 0.7889887640449438 and parameters: {'var_smth': 6.212495742321588e-32}. Best is trial 2 with value: 0.7889887640449438.\u001B[0m\n",
      "\u001B[32m[I 2022-05-18 00:38:58,999]\u001B[0m Trial 68 finished with value: 0.7889887640449438 and parameters: {'var_smth': 8.551430186958378e-31}. Best is trial 2 with value: 0.7889887640449438.\u001B[0m\n",
      "\u001B[32m[I 2022-05-18 00:38:59,005]\u001B[0m Trial 66 finished with value: 0.7889887640449438 and parameters: {'var_smth': 1.0596558447707765e-30}. Best is trial 2 with value: 0.7889887640449438.\u001B[0m\n",
      "\u001B[32m[I 2022-05-18 00:38:59,055]\u001B[0m Trial 69 finished with value: 0.7889887640449438 and parameters: {'var_smth': 5.5861339802066245e-30}. Best is trial 2 with value: 0.7889887640449438.\u001B[0m\n",
      "\u001B[32m[I 2022-05-18 00:38:59,098]\u001B[0m Trial 70 finished with value: 0.7889887640449438 and parameters: {'var_smth': 3.9638620249784805e-32}. Best is trial 2 with value: 0.7889887640449438.\u001B[0m\n",
      "\u001B[32m[I 2022-05-18 00:38:59,133]\u001B[0m Trial 72 finished with value: 0.7889887640449438 and parameters: {'var_smth': 9.990935503041267e-19}. Best is trial 2 with value: 0.7889887640449438.\u001B[0m\n",
      "\u001B[32m[I 2022-05-18 00:38:59,256]\u001B[0m Trial 73 finished with value: 0.7889887640449438 and parameters: {'var_smth': 4.1395879155736865e-19}. Best is trial 2 with value: 0.7889887640449438.\u001B[0m\n",
      "\u001B[32m[I 2022-05-18 00:38:59,359]\u001B[0m Trial 77 finished with value: 0.7889887640449438 and parameters: {'var_smth': 3.027360499037823e-17}. Best is trial 2 with value: 0.7889887640449438.\u001B[0m\n",
      "\u001B[32m[I 2022-05-18 00:38:59,367]\u001B[0m Trial 78 finished with value: 0.7889887640449438 and parameters: {'var_smth': 2.363738845183096e-19}. Best is trial 2 with value: 0.7889887640449438.\u001B[0m\n",
      "\u001B[32m[I 2022-05-18 00:38:59,411]\u001B[0m Trial 75 finished with value: 0.7889887640449438 and parameters: {'var_smth': 1.6389326026811344e-17}. Best is trial 2 with value: 0.7889887640449438.\u001B[0m\n",
      "\u001B[32m[I 2022-05-18 00:38:59,462]\u001B[0m Trial 76 finished with value: 0.7889887640449438 and parameters: {'var_smth': 1.8550277093345473e-17}. Best is trial 2 with value: 0.7889887640449438.\u001B[0m\n",
      "\u001B[32m[I 2022-05-18 00:38:59,476]\u001B[0m Trial 74 finished with value: 0.7889887640449438 and parameters: {'var_smth': 1.3854161121414527e-17}. Best is trial 2 with value: 0.7889887640449438.\u001B[0m\n",
      "\u001B[32m[I 2022-05-18 00:38:59,527]\u001B[0m Trial 79 finished with value: 0.7889887640449438 and parameters: {'var_smth': 8.569811472678729e-18}. Best is trial 2 with value: 0.7889887640449438.\u001B[0m\n",
      "\u001B[32m[I 2022-05-18 00:39:00,284]\u001B[0m Trial 80 finished with value: 0.7889887640449438 and parameters: {'var_smth': 3.9912196458716336e-33}. Best is trial 2 with value: 0.7889887640449438.\u001B[0m\n",
      "\u001B[32m[I 2022-05-18 00:39:00,303]\u001B[0m Trial 82 finished with value: 0.7889887640449438 and parameters: {'var_smth': 9.22573456240776e-33}. Best is trial 2 with value: 0.7889887640449438.\u001B[0m\n",
      "\u001B[32m[I 2022-05-18 00:39:00,529]\u001B[0m Trial 81 finished with value: 0.7889887640449438 and parameters: {'var_smth': 3.2870596614781106e-16}. Best is trial 2 with value: 0.7889887640449438.\u001B[0m\n",
      "\u001B[32m[I 2022-05-18 00:39:00,614]\u001B[0m Trial 83 finished with value: 0.7889887640449438 and parameters: {'var_smth': 4.372363710411912e-34}. Best is trial 2 with value: 0.7889887640449438.\u001B[0m\n",
      "\u001B[32m[I 2022-05-18 00:39:00,789]\u001B[0m Trial 86 finished with value: 0.7889887640449438 and parameters: {'var_smth': 2.4980016868256843e-33}. Best is trial 2 with value: 0.7889887640449438.\u001B[0m\n",
      "\u001B[32m[I 2022-05-18 00:39:00,791]\u001B[0m Trial 87 finished with value: 0.7889887640449438 and parameters: {'var_smth': 1.2548303268122215e-33}. Best is trial 2 with value: 0.7889887640449438.\u001B[0m\n",
      "\u001B[32m[I 2022-05-18 00:39:00,797]\u001B[0m Trial 88 finished with value: 0.7889887640449438 and parameters: {'var_smth': 4.858638163260686e-34}. Best is trial 2 with value: 0.7889887640449438.\u001B[0m\n",
      "\u001B[32m[I 2022-05-18 00:39:00,807]\u001B[0m Trial 91 finished with value: 0.7889887640449438 and parameters: {'var_smth': 2.1128420403383725e-33}. Best is trial 2 with value: 0.7889887640449438.\u001B[0m\n",
      "\u001B[32m[I 2022-05-18 00:39:00,824]\u001B[0m Trial 84 finished with value: 0.7889887640449438 and parameters: {'var_smth': 2.1929351063171788e-33}. Best is trial 2 with value: 0.7889887640449438.\u001B[0m\n",
      "\u001B[32m[I 2022-05-18 00:39:00,834]\u001B[0m Trial 85 finished with value: 0.7889887640449438 and parameters: {'var_smth': 3.1293419038028566e-09}. Best is trial 2 with value: 0.7889887640449438.\u001B[0m\n",
      "\u001B[32m[I 2022-05-18 00:39:01,041]\u001B[0m Trial 90 finished with value: 0.7889887640449438 and parameters: {'var_smth': 7.541072450088132e-35}. Best is trial 2 with value: 0.7889887640449438.\u001B[0m\n",
      "\u001B[32m[I 2022-05-18 00:39:01,072]\u001B[0m Trial 89 finished with value: 0.7889887640449438 and parameters: {'var_smth': 1.9523074009408765e-34}. Best is trial 2 with value: 0.7889887640449438.\u001B[0m\n",
      "\u001B[32m[I 2022-05-18 00:39:01,074]\u001B[0m Trial 92 finished with value: 0.7889887640449438 and parameters: {'var_smth': 7.3436670635566805e-34}. Best is trial 2 with value: 0.7889887640449438.\u001B[0m\n",
      "\u001B[32m[I 2022-05-18 00:39:01,176]\u001B[0m Trial 93 finished with value: 0.7889887640449438 and parameters: {'var_smth': 1.7722775173204656e-34}. Best is trial 2 with value: 0.7889887640449438.\u001B[0m\n",
      "\u001B[32m[I 2022-05-18 00:39:01,240]\u001B[0m Trial 94 finished with value: 0.7889887640449438 and parameters: {'var_smth': 6.430481760806645e-10}. Best is trial 2 with value: 0.7889887640449438.\u001B[0m\n",
      "\u001B[32m[I 2022-05-18 00:39:01,295]\u001B[0m Trial 95 finished with value: 0.7889887640449438 and parameters: {'var_smth': 5.4884640310937236e-11}. Best is trial 2 with value: 0.7889887640449438.\u001B[0m\n",
      "\u001B[32m[I 2022-05-18 00:39:01,434]\u001B[0m Trial 96 finished with value: 0.7889887640449438 and parameters: {'var_smth': 8.001210182577304e-36}. Best is trial 2 with value: 0.7889887640449438.\u001B[0m\n",
      "\u001B[32m[I 2022-05-18 00:39:01,449]\u001B[0m Trial 97 finished with value: 0.7889887640449438 and parameters: {'var_smth': 3.903321261469482e-11}. Best is trial 2 with value: 0.7889887640449438.\u001B[0m\n",
      "\u001B[32m[I 2022-05-18 00:39:01,493]\u001B[0m Trial 98 finished with value: 0.7889887640449438 and parameters: {'var_smth': 7.89881206759601e-12}. Best is trial 2 with value: 0.7889887640449438.\u001B[0m\n",
      "\u001B[32m[I 2022-05-18 00:39:01,517]\u001B[0m Trial 99 finished with value: 0.7889887640449438 and parameters: {'var_smth': 1.7201287257332285e-11}. Best is trial 2 with value: 0.7889887640449438.\u001B[0m\n"
     ]
    },
    {
     "name": "stdout",
     "output_type": "stream",
     "text": [
      "BEST TRIAL: FrozenTrial(number=2, values=[0.7889887640449438], datetime_start=datetime.datetime(2022, 5, 18, 0, 38, 51, 479863), datetime_complete=datetime.datetime(2022, 5, 18, 0, 38, 53, 32734), params={'var_smth': 2.1332748781324394e-44}, distributions={'var_smth': LogUniformDistribution(high=0.0001, low=1e-50)}, user_attrs={}, system_attrs={}, intermediate_values={}, trial_id=2, state=TrialState.COMPLETE, value=None)\n"
     ]
    }
   ],
   "source": [
    "study = optuna.create_study(direction=\"maximize\")\n",
    "study.optimize(objective, n_trials=N_TRIALS, n_jobs=-1)\n",
    "print(f\"BEST TRIAL: {study.best_trial}\")\n",
    "\n",
    "# optuna.visualization.plot_slice(study).show()"
   ]
  },
  {
   "cell_type": "code",
   "execution_count": 182,
   "outputs": [
    {
     "data": {
      "application/vnd.plotly.v1+json": {
       "data": [
        {
         "marker": {
          "color": [
           0,
           1,
           2,
           3,
           4,
           5,
           6,
           7,
           8,
           9,
           10,
           11,
           12,
           13,
           14,
           15,
           16,
           17,
           18,
           19,
           20,
           21,
           22,
           23,
           24,
           25,
           26,
           27,
           28,
           29,
           30,
           31,
           32,
           33,
           34,
           35,
           36,
           37,
           38,
           39,
           40,
           41,
           42,
           43,
           44,
           45,
           46,
           47,
           48,
           49,
           50,
           51,
           52,
           53,
           54,
           55,
           56,
           57,
           58,
           59,
           60,
           61,
           62,
           63,
           64,
           65,
           66,
           67,
           68,
           69,
           70,
           71,
           72,
           73,
           74,
           75,
           76,
           77,
           78,
           79,
           80,
           81,
           82,
           83,
           84,
           85,
           86,
           87,
           88,
           89,
           90,
           91,
           92,
           93,
           94,
           95,
           96,
           97,
           98,
           99
          ],
          "colorbar": {
           "title": {
            "text": "#Trials"
           },
           "x": 1.0,
           "xpad": 40
          },
          "colorscale": [
           [
            0.0,
            "rgb(247,251,255)"
           ],
           [
            0.125,
            "rgb(222,235,247)"
           ],
           [
            0.25,
            "rgb(198,219,239)"
           ],
           [
            0.375,
            "rgb(158,202,225)"
           ],
           [
            0.5,
            "rgb(107,174,214)"
           ],
           [
            0.625,
            "rgb(66,146,198)"
           ],
           [
            0.75,
            "rgb(33,113,181)"
           ],
           [
            0.875,
            "rgb(8,81,156)"
           ],
           [
            1.0,
            "rgb(8,48,107)"
           ]
          ],
          "line": {
           "color": "Grey",
           "width": 0.5
          }
         },
         "mode": "markers",
         "showlegend": false,
         "x": [
          1.9415024011039203E-24,
          1.7154879764145393E-5,
          2.1332748781324394E-44,
          3.236125777867906E-48,
          1.3190639321002502E-34,
          4.689136973201015E-10,
          1.7956224886361652E-17,
          6.955231769044193E-39,
          1.3104356498883945E-48,
          6.994563686308451E-10,
          4.874109736538876E-49,
          3.741709795158303E-8,
          1.2661049827171307E-36,
          2.9783577629041255E-11,
          2.6597900714914275E-31,
          1.3080871707128743E-28,
          1.0180748955958346E-47,
          4.239314285642144E-16,
          4.1287799910368037E-41,
          7.163053766360307E-6,
          1.4382366484762498E-47,
          5.269720259482227E-24,
          3.8362004999686486E-21,
          6.144842021740332E-19,
          3.8667139547567565E-22,
          2.155122687200204E-21,
          2.6528603090984853E-23,
          6.252937930220686E-21,
          6.1984038567282586E-21,
          1.1575908839226402E-21,
          1.093924718610428E-21,
          5.335484646000035E-20,
          3.656087316861107E-23,
          8.139607663062836E-22,
          1.4373428785688748E-22,
          2.5991335887229787E-20,
          4.66927891794277E-16,
          4.312808882298206E-17,
          3.0477948347733754E-40,
          3.6688628699161935E-26,
          3.934272234632851E-26,
          3.8147557336241296E-26,
          8.2344975133220405E-25,
          1.3924045958365798E-26,
          5.218169592434128E-14,
          1.2603469210069408E-26,
          4.660213413223259E-14,
          1.3606255961775136E-14,
          1.3193082820451543E-26,
          1.4442762250679176E-27,
          7.240504064937982E-27,
          2.9386338439397277E-27,
          2.305789426154947E-26,
          7.880351429481755E-27,
          1.4777568866200952E-28,
          8.438981278622481E-13,
          3.359999796575202E-13,
          1.3190275840329096E-13,
          3.143633202508413E-30,
          2.147014112476695E-30,
          1.2979430074037794E-29,
          2.8646482987003136E-30,
          2.5628268194598143E-30,
          1.4777508814395497E-30,
          5.385864246047574E-30,
          5.119791007389678E-19,
          1.0596558447707765E-30,
          1.205855598625445E-29,
          8.551430186958378E-31,
          5.5861339802066245E-30,
          3.9638620249784805E-32,
          6.212495742321588E-32,
          9.990935503041267E-19,
          4.1395879155736865E-19,
          1.3854161121414527E-17,
          1.6389326026811344E-17,
          1.8550277093345473E-17,
          3.027360499037823E-17,
          2.363738845183096E-19,
          8.569811472678729E-18,
          3.9912196458716336E-33,
          3.2870596614781106E-16,
          9.22573456240776E-33,
          4.372363710411912E-34,
          2.1929351063171788E-33,
          3.1293419038028566E-9,
          2.4980016868256843E-33,
          1.2548303268122215E-33,
          4.858638163260686E-34,
          1.9523074009408765E-34,
          7.541072450088132E-35,
          2.1128420403383725E-33,
          7.3436670635566805E-34,
          1.7722775173204656E-34,
          6.430481760806645E-10,
          5.4884640310937236E-11,
          8.001210182577304E-36,
          3.903321261469482E-11,
          7.89881206759601E-12,
          1.7201287257332285E-11
         ],
         "y": [
          0.7889887640449438,
          0.7844694132334582,
          0.7889887640449438,
          0.7889887640449438,
          0.7889887640449438,
          0.7889887640449438,
          0.7889887640449438,
          0.7889887640449438,
          0.7889887640449438,
          0.7889887640449438,
          0.7889887640449438,
          0.7889887640449438,
          0.7889887640449438,
          0.7889887640449438,
          0.7889887640449438,
          0.7889887640449438,
          0.7889887640449438,
          0.7889887640449438,
          0.7889887640449438,
          0.7867415730337078,
          0.7889887640449438,
          0.7889887640449438,
          0.7889887640449438,
          0.7889887640449438,
          0.7889887640449438,
          0.7889887640449438,
          0.7889887640449438,
          0.7889887640449438,
          0.7889887640449438,
          0.7889887640449438,
          0.7889887640449438,
          0.7889887640449438,
          0.7889887640449438,
          0.7889887640449438,
          0.7889887640449438,
          0.7889887640449438,
          0.7889887640449438,
          0.7889887640449438,
          0.7889887640449438,
          0.7889887640449438,
          0.7889887640449438,
          0.7889887640449438,
          0.7889887640449438,
          0.7889887640449438,
          0.7889887640449438,
          0.7889887640449438,
          0.7889887640449438,
          0.7889887640449438,
          0.7889887640449438,
          0.7889887640449438,
          0.7889887640449438,
          0.7889887640449438,
          0.7889887640449438,
          0.7889887640449438,
          0.7889887640449438,
          0.7889887640449438,
          0.7889887640449438,
          0.7889887640449438,
          0.7889887640449438,
          0.7889887640449438,
          0.7889887640449438,
          0.7889887640449438,
          0.7889887640449438,
          0.7889887640449438,
          0.7889887640449438,
          0.7889887640449438,
          0.7889887640449438,
          0.7889887640449438,
          0.7889887640449438,
          0.7889887640449438,
          0.7889887640449438,
          0.7889887640449438,
          0.7889887640449438,
          0.7889887640449438,
          0.7889887640449438,
          0.7889887640449438,
          0.7889887640449438,
          0.7889887640449438,
          0.7889887640449438,
          0.7889887640449438,
          0.7889887640449438,
          0.7889887640449438,
          0.7889887640449438,
          0.7889887640449438,
          0.7889887640449438,
          0.7889887640449438,
          0.7889887640449438,
          0.7889887640449438,
          0.7889887640449438,
          0.7889887640449438,
          0.7889887640449438,
          0.7889887640449438,
          0.7889887640449438,
          0.7889887640449438,
          0.7889887640449438,
          0.7889887640449438,
          0.7889887640449438,
          0.7889887640449438,
          0.7889887640449438,
          0.7889887640449438
         ],
         "type": "scatter"
        }
       ],
       "layout": {
        "title": {
         "text": "Slice Plot"
        },
        "template": {
         "data": {
          "bar": [
           {
            "error_x": {
             "color": "#f2f5fa"
            },
            "error_y": {
             "color": "#f2f5fa"
            },
            "marker": {
             "line": {
              "color": "rgb(17,17,17)",
              "width": 0.5
             },
             "pattern": {
              "fillmode": "overlay",
              "size": 10,
              "solidity": 0.2
             }
            },
            "type": "bar"
           }
          ],
          "barpolar": [
           {
            "marker": {
             "line": {
              "color": "rgb(17,17,17)",
              "width": 0.5
             },
             "pattern": {
              "fillmode": "overlay",
              "size": 10,
              "solidity": 0.2
             }
            },
            "type": "barpolar"
           }
          ],
          "carpet": [
           {
            "aaxis": {
             "endlinecolor": "#A2B1C6",
             "gridcolor": "#506784",
             "linecolor": "#506784",
             "minorgridcolor": "#506784",
             "startlinecolor": "#A2B1C6"
            },
            "baxis": {
             "endlinecolor": "#A2B1C6",
             "gridcolor": "#506784",
             "linecolor": "#506784",
             "minorgridcolor": "#506784",
             "startlinecolor": "#A2B1C6"
            },
            "type": "carpet"
           }
          ],
          "choropleth": [
           {
            "colorbar": {
             "outlinewidth": 0,
             "ticks": ""
            },
            "type": "choropleth"
           }
          ],
          "contour": [
           {
            "colorbar": {
             "outlinewidth": 0,
             "ticks": ""
            },
            "colorscale": [
             [
              0.0,
              "#0d0887"
             ],
             [
              0.1111111111111111,
              "#46039f"
             ],
             [
              0.2222222222222222,
              "#7201a8"
             ],
             [
              0.3333333333333333,
              "#9c179e"
             ],
             [
              0.4444444444444444,
              "#bd3786"
             ],
             [
              0.5555555555555556,
              "#d8576b"
             ],
             [
              0.6666666666666666,
              "#ed7953"
             ],
             [
              0.7777777777777778,
              "#fb9f3a"
             ],
             [
              0.8888888888888888,
              "#fdca26"
             ],
             [
              1.0,
              "#f0f921"
             ]
            ],
            "type": "contour"
           }
          ],
          "contourcarpet": [
           {
            "colorbar": {
             "outlinewidth": 0,
             "ticks": ""
            },
            "type": "contourcarpet"
           }
          ],
          "heatmap": [
           {
            "colorbar": {
             "outlinewidth": 0,
             "ticks": ""
            },
            "colorscale": [
             [
              0.0,
              "#0d0887"
             ],
             [
              0.1111111111111111,
              "#46039f"
             ],
             [
              0.2222222222222222,
              "#7201a8"
             ],
             [
              0.3333333333333333,
              "#9c179e"
             ],
             [
              0.4444444444444444,
              "#bd3786"
             ],
             [
              0.5555555555555556,
              "#d8576b"
             ],
             [
              0.6666666666666666,
              "#ed7953"
             ],
             [
              0.7777777777777778,
              "#fb9f3a"
             ],
             [
              0.8888888888888888,
              "#fdca26"
             ],
             [
              1.0,
              "#f0f921"
             ]
            ],
            "type": "heatmap"
           }
          ],
          "heatmapgl": [
           {
            "colorbar": {
             "outlinewidth": 0,
             "ticks": ""
            },
            "colorscale": [
             [
              0.0,
              "#0d0887"
             ],
             [
              0.1111111111111111,
              "#46039f"
             ],
             [
              0.2222222222222222,
              "#7201a8"
             ],
             [
              0.3333333333333333,
              "#9c179e"
             ],
             [
              0.4444444444444444,
              "#bd3786"
             ],
             [
              0.5555555555555556,
              "#d8576b"
             ],
             [
              0.6666666666666666,
              "#ed7953"
             ],
             [
              0.7777777777777778,
              "#fb9f3a"
             ],
             [
              0.8888888888888888,
              "#fdca26"
             ],
             [
              1.0,
              "#f0f921"
             ]
            ],
            "type": "heatmapgl"
           }
          ],
          "histogram": [
           {
            "marker": {
             "pattern": {
              "fillmode": "overlay",
              "size": 10,
              "solidity": 0.2
             }
            },
            "type": "histogram"
           }
          ],
          "histogram2d": [
           {
            "colorbar": {
             "outlinewidth": 0,
             "ticks": ""
            },
            "colorscale": [
             [
              0.0,
              "#0d0887"
             ],
             [
              0.1111111111111111,
              "#46039f"
             ],
             [
              0.2222222222222222,
              "#7201a8"
             ],
             [
              0.3333333333333333,
              "#9c179e"
             ],
             [
              0.4444444444444444,
              "#bd3786"
             ],
             [
              0.5555555555555556,
              "#d8576b"
             ],
             [
              0.6666666666666666,
              "#ed7953"
             ],
             [
              0.7777777777777778,
              "#fb9f3a"
             ],
             [
              0.8888888888888888,
              "#fdca26"
             ],
             [
              1.0,
              "#f0f921"
             ]
            ],
            "type": "histogram2d"
           }
          ],
          "histogram2dcontour": [
           {
            "colorbar": {
             "outlinewidth": 0,
             "ticks": ""
            },
            "colorscale": [
             [
              0.0,
              "#0d0887"
             ],
             [
              0.1111111111111111,
              "#46039f"
             ],
             [
              0.2222222222222222,
              "#7201a8"
             ],
             [
              0.3333333333333333,
              "#9c179e"
             ],
             [
              0.4444444444444444,
              "#bd3786"
             ],
             [
              0.5555555555555556,
              "#d8576b"
             ],
             [
              0.6666666666666666,
              "#ed7953"
             ],
             [
              0.7777777777777778,
              "#fb9f3a"
             ],
             [
              0.8888888888888888,
              "#fdca26"
             ],
             [
              1.0,
              "#f0f921"
             ]
            ],
            "type": "histogram2dcontour"
           }
          ],
          "mesh3d": [
           {
            "colorbar": {
             "outlinewidth": 0,
             "ticks": ""
            },
            "type": "mesh3d"
           }
          ],
          "parcoords": [
           {
            "line": {
             "colorbar": {
              "outlinewidth": 0,
              "ticks": ""
             }
            },
            "type": "parcoords"
           }
          ],
          "pie": [
           {
            "automargin": true,
            "type": "pie"
           }
          ],
          "scatter": [
           {
            "marker": {
             "line": {
              "color": "#283442"
             }
            },
            "type": "scatter"
           }
          ],
          "scatter3d": [
           {
            "line": {
             "colorbar": {
              "outlinewidth": 0,
              "ticks": ""
             }
            },
            "marker": {
             "colorbar": {
              "outlinewidth": 0,
              "ticks": ""
             }
            },
            "type": "scatter3d"
           }
          ],
          "scattercarpet": [
           {
            "marker": {
             "colorbar": {
              "outlinewidth": 0,
              "ticks": ""
             }
            },
            "type": "scattercarpet"
           }
          ],
          "scattergeo": [
           {
            "marker": {
             "colorbar": {
              "outlinewidth": 0,
              "ticks": ""
             }
            },
            "type": "scattergeo"
           }
          ],
          "scattergl": [
           {
            "marker": {
             "line": {
              "color": "#283442"
             }
            },
            "type": "scattergl"
           }
          ],
          "scattermapbox": [
           {
            "marker": {
             "colorbar": {
              "outlinewidth": 0,
              "ticks": ""
             }
            },
            "type": "scattermapbox"
           }
          ],
          "scatterpolar": [
           {
            "marker": {
             "colorbar": {
              "outlinewidth": 0,
              "ticks": ""
             }
            },
            "type": "scatterpolar"
           }
          ],
          "scatterpolargl": [
           {
            "marker": {
             "colorbar": {
              "outlinewidth": 0,
              "ticks": ""
             }
            },
            "type": "scatterpolargl"
           }
          ],
          "scatterternary": [
           {
            "marker": {
             "colorbar": {
              "outlinewidth": 0,
              "ticks": ""
             }
            },
            "type": "scatterternary"
           }
          ],
          "surface": [
           {
            "colorbar": {
             "outlinewidth": 0,
             "ticks": ""
            },
            "colorscale": [
             [
              0.0,
              "#0d0887"
             ],
             [
              0.1111111111111111,
              "#46039f"
             ],
             [
              0.2222222222222222,
              "#7201a8"
             ],
             [
              0.3333333333333333,
              "#9c179e"
             ],
             [
              0.4444444444444444,
              "#bd3786"
             ],
             [
              0.5555555555555556,
              "#d8576b"
             ],
             [
              0.6666666666666666,
              "#ed7953"
             ],
             [
              0.7777777777777778,
              "#fb9f3a"
             ],
             [
              0.8888888888888888,
              "#fdca26"
             ],
             [
              1.0,
              "#f0f921"
             ]
            ],
            "type": "surface"
           }
          ],
          "table": [
           {
            "cells": {
             "fill": {
              "color": "#506784"
             },
             "line": {
              "color": "rgb(17,17,17)"
             }
            },
            "header": {
             "fill": {
              "color": "#2a3f5f"
             },
             "line": {
              "color": "rgb(17,17,17)"
             }
            },
            "type": "table"
           }
          ]
         },
         "layout": {
          "annotationdefaults": {
           "arrowcolor": "#f2f5fa",
           "arrowhead": 0,
           "arrowwidth": 1
          },
          "autotypenumbers": "strict",
          "coloraxis": {
           "colorbar": {
            "outlinewidth": 0,
            "ticks": ""
           }
          },
          "colorscale": {
           "diverging": [
            [
             0,
             "#8e0152"
            ],
            [
             0.1,
             "#c51b7d"
            ],
            [
             0.2,
             "#de77ae"
            ],
            [
             0.3,
             "#f1b6da"
            ],
            [
             0.4,
             "#fde0ef"
            ],
            [
             0.5,
             "#f7f7f7"
            ],
            [
             0.6,
             "#e6f5d0"
            ],
            [
             0.7,
             "#b8e186"
            ],
            [
             0.8,
             "#7fbc41"
            ],
            [
             0.9,
             "#4d9221"
            ],
            [
             1,
             "#276419"
            ]
           ],
           "sequential": [
            [
             0.0,
             "#0d0887"
            ],
            [
             0.1111111111111111,
             "#46039f"
            ],
            [
             0.2222222222222222,
             "#7201a8"
            ],
            [
             0.3333333333333333,
             "#9c179e"
            ],
            [
             0.4444444444444444,
             "#bd3786"
            ],
            [
             0.5555555555555556,
             "#d8576b"
            ],
            [
             0.6666666666666666,
             "#ed7953"
            ],
            [
             0.7777777777777778,
             "#fb9f3a"
            ],
            [
             0.8888888888888888,
             "#fdca26"
            ],
            [
             1.0,
             "#f0f921"
            ]
           ],
           "sequentialminus": [
            [
             0.0,
             "#0d0887"
            ],
            [
             0.1111111111111111,
             "#46039f"
            ],
            [
             0.2222222222222222,
             "#7201a8"
            ],
            [
             0.3333333333333333,
             "#9c179e"
            ],
            [
             0.4444444444444444,
             "#bd3786"
            ],
            [
             0.5555555555555556,
             "#d8576b"
            ],
            [
             0.6666666666666666,
             "#ed7953"
            ],
            [
             0.7777777777777778,
             "#fb9f3a"
            ],
            [
             0.8888888888888888,
             "#fdca26"
            ],
            [
             1.0,
             "#f0f921"
            ]
           ]
          },
          "colorway": [
           "#636efa",
           "#EF553B",
           "#00cc96",
           "#ab63fa",
           "#FFA15A",
           "#19d3f3",
           "#FF6692",
           "#B6E880",
           "#FF97FF",
           "#FECB52"
          ],
          "font": {
           "color": "#f2f5fa"
          },
          "geo": {
           "bgcolor": "rgb(17,17,17)",
           "lakecolor": "rgb(17,17,17)",
           "landcolor": "rgb(17,17,17)",
           "showlakes": true,
           "showland": true,
           "subunitcolor": "#506784"
          },
          "hoverlabel": {
           "align": "left"
          },
          "hovermode": "closest",
          "mapbox": {
           "style": "dark"
          },
          "paper_bgcolor": "rgb(17,17,17)",
          "plot_bgcolor": "rgb(17,17,17)",
          "polar": {
           "angularaxis": {
            "gridcolor": "#506784",
            "linecolor": "#506784",
            "ticks": ""
           },
           "bgcolor": "rgb(17,17,17)",
           "radialaxis": {
            "gridcolor": "#506784",
            "linecolor": "#506784",
            "ticks": ""
           }
          },
          "scene": {
           "xaxis": {
            "backgroundcolor": "rgb(17,17,17)",
            "gridcolor": "#506784",
            "gridwidth": 2,
            "linecolor": "#506784",
            "showbackground": true,
            "ticks": "",
            "zerolinecolor": "#C8D4E3"
           },
           "yaxis": {
            "backgroundcolor": "rgb(17,17,17)",
            "gridcolor": "#506784",
            "gridwidth": 2,
            "linecolor": "#506784",
            "showbackground": true,
            "ticks": "",
            "zerolinecolor": "#C8D4E3"
           },
           "zaxis": {
            "backgroundcolor": "rgb(17,17,17)",
            "gridcolor": "#506784",
            "gridwidth": 2,
            "linecolor": "#506784",
            "showbackground": true,
            "ticks": "",
            "zerolinecolor": "#C8D4E3"
           }
          },
          "shapedefaults": {
           "line": {
            "color": "#f2f5fa"
           }
          },
          "sliderdefaults": {
           "bgcolor": "#C8D4E3",
           "bordercolor": "rgb(17,17,17)",
           "borderwidth": 1,
           "tickwidth": 0
          },
          "ternary": {
           "aaxis": {
            "gridcolor": "#506784",
            "linecolor": "#506784",
            "ticks": ""
           },
           "baxis": {
            "gridcolor": "#506784",
            "linecolor": "#506784",
            "ticks": ""
           },
           "bgcolor": "rgb(17,17,17)",
           "caxis": {
            "gridcolor": "#506784",
            "linecolor": "#506784",
            "ticks": ""
           }
          },
          "title": {
           "x": 0.05
          },
          "updatemenudefaults": {
           "bgcolor": "#506784",
           "borderwidth": 0
          },
          "xaxis": {
           "automargin": true,
           "gridcolor": "#283442",
           "linecolor": "#506784",
           "ticks": "",
           "title": {
            "standoff": 15
           },
           "zerolinecolor": "#283442",
           "zerolinewidth": 2
          },
          "yaxis": {
           "automargin": true,
           "gridcolor": "#283442",
           "linecolor": "#506784",
           "ticks": "",
           "title": {
            "standoff": 15
           },
           "zerolinecolor": "#283442",
           "zerolinewidth": 2
          }
         }
        },
        "xaxis": {
         "title": {
          "text": "var_smth"
         },
         "type": "log"
        },
        "yaxis": {
         "title": {
          "text": "Objective Value"
         }
        }
       },
       "config": {
        "plotlyServerURL": "https://plot.ly"
       }
      },
      "text/html": "<div>                            <div id=\"daa202d5-b217-4663-9b2e-97f20c2d7bd1\" class=\"plotly-graph-div\" style=\"height:525px; width:100%;\"></div>            <script type=\"text/javascript\">                require([\"plotly\"], function(Plotly) {                    window.PLOTLYENV=window.PLOTLYENV || {};                                    if (document.getElementById(\"daa202d5-b217-4663-9b2e-97f20c2d7bd1\")) {                    Plotly.newPlot(                        \"daa202d5-b217-4663-9b2e-97f20c2d7bd1\",                        [{\"marker\":{\"color\":[0,1,2,3,4,5,6,7,8,9,10,11,12,13,14,15,16,17,18,19,20,21,22,23,24,25,26,27,28,29,30,31,32,33,34,35,36,37,38,39,40,41,42,43,44,45,46,47,48,49,50,51,52,53,54,55,56,57,58,59,60,61,62,63,64,65,66,67,68,69,70,71,72,73,74,75,76,77,78,79,80,81,82,83,84,85,86,87,88,89,90,91,92,93,94,95,96,97,98,99],\"colorbar\":{\"title\":{\"text\":\"#Trials\"},\"x\":1.0,\"xpad\":40},\"colorscale\":[[0.0,\"rgb(247,251,255)\"],[0.125,\"rgb(222,235,247)\"],[0.25,\"rgb(198,219,239)\"],[0.375,\"rgb(158,202,225)\"],[0.5,\"rgb(107,174,214)\"],[0.625,\"rgb(66,146,198)\"],[0.75,\"rgb(33,113,181)\"],[0.875,\"rgb(8,81,156)\"],[1.0,\"rgb(8,48,107)\"]],\"line\":{\"color\":\"Grey\",\"width\":0.5}},\"mode\":\"markers\",\"showlegend\":false,\"x\":[1.9415024011039203e-24,1.7154879764145393e-05,2.1332748781324394e-44,3.236125777867906e-48,1.3190639321002502e-34,4.689136973201015e-10,1.7956224886361652e-17,6.955231769044193e-39,1.3104356498883945e-48,6.994563686308451e-10,4.874109736538876e-49,3.741709795158303e-08,1.2661049827171307e-36,2.9783577629041255e-11,2.6597900714914275e-31,1.3080871707128743e-28,1.0180748955958346e-47,4.239314285642144e-16,4.1287799910368037e-41,7.163053766360307e-06,1.4382366484762498e-47,5.269720259482227e-24,3.8362004999686486e-21,6.144842021740332e-19,3.8667139547567565e-22,2.155122687200204e-21,2.6528603090984853e-23,6.252937930220686e-21,6.1984038567282586e-21,1.1575908839226402e-21,1.093924718610428e-21,5.335484646000035e-20,3.656087316861107e-23,8.139607663062836e-22,1.4373428785688748e-22,2.5991335887229787e-20,4.66927891794277e-16,4.312808882298206e-17,3.0477948347733754e-40,3.6688628699161935e-26,3.934272234632851e-26,3.8147557336241296e-26,8.2344975133220405e-25,1.3924045958365798e-26,5.218169592434128e-14,1.2603469210069408e-26,4.660213413223259e-14,1.3606255961775136e-14,1.3193082820451543e-26,1.4442762250679176e-27,7.240504064937982e-27,2.9386338439397277e-27,2.305789426154947e-26,7.880351429481755e-27,1.4777568866200952e-28,8.438981278622481e-13,3.359999796575202e-13,1.3190275840329096e-13,3.143633202508413e-30,2.147014112476695e-30,1.2979430074037794e-29,2.8646482987003136e-30,2.5628268194598143e-30,1.4777508814395497e-30,5.385864246047574e-30,5.119791007389678e-19,1.0596558447707765e-30,1.205855598625445e-29,8.551430186958378e-31,5.5861339802066245e-30,3.9638620249784805e-32,6.212495742321588e-32,9.990935503041267e-19,4.1395879155736865e-19,1.3854161121414527e-17,1.6389326026811344e-17,1.8550277093345473e-17,3.027360499037823e-17,2.363738845183096e-19,8.569811472678729e-18,3.9912196458716336e-33,3.2870596614781106e-16,9.22573456240776e-33,4.372363710411912e-34,2.1929351063171788e-33,3.1293419038028566e-09,2.4980016868256843e-33,1.2548303268122215e-33,4.858638163260686e-34,1.9523074009408765e-34,7.541072450088132e-35,2.1128420403383725e-33,7.3436670635566805e-34,1.7722775173204656e-34,6.430481760806645e-10,5.4884640310937236e-11,8.001210182577304e-36,3.903321261469482e-11,7.89881206759601e-12,1.7201287257332285e-11],\"y\":[0.7889887640449438,0.7844694132334582,0.7889887640449438,0.7889887640449438,0.7889887640449438,0.7889887640449438,0.7889887640449438,0.7889887640449438,0.7889887640449438,0.7889887640449438,0.7889887640449438,0.7889887640449438,0.7889887640449438,0.7889887640449438,0.7889887640449438,0.7889887640449438,0.7889887640449438,0.7889887640449438,0.7889887640449438,0.7867415730337078,0.7889887640449438,0.7889887640449438,0.7889887640449438,0.7889887640449438,0.7889887640449438,0.7889887640449438,0.7889887640449438,0.7889887640449438,0.7889887640449438,0.7889887640449438,0.7889887640449438,0.7889887640449438,0.7889887640449438,0.7889887640449438,0.7889887640449438,0.7889887640449438,0.7889887640449438,0.7889887640449438,0.7889887640449438,0.7889887640449438,0.7889887640449438,0.7889887640449438,0.7889887640449438,0.7889887640449438,0.7889887640449438,0.7889887640449438,0.7889887640449438,0.7889887640449438,0.7889887640449438,0.7889887640449438,0.7889887640449438,0.7889887640449438,0.7889887640449438,0.7889887640449438,0.7889887640449438,0.7889887640449438,0.7889887640449438,0.7889887640449438,0.7889887640449438,0.7889887640449438,0.7889887640449438,0.7889887640449438,0.7889887640449438,0.7889887640449438,0.7889887640449438,0.7889887640449438,0.7889887640449438,0.7889887640449438,0.7889887640449438,0.7889887640449438,0.7889887640449438,0.7889887640449438,0.7889887640449438,0.7889887640449438,0.7889887640449438,0.7889887640449438,0.7889887640449438,0.7889887640449438,0.7889887640449438,0.7889887640449438,0.7889887640449438,0.7889887640449438,0.7889887640449438,0.7889887640449438,0.7889887640449438,0.7889887640449438,0.7889887640449438,0.7889887640449438,0.7889887640449438,0.7889887640449438,0.7889887640449438,0.7889887640449438,0.7889887640449438,0.7889887640449438,0.7889887640449438,0.7889887640449438,0.7889887640449438,0.7889887640449438,0.7889887640449438,0.7889887640449438],\"type\":\"scatter\"}],                        {\"title\":{\"text\":\"Slice Plot\"},\"template\":{\"data\":{\"bar\":[{\"error_x\":{\"color\":\"#f2f5fa\"},\"error_y\":{\"color\":\"#f2f5fa\"},\"marker\":{\"line\":{\"color\":\"rgb(17,17,17)\",\"width\":0.5},\"pattern\":{\"fillmode\":\"overlay\",\"size\":10,\"solidity\":0.2}},\"type\":\"bar\"}],\"barpolar\":[{\"marker\":{\"line\":{\"color\":\"rgb(17,17,17)\",\"width\":0.5},\"pattern\":{\"fillmode\":\"overlay\",\"size\":10,\"solidity\":0.2}},\"type\":\"barpolar\"}],\"carpet\":[{\"aaxis\":{\"endlinecolor\":\"#A2B1C6\",\"gridcolor\":\"#506784\",\"linecolor\":\"#506784\",\"minorgridcolor\":\"#506784\",\"startlinecolor\":\"#A2B1C6\"},\"baxis\":{\"endlinecolor\":\"#A2B1C6\",\"gridcolor\":\"#506784\",\"linecolor\":\"#506784\",\"minorgridcolor\":\"#506784\",\"startlinecolor\":\"#A2B1C6\"},\"type\":\"carpet\"}],\"choropleth\":[{\"colorbar\":{\"outlinewidth\":0,\"ticks\":\"\"},\"type\":\"choropleth\"}],\"contour\":[{\"colorbar\":{\"outlinewidth\":0,\"ticks\":\"\"},\"colorscale\":[[0.0,\"#0d0887\"],[0.1111111111111111,\"#46039f\"],[0.2222222222222222,\"#7201a8\"],[0.3333333333333333,\"#9c179e\"],[0.4444444444444444,\"#bd3786\"],[0.5555555555555556,\"#d8576b\"],[0.6666666666666666,\"#ed7953\"],[0.7777777777777778,\"#fb9f3a\"],[0.8888888888888888,\"#fdca26\"],[1.0,\"#f0f921\"]],\"type\":\"contour\"}],\"contourcarpet\":[{\"colorbar\":{\"outlinewidth\":0,\"ticks\":\"\"},\"type\":\"contourcarpet\"}],\"heatmap\":[{\"colorbar\":{\"outlinewidth\":0,\"ticks\":\"\"},\"colorscale\":[[0.0,\"#0d0887\"],[0.1111111111111111,\"#46039f\"],[0.2222222222222222,\"#7201a8\"],[0.3333333333333333,\"#9c179e\"],[0.4444444444444444,\"#bd3786\"],[0.5555555555555556,\"#d8576b\"],[0.6666666666666666,\"#ed7953\"],[0.7777777777777778,\"#fb9f3a\"],[0.8888888888888888,\"#fdca26\"],[1.0,\"#f0f921\"]],\"type\":\"heatmap\"}],\"heatmapgl\":[{\"colorbar\":{\"outlinewidth\":0,\"ticks\":\"\"},\"colorscale\":[[0.0,\"#0d0887\"],[0.1111111111111111,\"#46039f\"],[0.2222222222222222,\"#7201a8\"],[0.3333333333333333,\"#9c179e\"],[0.4444444444444444,\"#bd3786\"],[0.5555555555555556,\"#d8576b\"],[0.6666666666666666,\"#ed7953\"],[0.7777777777777778,\"#fb9f3a\"],[0.8888888888888888,\"#fdca26\"],[1.0,\"#f0f921\"]],\"type\":\"heatmapgl\"}],\"histogram\":[{\"marker\":{\"pattern\":{\"fillmode\":\"overlay\",\"size\":10,\"solidity\":0.2}},\"type\":\"histogram\"}],\"histogram2d\":[{\"colorbar\":{\"outlinewidth\":0,\"ticks\":\"\"},\"colorscale\":[[0.0,\"#0d0887\"],[0.1111111111111111,\"#46039f\"],[0.2222222222222222,\"#7201a8\"],[0.3333333333333333,\"#9c179e\"],[0.4444444444444444,\"#bd3786\"],[0.5555555555555556,\"#d8576b\"],[0.6666666666666666,\"#ed7953\"],[0.7777777777777778,\"#fb9f3a\"],[0.8888888888888888,\"#fdca26\"],[1.0,\"#f0f921\"]],\"type\":\"histogram2d\"}],\"histogram2dcontour\":[{\"colorbar\":{\"outlinewidth\":0,\"ticks\":\"\"},\"colorscale\":[[0.0,\"#0d0887\"],[0.1111111111111111,\"#46039f\"],[0.2222222222222222,\"#7201a8\"],[0.3333333333333333,\"#9c179e\"],[0.4444444444444444,\"#bd3786\"],[0.5555555555555556,\"#d8576b\"],[0.6666666666666666,\"#ed7953\"],[0.7777777777777778,\"#fb9f3a\"],[0.8888888888888888,\"#fdca26\"],[1.0,\"#f0f921\"]],\"type\":\"histogram2dcontour\"}],\"mesh3d\":[{\"colorbar\":{\"outlinewidth\":0,\"ticks\":\"\"},\"type\":\"mesh3d\"}],\"parcoords\":[{\"line\":{\"colorbar\":{\"outlinewidth\":0,\"ticks\":\"\"}},\"type\":\"parcoords\"}],\"pie\":[{\"automargin\":true,\"type\":\"pie\"}],\"scatter\":[{\"marker\":{\"line\":{\"color\":\"#283442\"}},\"type\":\"scatter\"}],\"scatter3d\":[{\"line\":{\"colorbar\":{\"outlinewidth\":0,\"ticks\":\"\"}},\"marker\":{\"colorbar\":{\"outlinewidth\":0,\"ticks\":\"\"}},\"type\":\"scatter3d\"}],\"scattercarpet\":[{\"marker\":{\"colorbar\":{\"outlinewidth\":0,\"ticks\":\"\"}},\"type\":\"scattercarpet\"}],\"scattergeo\":[{\"marker\":{\"colorbar\":{\"outlinewidth\":0,\"ticks\":\"\"}},\"type\":\"scattergeo\"}],\"scattergl\":[{\"marker\":{\"line\":{\"color\":\"#283442\"}},\"type\":\"scattergl\"}],\"scattermapbox\":[{\"marker\":{\"colorbar\":{\"outlinewidth\":0,\"ticks\":\"\"}},\"type\":\"scattermapbox\"}],\"scatterpolar\":[{\"marker\":{\"colorbar\":{\"outlinewidth\":0,\"ticks\":\"\"}},\"type\":\"scatterpolar\"}],\"scatterpolargl\":[{\"marker\":{\"colorbar\":{\"outlinewidth\":0,\"ticks\":\"\"}},\"type\":\"scatterpolargl\"}],\"scatterternary\":[{\"marker\":{\"colorbar\":{\"outlinewidth\":0,\"ticks\":\"\"}},\"type\":\"scatterternary\"}],\"surface\":[{\"colorbar\":{\"outlinewidth\":0,\"ticks\":\"\"},\"colorscale\":[[0.0,\"#0d0887\"],[0.1111111111111111,\"#46039f\"],[0.2222222222222222,\"#7201a8\"],[0.3333333333333333,\"#9c179e\"],[0.4444444444444444,\"#bd3786\"],[0.5555555555555556,\"#d8576b\"],[0.6666666666666666,\"#ed7953\"],[0.7777777777777778,\"#fb9f3a\"],[0.8888888888888888,\"#fdca26\"],[1.0,\"#f0f921\"]],\"type\":\"surface\"}],\"table\":[{\"cells\":{\"fill\":{\"color\":\"#506784\"},\"line\":{\"color\":\"rgb(17,17,17)\"}},\"header\":{\"fill\":{\"color\":\"#2a3f5f\"},\"line\":{\"color\":\"rgb(17,17,17)\"}},\"type\":\"table\"}]},\"layout\":{\"annotationdefaults\":{\"arrowcolor\":\"#f2f5fa\",\"arrowhead\":0,\"arrowwidth\":1},\"autotypenumbers\":\"strict\",\"coloraxis\":{\"colorbar\":{\"outlinewidth\":0,\"ticks\":\"\"}},\"colorscale\":{\"diverging\":[[0,\"#8e0152\"],[0.1,\"#c51b7d\"],[0.2,\"#de77ae\"],[0.3,\"#f1b6da\"],[0.4,\"#fde0ef\"],[0.5,\"#f7f7f7\"],[0.6,\"#e6f5d0\"],[0.7,\"#b8e186\"],[0.8,\"#7fbc41\"],[0.9,\"#4d9221\"],[1,\"#276419\"]],\"sequential\":[[0.0,\"#0d0887\"],[0.1111111111111111,\"#46039f\"],[0.2222222222222222,\"#7201a8\"],[0.3333333333333333,\"#9c179e\"],[0.4444444444444444,\"#bd3786\"],[0.5555555555555556,\"#d8576b\"],[0.6666666666666666,\"#ed7953\"],[0.7777777777777778,\"#fb9f3a\"],[0.8888888888888888,\"#fdca26\"],[1.0,\"#f0f921\"]],\"sequentialminus\":[[0.0,\"#0d0887\"],[0.1111111111111111,\"#46039f\"],[0.2222222222222222,\"#7201a8\"],[0.3333333333333333,\"#9c179e\"],[0.4444444444444444,\"#bd3786\"],[0.5555555555555556,\"#d8576b\"],[0.6666666666666666,\"#ed7953\"],[0.7777777777777778,\"#fb9f3a\"],[0.8888888888888888,\"#fdca26\"],[1.0,\"#f0f921\"]]},\"colorway\":[\"#636efa\",\"#EF553B\",\"#00cc96\",\"#ab63fa\",\"#FFA15A\",\"#19d3f3\",\"#FF6692\",\"#B6E880\",\"#FF97FF\",\"#FECB52\"],\"font\":{\"color\":\"#f2f5fa\"},\"geo\":{\"bgcolor\":\"rgb(17,17,17)\",\"lakecolor\":\"rgb(17,17,17)\",\"landcolor\":\"rgb(17,17,17)\",\"showlakes\":true,\"showland\":true,\"subunitcolor\":\"#506784\"},\"hoverlabel\":{\"align\":\"left\"},\"hovermode\":\"closest\",\"mapbox\":{\"style\":\"dark\"},\"paper_bgcolor\":\"rgb(17,17,17)\",\"plot_bgcolor\":\"rgb(17,17,17)\",\"polar\":{\"angularaxis\":{\"gridcolor\":\"#506784\",\"linecolor\":\"#506784\",\"ticks\":\"\"},\"bgcolor\":\"rgb(17,17,17)\",\"radialaxis\":{\"gridcolor\":\"#506784\",\"linecolor\":\"#506784\",\"ticks\":\"\"}},\"scene\":{\"xaxis\":{\"backgroundcolor\":\"rgb(17,17,17)\",\"gridcolor\":\"#506784\",\"gridwidth\":2,\"linecolor\":\"#506784\",\"showbackground\":true,\"ticks\":\"\",\"zerolinecolor\":\"#C8D4E3\"},\"yaxis\":{\"backgroundcolor\":\"rgb(17,17,17)\",\"gridcolor\":\"#506784\",\"gridwidth\":2,\"linecolor\":\"#506784\",\"showbackground\":true,\"ticks\":\"\",\"zerolinecolor\":\"#C8D4E3\"},\"zaxis\":{\"backgroundcolor\":\"rgb(17,17,17)\",\"gridcolor\":\"#506784\",\"gridwidth\":2,\"linecolor\":\"#506784\",\"showbackground\":true,\"ticks\":\"\",\"zerolinecolor\":\"#C8D4E3\"}},\"shapedefaults\":{\"line\":{\"color\":\"#f2f5fa\"}},\"sliderdefaults\":{\"bgcolor\":\"#C8D4E3\",\"bordercolor\":\"rgb(17,17,17)\",\"borderwidth\":1,\"tickwidth\":0},\"ternary\":{\"aaxis\":{\"gridcolor\":\"#506784\",\"linecolor\":\"#506784\",\"ticks\":\"\"},\"baxis\":{\"gridcolor\":\"#506784\",\"linecolor\":\"#506784\",\"ticks\":\"\"},\"bgcolor\":\"rgb(17,17,17)\",\"caxis\":{\"gridcolor\":\"#506784\",\"linecolor\":\"#506784\",\"ticks\":\"\"}},\"title\":{\"x\":0.05},\"updatemenudefaults\":{\"bgcolor\":\"#506784\",\"borderwidth\":0},\"xaxis\":{\"automargin\":true,\"gridcolor\":\"#283442\",\"linecolor\":\"#506784\",\"ticks\":\"\",\"title\":{\"standoff\":15},\"zerolinecolor\":\"#283442\",\"zerolinewidth\":2},\"yaxis\":{\"automargin\":true,\"gridcolor\":\"#283442\",\"linecolor\":\"#506784\",\"ticks\":\"\",\"title\":{\"standoff\":15},\"zerolinecolor\":\"#283442\",\"zerolinewidth\":2}}},\"xaxis\":{\"title\":{\"text\":\"var_smth\"},\"type\":\"log\"},\"yaxis\":{\"title\":{\"text\":\"Objective Value\"}}},                        {\"responsive\": true}                    ).then(function(){\n                            \nvar gd = document.getElementById('daa202d5-b217-4663-9b2e-97f20c2d7bd1');\nvar x = new MutationObserver(function (mutations, observer) {{\n        var display = window.getComputedStyle(gd).display;\n        if (!display || display === 'none') {{\n            console.log([gd, 'removed!']);\n            Plotly.purge(gd);\n            observer.disconnect();\n        }}\n}});\n\n// Listen for the removal of the full notebook cells\nvar notebookContainer = gd.closest('#notebook-container');\nif (notebookContainer) {{\n    x.observe(notebookContainer, {childList: true});\n}}\n\n// Listen for the clearing of the current output cell\nvar outputEl = gd.closest('.output');\nif (outputEl) {{\n    x.observe(outputEl, {childList: true});\n}}\n\n                        })                };                });            </script>        </div>"
     },
     "metadata": {},
     "output_type": "display_data"
    }
   ],
   "source": [
    "optuna.visualization.plot_slice(study).show()"
   ],
   "metadata": {
    "collapsed": false,
    "pycharm": {
     "name": "#%%\n"
    }
   }
  },
  {
   "cell_type": "markdown",
   "source": [
    "## Generate test output"
   ],
   "metadata": {
    "collapsed": false,
    "pycharm": {
     "name": "#%% md\n"
    }
   }
  },
  {
   "cell_type": "code",
   "execution_count": null,
   "outputs": [],
   "source": [
    "titanic = pd.read_csv(\"./data/test.csv\")"
   ],
   "metadata": {
    "collapsed": false,
    "pycharm": {
     "name": "#%%\n"
    }
   }
  }
 ],
 "metadata": {
  "kernelspec": {
   "display_name": "Python 3 (ipykernel)",
   "language": "python",
   "name": "python3"
  },
  "language_info": {
   "codemirror_mode": {
    "name": "ipython",
    "version": 3
   },
   "file_extension": ".py",
   "mimetype": "text/x-python",
   "name": "python",
   "nbconvert_exporter": "python",
   "pygments_lexer": "ipython3",
   "version": "3.8.12"
  }
 },
 "nbformat": 4,
 "nbformat_minor": 4
}