{
 "cells": [
  {
   "cell_type": "code",
   "execution_count": 1,
   "metadata": {
    "collapsed": true,
    "pycharm": {
     "name": "#%%\n"
    }
   },
   "outputs": [],
   "source": [
    "import numpy as np\n",
    "from scipy import stats\n",
    "import pandas as pd\n",
    "import matplotlib.pyplot as plt"
   ]
  },
  {
   "cell_type": "markdown",
   "metadata": {
    "pycharm": {
     "name": "#%% md\n"
    }
   },
   "source": [
    "# Korelacja"
   ]
  },
  {
   "cell_type": "markdown",
   "metadata": {
    "pycharm": {
     "name": "#%% md\n"
    }
   },
   "source": [
    "Współczynnik korelacji między dwiema zmiennymi odpowiada na pytanie: \n",
    "\n",
    "<i>Czy dwie zmienne są powiązane? </i> \n",
    "\n",
    "## Współczynnik korelacji Pearsona \n",
    "\n",
    "Współczynnik korelacji Pearsona - współczynnik określający poziom zależności liniowej między zmiennymi losowymi.\n",
    "\n",
    "## Korelacja rang Spearmana \n",
    "\n",
    "Korelacja rang Spearmana (lub: korelacja rangowa Spearmana, rho Spearmana) – jedna z nieparametrycznych miar monotonicznej zależności statystycznej między zmiennymi losowymi.\n",
    "\n",
    "Korelacja rangowa przyjmuje zawsze wartości z przedziału $[-1,+1]$. Ich interpretacja jest podobna do klasycznego współczynnika korelacji Pearsona, z jednym zastrzeżeniem: \n",
    "- w odróżnieniu od współczynnika Pearsona, który mierzy liniową zależność między zmiennymi, a wszelkie inne związki traktuje jak zaburzone zależności liniowe, korelacja rangowa pokazuje dowolną monotoniczną zależność (także nieliniową).\n",
    "\n",
    "## Korelacja Tau Kendalla \n",
    "\n",
    "Tau Kendalla – statystyka będąca jedną z miar monotonicznej zależności dwóch zmiennych losowych. Służy w praktyce do opisu korelacji między zmiennymi porządkowymi.\n",
    "\n",
    "Tau Kendalla przyjmuje wartości od -1 do 1 włącznie. +1 oznacza, że każda ze zmiennych rośnie przy wzroście drugiej. -1 oznacza że każda maleje przy wzroście drugiej. Tym samym tau Kendalla, podobnie jak korelacja rangowa jest miarą monotonicznej zależności zmiennych losowych."
   ]
  },
  {
   "cell_type": "markdown",
   "metadata": {
    "pycharm": {
     "name": "#%% md\n"
    }
   },
   "source": [
    "# Zadanie 1 \n",
    "Policz korelacje: \n",
    "<ul>\n",
    "<li>pearson</li>\n",
    "<li>spearman</li>\n",
    "<li>kendall</li>\n",
    "</ul>\n",
    "\n",
    "dla zbioru:"
   ]
  },
  {
   "cell_type": "code",
   "execution_count": 2,
   "metadata": {
    "collapsed": true,
    "pycharm": {
     "name": "#%%\n"
    }
   },
   "outputs": [],
   "source": [
    "f = lambda x: (x)\n",
    "x_tr = np.linspace(0., 5, 200)\n",
    "y_tr = f(x_tr)\n",
    "x = stats.uniform(1,3).rvs(100)\n",
    "y = f(x) + stats.norm(0,0.1).rvs(len(x))"
   ]
  },
  {
   "cell_type": "code",
   "execution_count": 3,
   "metadata": {
    "pycharm": {
     "name": "#%%\n"
    }
   },
   "outputs": [
    {
     "data": {
      "image/png": "iVBORw0KGgoAAAANSUhEUgAAAW4AAAFpCAYAAAC8p8I3AAAABHNCSVQICAgIfAhkiAAAAAlwSFlz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\nHsNJ6cNOgwAAAABJRU5ErkJggg==\n",
      "text/plain": [
       "<Figure size 432x432 with 1 Axes>"
      ]
     },
     "metadata": {},
     "output_type": "display_data"
    }
   ],
   "source": [
    "plt.figure(figsize=(6,6));\n",
    "axes = plt.gca()\n",
    "axes.set_xlim([0,5])\n",
    "axes.set_ylim([0,5])\n",
    "plt.plot(x_tr, y_tr, '--k');\n",
    "plt.plot(x, y, 'ok', ms=3);\n",
    "plt.show()"
   ]
  },
  {
   "cell_type": "code",
   "execution_count": 4,
   "metadata": {
    "pycharm": {
     "name": "#%%\n"
    }
   },
   "outputs": [
    {
     "name": "stdout",
     "output_type": "stream",
     "text": [
      "{'pearson': 0.9938268994821543, 'spearman': 0.993279327932793, 'kendall': 0.933737373737374}\n"
     ]
    }
   ],
   "source": [
    "corr = {}\n",
    "corr['pearson'], _ = stats.pearsonr(x,y)\n",
    "corr['spearman'], _ = stats.spearmanr(x,y)\n",
    "corr['kendall'], _ = stats.kendalltau(x,y)\n",
    "print(corr)    "
   ]
  },
  {
   "cell_type": "markdown",
   "metadata": {
    "pycharm": {
     "name": "#%% md\n"
    }
   },
   "source": [
    "# Zadanie 2 \n",
    "Policz korelacje: \n",
    "<ul>\n",
    "<li>pearson</li>\n",
    "<li>spearman</li>\n",
    "<li>kendall</li>\n",
    "</ul>\n",
    "\n",
    "dla zbioru:"
   ]
  },
  {
   "cell_type": "code",
   "execution_count": 2,
   "metadata": {
    "collapsed": true,
    "pycharm": {
     "name": "#%%\n"
    }
   },
   "outputs": [],
   "source": [
    "f = lambda x: (-x+5)\n",
    "x_tr = np.linspace(0., 5, 200)\n",
    "y_tr = f(x_tr)\n",
    "x = stats.uniform(1,3).rvs(100)\n",
    "y = f(x) + stats.norm(0,0.1).rvs(len(x))"
   ]
  },
  {
   "cell_type": "code",
   "execution_count": 3,
   "metadata": {
    "pycharm": {
     "name": "#%%\n"
    }
   },
   "outputs": [
    {
     "data": {
      "text/plain": "<Figure size 432x432 with 1 Axes>",
      "image/png": "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\n"
     },
     "metadata": {
      "needs_background": "light"
     },
     "output_type": "display_data"
    }
   ],
   "source": [
    "plt.figure(figsize=(6,6));\n",
    "axes = plt.gca()\n",
    "axes.set_xlim([0,5])\n",
    "axes.set_ylim([0,5])\n",
    "plt.plot(x_tr, y_tr, '--k');\n",
    "plt.plot(x, y, 'ok', ms=3);\n",
    "plt.show()"
   ]
  },
  {
   "cell_type": "code",
<<<<<<< Updated upstream
   "execution_count": 4,
   "metadata": {
    "collapsed": true,
    "pycharm": {
     "name": "#%%\n"
    }
   },
   "outputs": [
    {
     "name": "stdout",
     "output_type": "stream",
     "text": [
      "{'pearson': -0.9917010515174184, 'spearman': -0.99011101110111, 'kendall': -0.9179797979797981}\n"
     ]
    }
   ],
   "source": [
    "corr = {}\n",
    "corr['pearson'], _ = stats.pearsonr(x,y)\n",
    "corr['spearman'], _ = stats.spearmanr(x,y)\n",
    "corr['kendall'], _ = stats.kendalltau(x,y)\n",
    "print(corr)"
   ]
  },
  {
   "cell_type": "markdown",
   "metadata": {
    "pycharm": {
     "name": "#%% md\n"
    }
   },
=======
   "execution_count": null,
   "outputs": [],
   "source": [],
   "metadata": {
    "collapsed": false,
    "pycharm": {
     "name": "#%%\n"
    }
   }
  },
  {
   "cell_type": "markdown",
>>>>>>> Stashed changes
   "source": [
    "# Zadanie 3\n",
    "Policz korelacje: \n",
    "<ul>\n",
    "<li>pearson</li>\n",
    "<li>spearman</li>\n",
    "<li>kendall</li>\n",
    "</ul>\n",
    "\n",
    "dla zbioru:"
   ],
   "metadata": {
    "collapsed": false,
    "pycharm": {
     "name": "#%% md\n"
    }
   }
  },
  {
   "cell_type": "code",
<<<<<<< Updated upstream
   "execution_count": 9,
   "metadata": {
    "pycharm": {
     "name": "#%%\n"
    }
   },
   "outputs": [
    {
     "data": {
      "text/plain": "<Figure size 432x432 with 1 Axes>",
      "image/png": "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\n"
     },
     "metadata": {
      "needs_background": "light"
     },
     "output_type": "display_data"
    }
   ],
=======
   "execution_count": null,
   "outputs": [],
>>>>>>> Stashed changes
   "source": [
    "f = lambda x: (x)\n",
    "x_tr = np.linspace(0., 5, 200)\n",
    "y_tr = f(x_tr)\n",
    "x = stats.uniform(1,3).rvs(100)\n",
    "y = f(x) + stats.norm(0,0.5).rvs(len(x))\n",
    "\n",
    "plt.figure(figsize=(6,6));\n",
    "axes = plt.gca()\n",
    "axes.set_xlim([0,5])\n",
    "axes.set_ylim([0,5])\n",
    "plt.plot(x_tr, y_tr, '--k');\n",
    "plt.plot(x, y, 'ok', ms=3);\n",
    "plt.show()"
   ],
   "metadata": {
    "collapsed": false,
    "pycharm": {
     "name": "#%%\n"
    }
   }
  },
  {
   "cell_type": "code",
<<<<<<< Updated upstream
   "execution_count": 14,
   "metadata": {
    "collapsed": true,
    "pycharm": {
     "name": "#%%\n"
    }
   },
   "outputs": [
    {
     "name": "stdout",
     "output_type": "stream",
     "text": [
      "{'pearson': 0.8446748193642777, 'spearman': 0.8435043504350435, 'kendall': 0.6436363636363638}\n"
     ]
    }
   ],
   "source": [
    "corr = {}\n",
    "corr['pearson'], _ = stats.pearsonr(x, y)\n",
    "corr['spearman'], _ = stats.spearmanr(x, y)\n",
    "corr['kendall'], _ = stats.kendalltau(x, y)\n",
    "print(corr)"
   ]
  },
  {
   "cell_type": "markdown",
   "metadata": {
    "pycharm": {
     "name": "#%% md\n"
    }
   },
=======
   "execution_count": null,
   "outputs": [],
   "source": [],
   "metadata": {
    "collapsed": false,
    "pycharm": {
     "name": "#%%\n"
    }
   }
  },
  {
   "cell_type": "markdown",
>>>>>>> Stashed changes
   "source": [
    "# Zadanie 4\n",
    "Policz korelacje: \n",
    "<ul>\n",
    "<li>pearson</li>\n",
    "<li>spearman</li>\n",
    "<li>kendall</li>\n",
    "</ul>\n",
    "\n",
    "dla zbioru:"
   ],
   "metadata": {
    "collapsed": false,
    "pycharm": {
     "name": "#%% md\n"
    }
   }
  },
  {
   "cell_type": "code",
<<<<<<< Updated upstream
   "execution_count": 8,
   "metadata": {
    "collapsed": true,
    "pycharm": {
     "name": "#%%\n"
    }
   },
=======
   "execution_count": null,
>>>>>>> Stashed changes
   "outputs": [],
   "source": [
    "f = lambda x: x**2\n",
    "x_tr = np.linspace(-10, 10, 200)\n",
    "y_tr = f(x_tr)\n",
    "x = stats.uniform(-3,6).rvs(100)\n",
    "y = f(x) + stats.norm(0,0.3).rvs(len(x))"
   ],
   "metadata": {
    "collapsed": false,
    "pycharm": {
     "name": "#%%\n"
    }
   }
  },
  {
   "cell_type": "code",
<<<<<<< Updated upstream
   "execution_count": 9,
   "metadata": {
    "pycharm": {
     "name": "#%%\n"
    }
   },
   "outputs": [
    {
     "data": {
      "image/png": "iVBORw0KGgoAAAANSUhEUgAAAXQAAAFpCAYAAACMK9MWAAAABHNCSVQICAgIfAhkiAAAAAlwSFlz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\nW1QAAAAASUVORK5CYII=\n",
      "text/plain": [
       "<Figure size 432x432 with 1 Axes>"
      ]
     },
     "metadata": {},
     "output_type": "display_data"
    }
   ],
=======
   "execution_count": null,
   "outputs": [],
>>>>>>> Stashed changes
   "source": [
    "plt.figure(figsize=(6,6));\n",
    "axes = plt.gca()\n",
    "axes.set_xlim([-3,3])\n",
    "axes.set_ylim([0,10])\n",
    "# axes.set_ylim([np.min(y),f(5)])\n",
    "plt.plot(x_tr, y_tr, '--k');\n",
    "plt.plot(x, y, 'ok', ms=3);\n",
    "plt.show()"
   ],
   "metadata": {
    "collapsed": false,
    "pycharm": {
     "name": "#%%\n"
    }
   }
  },
  {
   "cell_type": "code",
<<<<<<< Updated upstream
   "execution_count": 15,
   "metadata": {
    "collapsed": true,
    "pycharm": {
     "name": "#%%\n"
    }
   },
   "outputs": [
    {
     "name": "stdout",
     "output_type": "stream",
     "text": [
      "{'pearson': 0.8446748193642777, 'spearman': 0.8435043504350435, 'kendall': 0.6436363636363638}\n"
     ]
    }
   ],
   "source": [
    "corr = {}\n",
    "corr['pearson'], _ = stats.pearsonr(x, y)\n",
    "corr['spearman'], _ = stats.spearmanr(x, y)\n",
    "corr['kendall'], _ = stats.kendalltau(x, y)\n",
    "print(corr)"
   ]
  },
  {
   "cell_type": "markdown",
   "metadata": {
    "pycharm": {
     "name": "#%% md\n"
    }
   },
=======
   "execution_count": null,
   "outputs": [],
   "source": [],
   "metadata": {
    "collapsed": false,
    "pycharm": {
     "name": "#%%\n"
    }
   }
  },
  {
   "cell_type": "markdown",
>>>>>>> Stashed changes
   "source": [
    "# Zadanie 5\n",
    "Wygeneruj zbiór tak by \n",
    "<ul>\n",
    "<li>korelacja pearsona wynosiła około 0.5</li>\n",
    "<li>korelacja spearmana wynosiła około 1</li>\n",
    "<li>korelacja kendalla wynosiła około 1</li>\n",
    "</ul>"
   ],
   "metadata": {
    "collapsed": false,
    "pycharm": {
     "name": "#%% md\n"
    }
   }
  },
  {
   "cell_type": "code",
<<<<<<< Updated upstream
   "execution_count": 137,
   "metadata": {
    "collapsed": true,
    "pycharm": {
     "name": "#%%\n"
    }
   },
   "outputs": [
    {
     "data": {
      "text/plain": "<Figure size 432x432 with 1 Axes>",
      "image/png": "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\n"
     },
     "metadata": {
      "needs_background": "light"
     },
     "output_type": "display_data"
    }
   ],
   "source": [
    "f = lambda x: (x**17)\n",
    "x_tr = np.linspace(-5, 10, 200)\n",
    "y_tr = f(x_tr)\n",
    "x = stats.uniform(0,4).rvs(800)\n",
    "y = f(x) + stats.norm(0,0.1).rvs(len(x))\n",
    "\n",
    "plt.figure(figsize=(6,6))\n",
    "axes = plt.gca()\n",
    "axes.set_xlim([-1,2])\n",
    "axes.set_ylim([-1,100])\n",
    "plt.plot(x_tr, y_tr, '--k')\n",
    "plt.plot(x, y, 'ok', ms=3)\n",
    "plt.show()"
   ]
  },
  {
   "cell_type": "code",
   "execution_count": 138,
   "metadata": {
    "collapsed": true,
    "pycharm": {
     "name": "#%%\n"
    }
   },
   "outputs": [
    {
     "name": "stdout",
     "output_type": "stream",
     "text": [
      "{'pearson': 0.5120823348899239, 'spearman': 0.985145570539954, 'kendall': 0.939755944931164}\n"
     ]
    }
   ],
   "source": [
    "corr = {}\n",
    "corr['pearson'], _ = stats.pearsonr(x, y)\n",
    "corr['spearman'], _ = stats.spearmanr(x, y)\n",
    "corr['kendall'], _ = stats.kendalltau(x, y)\n",
    "print(corr)"
   ]
=======
   "execution_count": null,
   "outputs": [],
   "source": [],
   "metadata": {
    "collapsed": false,
    "pycharm": {
     "name": "#%%\n"
    }
   }
  },
  {
   "cell_type": "code",
   "execution_count": null,
   "outputs": [],
   "source": [],
   "metadata": {
    "collapsed": false,
    "pycharm": {
     "name": "#%%\n"
    }
   }
>>>>>>> Stashed changes
  }
 ],
 "metadata": {
  "kernelspec": {
   "display_name": "Python 3",
   "language": "python",
   "name": "python3"
  },
  "language_info": {
   "codemirror_mode": {
    "name": "ipython",
    "version": 3
   },
   "file_extension": ".py",
   "mimetype": "text/x-python",
   "name": "python",
   "nbconvert_exporter": "python",
   "pygments_lexer": "ipython3",
   "version": "3.8.5"
  }
 },
 "nbformat": 4,
 "nbformat_minor": 2
}