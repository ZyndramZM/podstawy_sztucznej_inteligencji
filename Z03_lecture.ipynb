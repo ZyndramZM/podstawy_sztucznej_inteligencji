{
 "cells": [
  {
   "cell_type": "markdown",
   "source": [
    "# Wykład 03 - notatnik"
   ],
   "metadata": {
    "collapsed": false
   }
  },
  {
   "cell_type": "code",
   "execution_count": 1,
   "metadata": {
    "collapsed": true
   },
   "outputs": [],
   "source": [
    "import pandas as pd\n",
    "import numpy as np\n",
    "import matplotlib.pyplot as plt\n",
    "import seaborn as sns\n",
    "import plotly.express as px\n",
    "import plotly.graph_objects as go"
   ]
  },
  {
   "cell_type": "markdown",
   "source": [
    "## Przygotowanie i analiza danych\n",
    "Naszym celem jest przewidzieć czy inwestycja się uda, a kredytobiorca zwróci kredyt.\n",
    "\n",
    "Link do danych: https://www.dropbox.com/s/spzn2s7anh7tnn9/jaypeedevlin-lending-club-loan-data-2007-11.zip?dl=0\n",
    "\n",
    "Mamy do dyspozycji dwa pliki\n",
    "\n",
    "* lending_club_loans.csv – zawiera dane\n",
    "* LCDataDictionary.csv – zawiera opis poszczególnych kolumn\n",
    "\n",
    "Nasz zbiór danych zawiera informacje o bieżących kredytach, spłaconych pożyczkach i niespłacanych pożyczkach."
   ],
   "metadata": {
    "collapsed": false
   }
  },
  {
   "cell_type": "code",
   "execution_count": null,
   "outputs": [],
   "source": [],
   "metadata": {
    "collapsed": false,
    "pycharm": {
     "name": "#%%\n"
    }
   }
  }
 ],
 "metadata": {
  "kernelspec": {
   "display_name": "Python 3",
   "language": "python",
   "name": "python3"
  },
  "language_info": {
   "codemirror_mode": {
    "name": "ipython",
    "version": 2
   },
   "file_extension": ".py",
   "mimetype": "text/x-python",
   "name": "python",
   "nbconvert_exporter": "python",
   "pygments_lexer": "ipython2",
   "version": "2.7.6"
  }
 },
 "nbformat": 4,
 "nbformat_minor": 0
}