{
 "cells": [
  {
   "cell_type": "markdown",
   "metadata": {
    "collapsed": true,
    "pycharm": {
     "name": "#%% md\n"
    }
   },
   "source": [
    "# Regresja"
   ]
  },
  {
   "cell_type": "code",
   "execution_count": 4,
   "metadata": {
    "pycharm": {
     "name": "#%%\n"
    }
   },
   "outputs": [],
   "source": [
    "import numpy as np\n",
    "import pandas as pd\n",
    "import matplotlib.pyplot as plt\n",
    "from sklearn import datasets\n",
    "from sklearn.model_selection import cross_val_predict\n",
    "from sklearn import datasets, linear_model\n",
    "from sklearn.preprocessing import PolynomialFeatures\n",
    "from sklearn.pipeline import make_pipeline\n",
    "from sklearn import model_selection\n",
    "from sklearn import  metrics\n",
    "from statsmodels.formula.api import ols"
   ]
  },
  {
   "cell_type": "markdown",
   "metadata": {
    "pycharm": {
     "name": "#%% md\n"
    }
   },
   "source": [
    "Rozważmy zbiór Boston"
   ]
  },
  {
   "cell_type": "code",
   "execution_count": 5,
   "metadata": {
    "pycharm": {
     "name": "#%%\n"
    }
   },
   "outputs": [
    {
     "name": "stderr",
     "output_type": "stream",
     "text": [
      "/home/zyndram/anaconda3/envs/podstawy_sztucznej_inteligencji/lib/python3.8/site-packages/sklearn/utils/deprecation.py:87: FutureWarning: Function load_boston is deprecated; `load_boston` is deprecated in 1.0 and will be removed in 1.2.\n",
      "\n",
      "    The Boston housing prices dataset has an ethical problem. You can refer to\n",
      "    the documentation of this function for further details.\n",
      "\n",
      "    The scikit-learn maintainers therefore strongly discourage the use of this\n",
      "    dataset unless the purpose of the code is to study and educate about\n",
      "    ethical issues in data science and machine learning.\n",
      "\n",
      "    In this special case, you can fetch the dataset from the original\n",
      "    source::\n",
      "\n",
      "        import pandas as pd\n",
      "        import numpy as np\n",
      "\n",
      "\n",
      "        data_url = \"http://lib.stat.cmu.edu/datasets/boston\"\n",
      "        raw_df = pd.read_csv(data_url, sep=\"\\s+\", skiprows=22, header=None)\n",
      "        data = np.hstack([raw_df.values[::2, :], raw_df.values[1::2, :2]])\n",
      "        target = raw_df.values[1::2, 2]\n",
      "\n",
      "    Alternative datasets include the California housing dataset (i.e.\n",
      "    :func:`~sklearn.datasets.fetch_california_housing`) and the Ames housing\n",
      "    dataset. You can load the datasets as follows::\n",
      "\n",
      "        from sklearn.datasets import fetch_california_housing\n",
      "        housing = fetch_california_housing()\n",
      "\n",
      "    for the California housing dataset and::\n",
      "\n",
      "        from sklearn.datasets import fetch_openml\n",
      "        housing = fetch_openml(name=\"house_prices\", as_frame=True)\n",
      "\n",
      "    for the Ames housing dataset.\n",
      "    \n",
      "  warnings.warn(msg, category=FutureWarning)\n"
     ]
    }
   ],
   "source": [
    "boston = datasets.load_boston()\n",
    "# print description\n",
    "# print(boston.DESCR)"
   ]
  },
  {
   "cell_type": "code",
   "execution_count": 6,
   "metadata": {
    "pycharm": {
     "name": "#%%\n"
    }
   },
   "outputs": [
    {
     "name": "stdout",
     "output_type": "stream",
     "text": [
      "dict_keys(['data', 'target', 'feature_names', 'DESCR', 'filename', 'data_module'])\n",
      "(506, 13)\n",
      "['CRIM' 'ZN' 'INDUS' 'CHAS' 'NOX' 'RM' 'AGE' 'DIS' 'RAD' 'TAX' 'PTRATIO'\n",
      " 'B' 'LSTAT']\n"
     ]
    }
   ],
   "source": [
    "print(boston.keys())\n",
    "print(boston.data.shape)\n",
    "print(boston.feature_names)"
   ]
  },
  {
   "cell_type": "code",
   "execution_count": 7,
   "metadata": {
    "pycharm": {
     "name": "#%%\n"
    }
   },
   "outputs": [],
   "source": [
    "# get the data\n",
    "boston_X = boston.data\n",
    "boston_Y = boston.target\n",
    "\n",
    "# Split the data into training/testing sets\n",
    "boston_X_train = boston_X[:-50]\n",
    "boston_X_test = boston_X[-50:]\n",
    " \n",
    "# Split the targets into training/testing sets\n",
    "boston_y_train = boston_Y[:-50]\n",
    "boston_y_test = boston_Y[-50:]"
   ]
  },
  {
   "cell_type": "code",
   "execution_count": 7,
   "metadata": {
    "pycharm": {
     "name": "#%%\n"
    }
   },
   "outputs": [],
   "source": []
  },
  {
   "cell_type": "code",
   "execution_count": 8,
   "metadata": {
    "pycharm": {
     "name": "#%%\n"
    }
   },
   "outputs": [
    {
     "data": {
      "text/plain": "      CRIM    ZN  INDUS  CHAS    NOX     RM   AGE     DIS  RAD    TAX  \\\n0  0.00632  18.0   2.31   0.0  0.538  6.575  65.2  4.0900  1.0  296.0   \n1  0.02731   0.0   7.07   0.0  0.469  6.421  78.9  4.9671  2.0  242.0   \n2  0.02729   0.0   7.07   0.0  0.469  7.185  61.1  4.9671  2.0  242.0   \n3  0.03237   0.0   2.18   0.0  0.458  6.998  45.8  6.0622  3.0  222.0   \n4  0.06905   0.0   2.18   0.0  0.458  7.147  54.2  6.0622  3.0  222.0   \n\n   PTRATIO       B  LSTAT  PRICE  \n0     15.3  396.90   4.98   24.0  \n1     17.8  396.90   9.14   21.6  \n2     17.8  392.83   4.03   34.7  \n3     18.7  394.63   2.94   33.4  \n4     18.7  396.90   5.33   36.2  ",
      "text/html": "<div>\n<style scoped>\n    .dataframe tbody tr th:only-of-type {\n        vertical-align: middle;\n    }\n\n    .dataframe tbody tr th {\n        vertical-align: top;\n    }\n\n    .dataframe thead th {\n        text-align: right;\n    }\n</style>\n<table border=\"1\" class=\"dataframe\">\n  <thead>\n    <tr style=\"text-align: right;\">\n      <th></th>\n      <th>CRIM</th>\n      <th>ZN</th>\n      <th>INDUS</th>\n      <th>CHAS</th>\n      <th>NOX</th>\n      <th>RM</th>\n      <th>AGE</th>\n      <th>DIS</th>\n      <th>RAD</th>\n      <th>TAX</th>\n      <th>PTRATIO</th>\n      <th>B</th>\n      <th>LSTAT</th>\n      <th>PRICE</th>\n    </tr>\n  </thead>\n  <tbody>\n    <tr>\n      <th>0</th>\n      <td>0.00632</td>\n      <td>18.0</td>\n      <td>2.31</td>\n      <td>0.0</td>\n      <td>0.538</td>\n      <td>6.575</td>\n      <td>65.2</td>\n      <td>4.0900</td>\n      <td>1.0</td>\n      <td>296.0</td>\n      <td>15.3</td>\n      <td>396.90</td>\n      <td>4.98</td>\n      <td>24.0</td>\n    </tr>\n    <tr>\n      <th>1</th>\n      <td>0.02731</td>\n      <td>0.0</td>\n      <td>7.07</td>\n      <td>0.0</td>\n      <td>0.469</td>\n      <td>6.421</td>\n      <td>78.9</td>\n      <td>4.9671</td>\n      <td>2.0</td>\n      <td>242.0</td>\n      <td>17.8</td>\n      <td>396.90</td>\n      <td>9.14</td>\n      <td>21.6</td>\n    </tr>\n    <tr>\n      <th>2</th>\n      <td>0.02729</td>\n      <td>0.0</td>\n      <td>7.07</td>\n      <td>0.0</td>\n      <td>0.469</td>\n      <td>7.185</td>\n      <td>61.1</td>\n      <td>4.9671</td>\n      <td>2.0</td>\n      <td>242.0</td>\n      <td>17.8</td>\n      <td>392.83</td>\n      <td>4.03</td>\n      <td>34.7</td>\n    </tr>\n    <tr>\n      <th>3</th>\n      <td>0.03237</td>\n      <td>0.0</td>\n      <td>2.18</td>\n      <td>0.0</td>\n      <td>0.458</td>\n      <td>6.998</td>\n      <td>45.8</td>\n      <td>6.0622</td>\n      <td>3.0</td>\n      <td>222.0</td>\n      <td>18.7</td>\n      <td>394.63</td>\n      <td>2.94</td>\n      <td>33.4</td>\n    </tr>\n    <tr>\n      <th>4</th>\n      <td>0.06905</td>\n      <td>0.0</td>\n      <td>2.18</td>\n      <td>0.0</td>\n      <td>0.458</td>\n      <td>7.147</td>\n      <td>54.2</td>\n      <td>6.0622</td>\n      <td>3.0</td>\n      <td>222.0</td>\n      <td>18.7</td>\n      <td>396.90</td>\n      <td>5.33</td>\n      <td>36.2</td>\n    </tr>\n  </tbody>\n</table>\n</div>"
     },
     "execution_count": 8,
     "metadata": {},
     "output_type": "execute_result"
    }
   ],
   "source": [
    "bos=pd.DataFrame(boston.data[:-50])\n",
    "bos.columns = boston.feature_names\n",
    "bos['PRICE']=boston.target[:-50]\n",
    "bos.head()"
   ]
  },
  {
   "cell_type": "code",
   "execution_count": 9,
   "metadata": {
    "pycharm": {
     "name": "#%%\n"
    }
   },
   "outputs": [
    {
     "data": {
      "text/plain": "      CRIM   ZN  INDUS  CHAS    NOX     RM   AGE     DIS   RAD    TAX  \\\n0  4.66883  0.0   18.1   0.0  0.713  5.976  87.9  2.5806  24.0  666.0   \n1  8.20058  0.0   18.1   0.0  0.713  5.936  80.3  2.7792  24.0  666.0   \n2  7.75223  0.0   18.1   0.0  0.713  6.301  83.7  2.7831  24.0  666.0   \n3  6.80117  0.0   18.1   0.0  0.713  6.081  84.4  2.7175  24.0  666.0   \n4  4.81213  0.0   18.1   0.0  0.713  6.701  90.0  2.5975  24.0  666.0   \n\n   PTRATIO       B  LSTAT  PRICE  \n0     20.2   10.48  19.01   12.7  \n1     20.2    3.50  16.94   13.5  \n2     20.2  272.21  16.23   14.9  \n3     20.2  396.90  14.70   20.0  \n4     20.2  255.23  16.42   16.4  ",
      "text/html": "<div>\n<style scoped>\n    .dataframe tbody tr th:only-of-type {\n        vertical-align: middle;\n    }\n\n    .dataframe tbody tr th {\n        vertical-align: top;\n    }\n\n    .dataframe thead th {\n        text-align: right;\n    }\n</style>\n<table border=\"1\" class=\"dataframe\">\n  <thead>\n    <tr style=\"text-align: right;\">\n      <th></th>\n      <th>CRIM</th>\n      <th>ZN</th>\n      <th>INDUS</th>\n      <th>CHAS</th>\n      <th>NOX</th>\n      <th>RM</th>\n      <th>AGE</th>\n      <th>DIS</th>\n      <th>RAD</th>\n      <th>TAX</th>\n      <th>PTRATIO</th>\n      <th>B</th>\n      <th>LSTAT</th>\n      <th>PRICE</th>\n    </tr>\n  </thead>\n  <tbody>\n    <tr>\n      <th>0</th>\n      <td>4.66883</td>\n      <td>0.0</td>\n      <td>18.1</td>\n      <td>0.0</td>\n      <td>0.713</td>\n      <td>5.976</td>\n      <td>87.9</td>\n      <td>2.5806</td>\n      <td>24.0</td>\n      <td>666.0</td>\n      <td>20.2</td>\n      <td>10.48</td>\n      <td>19.01</td>\n      <td>12.7</td>\n    </tr>\n    <tr>\n      <th>1</th>\n      <td>8.20058</td>\n      <td>0.0</td>\n      <td>18.1</td>\n      <td>0.0</td>\n      <td>0.713</td>\n      <td>5.936</td>\n      <td>80.3</td>\n      <td>2.7792</td>\n      <td>24.0</td>\n      <td>666.0</td>\n      <td>20.2</td>\n      <td>3.50</td>\n      <td>16.94</td>\n      <td>13.5</td>\n    </tr>\n    <tr>\n      <th>2</th>\n      <td>7.75223</td>\n      <td>0.0</td>\n      <td>18.1</td>\n      <td>0.0</td>\n      <td>0.713</td>\n      <td>6.301</td>\n      <td>83.7</td>\n      <td>2.7831</td>\n      <td>24.0</td>\n      <td>666.0</td>\n      <td>20.2</td>\n      <td>272.21</td>\n      <td>16.23</td>\n      <td>14.9</td>\n    </tr>\n    <tr>\n      <th>3</th>\n      <td>6.80117</td>\n      <td>0.0</td>\n      <td>18.1</td>\n      <td>0.0</td>\n      <td>0.713</td>\n      <td>6.081</td>\n      <td>84.4</td>\n      <td>2.7175</td>\n      <td>24.0</td>\n      <td>666.0</td>\n      <td>20.2</td>\n      <td>396.90</td>\n      <td>14.70</td>\n      <td>20.0</td>\n    </tr>\n    <tr>\n      <th>4</th>\n      <td>4.81213</td>\n      <td>0.0</td>\n      <td>18.1</td>\n      <td>0.0</td>\n      <td>0.713</td>\n      <td>6.701</td>\n      <td>90.0</td>\n      <td>2.5975</td>\n      <td>24.0</td>\n      <td>666.0</td>\n      <td>20.2</td>\n      <td>255.23</td>\n      <td>16.42</td>\n      <td>16.4</td>\n    </tr>\n  </tbody>\n</table>\n</div>"
     },
     "execution_count": 9,
     "metadata": {},
     "output_type": "execute_result"
    }
   ],
   "source": [
    "bos1=pd.DataFrame(boston_X[-50:])\n",
    "bos1.columns = boston.feature_names\n",
    "bos1['PRICE']=boston.target[-50:]\n",
    "bos1.head()"
   ]
  },
  {
   "cell_type": "code",
   "execution_count": 10,
   "outputs": [
    {
     "data": {
      "text/plain": "             CRIM  ZN     INDUS  CHAS       NOX        RM       AGE       DIS  \\\nCRIM     1.000000 NaN  0.201003   NaN  0.211382  0.045282  0.161483  0.118856   \nZN            NaN NaN       NaN   NaN       NaN       NaN       NaN       NaN   \nINDUS    0.201003 NaN  1.000000   NaN  0.207219 -0.147740  0.421844 -0.170231   \nCHAS          NaN NaN       NaN   NaN       NaN       NaN       NaN       NaN   \nNOX      0.211382 NaN  0.207219   NaN  1.000000  0.026864  0.275541 -0.205316   \nRM       0.045282 NaN -0.147740   NaN  0.026864  1.000000  0.090267  0.212857   \nAGE      0.161483 NaN  0.421844   NaN  0.275541  0.090267  1.000000 -0.590915   \nDIS      0.118856 NaN -0.170231   NaN -0.205316  0.212857 -0.590915  1.000000   \nRAD      0.733008 NaN  0.256055   NaN  0.279781  0.218370  0.004245  0.516316   \nTAX      0.529592 NaN  0.812731   NaN  0.304850 -0.077908  0.236345  0.173004   \nPTRATIO  0.180582 NaN  0.295379   NaN  0.034593  0.439612  0.338677  0.001232   \nB       -0.147766 NaN -0.146834   NaN -0.503015  0.098176 -0.198093  0.030635   \nLSTAT    0.185681 NaN  0.408161   NaN  0.250875 -0.651521  0.376219 -0.417711   \nPRICE   -0.057827 NaN -0.414676   NaN -0.308019  0.562242 -0.570963  0.458780   \n\n              RAD       TAX   PTRATIO         B     LSTAT     PRICE  \nCRIM     0.733008  0.529592  0.180582 -0.147766  0.185681 -0.057827  \nZN            NaN       NaN       NaN       NaN       NaN       NaN  \nINDUS    0.256055  0.812731  0.295379 -0.146834  0.408161 -0.414676  \nCHAS          NaN       NaN       NaN       NaN       NaN       NaN  \nNOX      0.279781  0.304850  0.034593 -0.503015  0.250875 -0.308019  \nRM       0.218370 -0.077908  0.439612  0.098176 -0.651521  0.562242  \nAGE      0.004245  0.236345  0.338677 -0.198093  0.376219 -0.570963  \nDIS      0.516316  0.173004  0.001232  0.030635 -0.417711  0.458780  \nRAD      1.000000  0.734176  0.132078 -0.258563  0.085061  0.105992  \nTAX      0.734176  1.000000  0.073417 -0.238775  0.411040 -0.232839  \nPTRATIO  0.132078  0.073417  1.000000 -0.079456 -0.294283 -0.039699  \nB       -0.258563 -0.238775 -0.079456  1.000000 -0.314114  0.362257  \nLSTAT    0.085061  0.411040 -0.294283 -0.314114  1.000000 -0.700107  \nPRICE    0.105992 -0.232839 -0.039699  0.362257 -0.700107  1.000000  ",
      "text/html": "<div>\n<style scoped>\n    .dataframe tbody tr th:only-of-type {\n        vertical-align: middle;\n    }\n\n    .dataframe tbody tr th {\n        vertical-align: top;\n    }\n\n    .dataframe thead th {\n        text-align: right;\n    }\n</style>\n<table border=\"1\" class=\"dataframe\">\n  <thead>\n    <tr style=\"text-align: right;\">\n      <th></th>\n      <th>CRIM</th>\n      <th>ZN</th>\n      <th>INDUS</th>\n      <th>CHAS</th>\n      <th>NOX</th>\n      <th>RM</th>\n      <th>AGE</th>\n      <th>DIS</th>\n      <th>RAD</th>\n      <th>TAX</th>\n      <th>PTRATIO</th>\n      <th>B</th>\n      <th>LSTAT</th>\n      <th>PRICE</th>\n    </tr>\n  </thead>\n  <tbody>\n    <tr>\n      <th>CRIM</th>\n      <td>1.000000</td>\n      <td>NaN</td>\n      <td>0.201003</td>\n      <td>NaN</td>\n      <td>0.211382</td>\n      <td>0.045282</td>\n      <td>0.161483</td>\n      <td>0.118856</td>\n      <td>0.733008</td>\n      <td>0.529592</td>\n      <td>0.180582</td>\n      <td>-0.147766</td>\n      <td>0.185681</td>\n      <td>-0.057827</td>\n    </tr>\n    <tr>\n      <th>ZN</th>\n      <td>NaN</td>\n      <td>NaN</td>\n      <td>NaN</td>\n      <td>NaN</td>\n      <td>NaN</td>\n      <td>NaN</td>\n      <td>NaN</td>\n      <td>NaN</td>\n      <td>NaN</td>\n      <td>NaN</td>\n      <td>NaN</td>\n      <td>NaN</td>\n      <td>NaN</td>\n      <td>NaN</td>\n    </tr>\n    <tr>\n      <th>INDUS</th>\n      <td>0.201003</td>\n      <td>NaN</td>\n      <td>1.000000</td>\n      <td>NaN</td>\n      <td>0.207219</td>\n      <td>-0.147740</td>\n      <td>0.421844</td>\n      <td>-0.170231</td>\n      <td>0.256055</td>\n      <td>0.812731</td>\n      <td>0.295379</td>\n      <td>-0.146834</td>\n      <td>0.408161</td>\n      <td>-0.414676</td>\n    </tr>\n    <tr>\n      <th>CHAS</th>\n      <td>NaN</td>\n      <td>NaN</td>\n      <td>NaN</td>\n      <td>NaN</td>\n      <td>NaN</td>\n      <td>NaN</td>\n      <td>NaN</td>\n      <td>NaN</td>\n      <td>NaN</td>\n      <td>NaN</td>\n      <td>NaN</td>\n      <td>NaN</td>\n      <td>NaN</td>\n      <td>NaN</td>\n    </tr>\n    <tr>\n      <th>NOX</th>\n      <td>0.211382</td>\n      <td>NaN</td>\n      <td>0.207219</td>\n      <td>NaN</td>\n      <td>1.000000</td>\n      <td>0.026864</td>\n      <td>0.275541</td>\n      <td>-0.205316</td>\n      <td>0.279781</td>\n      <td>0.304850</td>\n      <td>0.034593</td>\n      <td>-0.503015</td>\n      <td>0.250875</td>\n      <td>-0.308019</td>\n    </tr>\n    <tr>\n      <th>RM</th>\n      <td>0.045282</td>\n      <td>NaN</td>\n      <td>-0.147740</td>\n      <td>NaN</td>\n      <td>0.026864</td>\n      <td>1.000000</td>\n      <td>0.090267</td>\n      <td>0.212857</td>\n      <td>0.218370</td>\n      <td>-0.077908</td>\n      <td>0.439612</td>\n      <td>0.098176</td>\n      <td>-0.651521</td>\n      <td>0.562242</td>\n    </tr>\n    <tr>\n      <th>AGE</th>\n      <td>0.161483</td>\n      <td>NaN</td>\n      <td>0.421844</td>\n      <td>NaN</td>\n      <td>0.275541</td>\n      <td>0.090267</td>\n      <td>1.000000</td>\n      <td>-0.590915</td>\n      <td>0.004245</td>\n      <td>0.236345</td>\n      <td>0.338677</td>\n      <td>-0.198093</td>\n      <td>0.376219</td>\n      <td>-0.570963</td>\n    </tr>\n    <tr>\n      <th>DIS</th>\n      <td>0.118856</td>\n      <td>NaN</td>\n      <td>-0.170231</td>\n      <td>NaN</td>\n      <td>-0.205316</td>\n      <td>0.212857</td>\n      <td>-0.590915</td>\n      <td>1.000000</td>\n      <td>0.516316</td>\n      <td>0.173004</td>\n      <td>0.001232</td>\n      <td>0.030635</td>\n      <td>-0.417711</td>\n      <td>0.458780</td>\n    </tr>\n    <tr>\n      <th>RAD</th>\n      <td>0.733008</td>\n      <td>NaN</td>\n      <td>0.256055</td>\n      <td>NaN</td>\n      <td>0.279781</td>\n      <td>0.218370</td>\n      <td>0.004245</td>\n      <td>0.516316</td>\n      <td>1.000000</td>\n      <td>0.734176</td>\n      <td>0.132078</td>\n      <td>-0.258563</td>\n      <td>0.085061</td>\n      <td>0.105992</td>\n    </tr>\n    <tr>\n      <th>TAX</th>\n      <td>0.529592</td>\n      <td>NaN</td>\n      <td>0.812731</td>\n      <td>NaN</td>\n      <td>0.304850</td>\n      <td>-0.077908</td>\n      <td>0.236345</td>\n      <td>0.173004</td>\n      <td>0.734176</td>\n      <td>1.000000</td>\n      <td>0.073417</td>\n      <td>-0.238775</td>\n      <td>0.411040</td>\n      <td>-0.232839</td>\n    </tr>\n    <tr>\n      <th>PTRATIO</th>\n      <td>0.180582</td>\n      <td>NaN</td>\n      <td>0.295379</td>\n      <td>NaN</td>\n      <td>0.034593</td>\n      <td>0.439612</td>\n      <td>0.338677</td>\n      <td>0.001232</td>\n      <td>0.132078</td>\n      <td>0.073417</td>\n      <td>1.000000</td>\n      <td>-0.079456</td>\n      <td>-0.294283</td>\n      <td>-0.039699</td>\n    </tr>\n    <tr>\n      <th>B</th>\n      <td>-0.147766</td>\n      <td>NaN</td>\n      <td>-0.146834</td>\n      <td>NaN</td>\n      <td>-0.503015</td>\n      <td>0.098176</td>\n      <td>-0.198093</td>\n      <td>0.030635</td>\n      <td>-0.258563</td>\n      <td>-0.238775</td>\n      <td>-0.079456</td>\n      <td>1.000000</td>\n      <td>-0.314114</td>\n      <td>0.362257</td>\n    </tr>\n    <tr>\n      <th>LSTAT</th>\n      <td>0.185681</td>\n      <td>NaN</td>\n      <td>0.408161</td>\n      <td>NaN</td>\n      <td>0.250875</td>\n      <td>-0.651521</td>\n      <td>0.376219</td>\n      <td>-0.417711</td>\n      <td>0.085061</td>\n      <td>0.411040</td>\n      <td>-0.294283</td>\n      <td>-0.314114</td>\n      <td>1.000000</td>\n      <td>-0.700107</td>\n    </tr>\n    <tr>\n      <th>PRICE</th>\n      <td>-0.057827</td>\n      <td>NaN</td>\n      <td>-0.414676</td>\n      <td>NaN</td>\n      <td>-0.308019</td>\n      <td>0.562242</td>\n      <td>-0.570963</td>\n      <td>0.458780</td>\n      <td>0.105992</td>\n      <td>-0.232839</td>\n      <td>-0.039699</td>\n      <td>0.362257</td>\n      <td>-0.700107</td>\n      <td>1.000000</td>\n    </tr>\n  </tbody>\n</table>\n</div>"
     },
     "execution_count": 10,
     "metadata": {},
     "output_type": "execute_result"
    }
   ],
   "source": [
    "corr = bos1.corr()\n",
    "\n",
    "corr"
   ],
   "metadata": {
    "collapsed": false,
    "pycharm": {
     "name": "#%%\n"
    }
   }
  },
  {
   "cell_type": "code",
   "execution_count": 71,
   "outputs": [
    {
     "name": "stdout",
     "output_type": "stream",
     "text": [
      "                                                                Results: Ordinary least squares\n",
      "===============================================================================================================================================================\n",
      "Model:                                             OLS                                             Adj. R-squared:                                    0.853    \n",
      "Dependent Variable:                                PRICE                                           AIC:                                               2531.2012\n",
      "Date:                                              2022-03-25 15:20                                BIC:                                               2795.0407\n",
      "No. Observations:                                  456                                             Log-Likelihood:                                    -1201.6  \n",
      "Df Model:                                          63                                              F-statistic:                                       42.92    \n",
      "Df Residuals:                                      392                                             Prob (F-statistic):                                1.15e-140\n",
      "R-squared:                                         0.873                                           Scale:                                             13.244   \n",
      "---------------------------------------------------------------------------------------------------------------------------------------------------------------\n",
      "                                                                                             Coef.       Std.Err.      t    P>|t|      [0.025         0.975]   \n",
      "---------------------------------------------------------------------------------------------------------------------------------------------------------------\n",
      "Intercept                                                                                 1706254.0716 1782758.2985  0.9571 0.3391  -1798709.5485  5211217.6916\n",
      "I(np.power(LSTAT, 0.01))                                                                 -1659211.0196 1744913.8275 -0.9509 0.3422  -5089771.1189  1771349.0796\n",
      "I(np.power(AGE, 0.7))                                                                     -117624.9832   79585.8191 -1.4780 0.1402   -274093.4180    38843.4517\n",
      "I(np.power(LSTAT, 0.01)):I(np.power(AGE, 0.7))                                             114297.1002   77843.4948  1.4683 0.1428    -38745.8657   267340.0660\n",
      "I(np.power(B, 0.5))                                                                        -84040.6944   90460.3762 -0.9290 0.3534   -261888.8794    93807.4906\n",
      "I(np.power(LSTAT, 0.01)):I(np.power(B, 0.5))                                                81711.1451   88540.6931  0.9229 0.3566    -92362.8775   255785.1677\n",
      "I(np.power(AGE, 0.7)):I(np.power(B, 0.5))                                                    5796.8945    4035.2367  1.4366 0.1516     -2136.5185    13730.3074\n",
      "I(np.power(LSTAT, 0.01)):I(np.power(AGE, 0.7)):I(np.power(B, 0.5))                          -5631.7585    3946.9028 -1.4269 0.1544    -13391.5039     2127.9870\n",
      "I(NOX)                                                                                   -4273521.7201 3997877.3118 -1.0689 0.2858 -12133484.8720  3586441.4318\n",
      "I(np.power(LSTAT, 0.01)):I(NOX)                                                           4158366.0384 3911422.9177  1.0631 0.2884  -3531624.8260 11848356.9029\n",
      "I(np.power(AGE, 0.7)):I(NOX)                                                               270425.7614  176542.4558  1.5318 0.1264    -76662.7281   617514.2509\n",
      "I(np.power(LSTAT, 0.01)):I(np.power(AGE, 0.7)):I(NOX)                                     -262959.7629  172623.6389 -1.5233 0.1285   -602343.7247    76424.1989\n",
      "I(np.power(B, 0.5)):I(NOX)                                                                 210648.3011  203000.8096  1.0377 0.3001   -188458.2144   609754.8167\n",
      "I(np.power(LSTAT, 0.01)):I(np.power(B, 0.5)):I(NOX)                                       -204953.4998  198612.8741 -1.0319 0.3027   -595433.1844   185526.1848\n",
      "I(np.power(AGE, 0.7)):I(np.power(B, 0.5)):I(NOX)                                           -13345.5542    8959.2240 -1.4896 0.1371    -30959.6942     4268.5858\n",
      "I(np.power(LSTAT, 0.01)):I(np.power(AGE, 0.7)):I(np.power(B, 0.5)):I(NOX)                   12975.0947    8760.4019  1.4811 0.1394     -4248.1542    30198.3436\n",
      "I(INDUS)                                                                                   -70148.8609  104471.4717 -0.6715 0.5023   -275543.3374   135245.6156\n",
      "I(np.power(LSTAT, 0.01)):I(INDUS)                                                           68340.1599  102167.3546  0.6689 0.5040   -132524.3439   269204.6636\n",
      "I(np.power(AGE, 0.7)):I(INDUS)                                                               5382.7123    4677.6053  1.1507 0.2505     -3813.6193    14579.0440\n",
      "I(np.power(LSTAT, 0.01)):I(np.power(AGE, 0.7)):I(INDUS)                                     -5235.0823    4571.6780 -1.1451 0.2529    -14223.1571     3752.9926\n",
      "I(np.power(B, 0.5)):I(INDUS)                                                                 3313.6039    5296.0021  0.6257 0.5319     -7098.5169    13725.7248\n",
      "I(np.power(LSTAT, 0.01)):I(np.power(B, 0.5)):I(INDUS)                                       -3227.5715    5179.2038 -0.6232 0.5335    -13410.0627     6954.9198\n",
      "I(np.power(AGE, 0.7)):I(np.power(B, 0.5)):I(INDUS)                                           -258.7012     236.8670 -1.0922 0.2754      -724.3898      206.9873\n",
      "I(np.power(LSTAT, 0.01)):I(np.power(AGE, 0.7)):I(np.power(B, 0.5)):I(INDUS)                   251.5437     231.5006  1.0866 0.2779      -203.5943      706.6817\n",
      "I(NOX):I(INDUS)                                                                            197400.8606  219036.8797  0.9012 0.3680   -233233.1156   628034.8369\n",
      "I(np.power(LSTAT, 0.01)):I(NOX):I(INDUS)                                                  -192277.2789  214285.6430 -0.8973 0.3701   -613570.1618   229015.6041\n",
      "I(np.power(AGE, 0.7)):I(NOX):I(INDUS)                                                      -13158.8130    9746.5053 -1.3501 0.1778    -32320.7748     6003.1488\n",
      "I(np.power(LSTAT, 0.01)):I(np.power(AGE, 0.7)):I(NOX):I(INDUS)                              12803.0399    9528.7207  1.3436 0.1798     -5930.7501    31536.8298\n",
      "I(np.power(B, 0.5)):I(NOX):I(INDUS)                                                         -9385.0214   11120.7892 -0.8439 0.3992    -31248.8723    12478.8294\n",
      "I(np.power(LSTAT, 0.01)):I(np.power(B, 0.5)):I(NOX):I(INDUS)                                 9140.2821   10879.4938  0.8401 0.4013    -12249.1738    30529.7379\n",
      "I(np.power(AGE, 0.7)):I(np.power(B, 0.5)):I(NOX):I(INDUS)                                     634.2279     494.3558  1.2829 0.2003      -337.6925     1606.1484\n",
      "I(np.power(LSTAT, 0.01)):I(np.power(AGE, 0.7)):I(np.power(B, 0.5)):I(NOX):I(INDUS)           -616.9542     483.3032 -1.2765 0.2025     -1567.1447      333.2363\n",
      "I(RM)                                                                                     -283788.5881  278416.3678 -1.0193 0.3087   -831164.6632   263587.4869\n",
      "I(np.power(LSTAT, 0.01)):I(RM)                                                             276020.5753  272610.2829  1.0125 0.3119   -259940.5389   811981.6894\n",
      "I(np.power(AGE, 0.7)):I(RM)                                                                 18422.1204   12461.6836  1.4783 0.1401     -6077.9746    42922.2154\n",
      "I(np.power(LSTAT, 0.01)):I(np.power(AGE, 0.7)):I(RM)                                       -17903.0053   12193.2607 -1.4683 0.1428    -41875.3718     6069.3611\n",
      "I(np.power(B, 0.5)):I(RM)                                                                   14035.6786   14126.1042  0.9936 0.3210    -13736.7242    41808.0814\n",
      "I(np.power(LSTAT, 0.01)):I(np.power(B, 0.5)):I(RM)                                         -13649.8378   13831.6461 -0.9869 0.3243    -40843.3258    13543.6503\n",
      "I(np.power(AGE, 0.7)):I(np.power(B, 0.5)):I(RM)                                              -909.8049     631.7768 -1.4401 0.1506     -2151.8996      332.2898\n",
      "I(np.power(LSTAT, 0.01)):I(np.power(AGE, 0.7)):I(np.power(B, 0.5)):I(RM)                      884.0123     618.1709  1.4300 0.1535      -331.3327     2099.3574\n",
      "I(NOX):I(RM)                                                                               708021.7322  625681.2888  1.1316 0.2585   -522089.0220  1938132.4863\n",
      "I(np.power(LSTAT, 0.01)):I(NOX):I(RM)                                                     -689010.7761  612391.5057 -1.1251 0.2612  -1892993.3633   514971.8112\n",
      "I(np.power(AGE, 0.7)):I(NOX):I(RM)                                                         -42693.5084   27660.4086 -1.5435 0.1235    -97074.8151    11687.7984\n",
      "I(np.power(LSTAT, 0.01)):I(np.power(AGE, 0.7)):I(NOX):I(RM)                                 41518.4291   27056.3483  1.5345 0.1257    -11675.2746    94712.1327\n",
      "I(np.power(B, 0.5)):I(NOX):I(RM)                                                           -35027.9315   31767.3984 -1.1026 0.2709    -97483.7202    27427.8571\n",
      "I(np.power(LSTAT, 0.01)):I(np.power(B, 0.5)):I(NOX):I(RM)                                   34085.5298   31092.9995  1.0962 0.2736    -27044.3678    95215.4274\n",
      "I(np.power(AGE, 0.7)):I(np.power(B, 0.5)):I(NOX):I(RM)                                       2111.5058    1403.5821  1.5044 0.1333      -647.9845     4870.9960\n",
      "I(np.power(LSTAT, 0.01)):I(np.power(AGE, 0.7)):I(np.power(B, 0.5)):I(NOX):I(RM)             -2053.1223    1372.9402 -1.4954 0.1356     -4752.3695      646.1249\n",
      "I(INDUS):I(RM)                                                                              12084.5769   16408.0655  0.7365 0.4619    -20174.2394    44343.3932\n",
      "I(np.power(LSTAT, 0.01)):I(INDUS):I(RM)                                                    -11777.4201   16050.4202 -0.7338 0.4635    -43333.0937    19778.2535\n",
      "I(np.power(AGE, 0.7)):I(INDUS):I(RM)                                                         -850.5233     736.1232 -1.1554 0.2486     -2297.7666      596.7200\n",
      "I(np.power(LSTAT, 0.01)):I(np.power(AGE, 0.7)):I(INDUS):I(RM)                                 827.4600     719.6334  1.1498 0.2509      -587.3637     2242.2838\n",
      "I(np.power(B, 0.5)):I(INDUS):I(RM)                                                           -573.3004     831.4168 -0.6895 0.4909     -2207.8941     1061.2933\n",
      "I(np.power(LSTAT, 0.01)):I(np.power(B, 0.5)):I(INDUS):I(RM)                                   558.6640     813.2996  0.6869 0.4925     -1040.3108     2157.6388\n",
      "I(np.power(AGE, 0.7)):I(np.power(B, 0.5)):I(INDUS):I(RM)                                       40.8860      37.2602  1.0973 0.2732       -32.3689      114.1409\n",
      "I(np.power(LSTAT, 0.01)):I(np.power(AGE, 0.7)):I(np.power(B, 0.5)):I(INDUS):I(RM)             -39.7688      36.4254 -1.0918 0.2756      -111.3823       31.8448\n",
      "I(NOX):I(INDUS):I(RM)                                                                      -33274.2391   34295.4616 -0.9702 0.3325   -100700.2864    34151.8082\n",
      "I(np.power(LSTAT, 0.01)):I(NOX):I(INDUS):I(RM)                                              32416.4735   33564.4823  0.9658 0.3347    -33572.4434    98405.3905\n",
      "I(np.power(AGE, 0.7)):I(NOX):I(INDUS):I(RM)                                                  2089.0288    1527.6276  1.3675 0.1723      -914.3391     5092.3967\n",
      "I(np.power(LSTAT, 0.01)):I(np.power(AGE, 0.7)):I(NOX):I(INDUS):I(RM)                        -2032.9359    1494.0156 -1.3607 0.1744     -4970.2216      904.3498\n",
      "I(np.power(B, 0.5)):I(NOX):I(INDUS):I(RM)                                                    1586.0311    1740.5615  0.9112 0.3627     -1835.9722     5008.0344\n",
      "I(np.power(LSTAT, 0.01)):I(np.power(B, 0.5)):I(NOX):I(INDUS):I(RM)                          -1545.0207    1703.4589 -0.9070 0.3650     -4894.0789     1804.0376\n",
      "I(np.power(AGE, 0.7)):I(np.power(B, 0.5)):I(NOX):I(INDUS):I(RM)                              -100.6547      77.4541 -1.2995 0.1945      -252.9321       51.6227\n",
      "I(np.power(LSTAT, 0.01)):I(np.power(AGE, 0.7)):I(np.power(B, 0.5)):I(NOX):I(INDUS):I(RM)       97.9346      75.7492  1.2929 0.1968       -50.9909      246.8601\n",
      "---------------------------------------------------------------------------------------------------------------------------------------------------------------\n",
      "Omnibus:                                          210.296                                    Durbin-Watson:                                       1.153        \n",
      "Prob(Omnibus):                                    0.000                                      Jarque-Bera (JB):                                    2272.490     \n",
      "Skew:                                             1.697                                      Prob(JB):                                            0.000        \n",
      "Kurtosis:                                         13.397                                     Condition No.:                                       1962489415829\n",
      "===============================================================================================================================================================\n",
      "* The condition number is large (2e+12). This might indicate             strong multicollinearity or other numerical problems.\n"
     ]
    }
   ],
   "source": [
    "model = ols(\"PRICE ~ I(np.power(LSTAT, 0.01)) * I(np.power(AGE, 0.7)) * I(np.power(B, 0.5)) * I(NOX) * I(INDUS) * I(RM)\", bos).fit()\n",
    "# Print the summary\n",
    "print((model.summary2()))"
   ],
   "metadata": {
    "collapsed": false,
    "pycharm": {
     "name": "#%%\n"
    }
   }
  },
  {
   "cell_type": "code",
   "execution_count": 72,
   "metadata": {
    "pycharm": {
     "name": "#%%\n"
    }
   },
   "outputs": [
    {
     "data": {
      "text/plain": "0.8733890215211415"
     },
     "execution_count": 72,
     "metadata": {},
     "output_type": "execute_result"
    }
   ],
   "source": [
    "from sklearn import  metrics\n",
    "metrics.r2_score(bos.PRICE, model.predict(bos))"
   ]
  },
  {
   "cell_type": "code",
   "execution_count": 74,
   "metadata": {
    "pycharm": {
     "name": "#%%\n"
    }
   },
   "outputs": [
    {
     "data": {
      "text/plain": "-1.3032234880423261"
     },
     "execution_count": 74,
     "metadata": {},
     "output_type": "execute_result"
    }
   ],
   "source": [
    "from sklearn import  metrics\n",
    "metrics.r2_score(bos1.PRICE, model.predict(bos1))"
   ]
  },
  {
   "cell_type": "code",
   "execution_count": null,
   "metadata": {
    "collapsed": true,
    "pycharm": {
     "name": "#%%\n"
    }
   },
   "outputs": [],
   "source": []
  },
  {
   "cell_type": "code",
   "execution_count": null,
   "metadata": {
    "collapsed": true,
    "pycharm": {
     "name": "#%%\n"
    }
   },
   "outputs": [],
   "source": []
  }
 ],
 "metadata": {
  "kernelspec": {
   "display_name": "Python 3",
   "language": "python",
   "name": "python3"
  },
  "language_info": {
   "codemirror_mode": {
    "name": "ipython",
    "version": 3
   },
   "file_extension": ".py",
   "mimetype": "text/x-python",
   "name": "python",
   "nbconvert_exporter": "python",
   "pygments_lexer": "ipython3",
   "version": "3.7.6"
  }
 },
 "nbformat": 4,
 "nbformat_minor": 2
}