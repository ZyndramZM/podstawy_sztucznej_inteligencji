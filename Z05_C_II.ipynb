{
 "cells": [
  {
   "cell_type": "markdown",
   "metadata": {
    "collapsed": true,
    "pycharm": {
     "name": "#%% md\n"
    }
   },
   "source": [
    "# Regresja"
   ]
  },
  {
   "cell_type": "code",
   "execution_count": 4,
   "metadata": {
    "pycharm": {
     "name": "#%%\n"
    }
   },
   "outputs": [],
   "source": [
    "import numpy as np\n",
    "import pandas as pd\n",
    "import matplotlib.pyplot as plt\n",
    "from sklearn import datasets\n",
    "from sklearn.model_selection import cross_val_predict\n",
    "from sklearn import datasets, linear_model\n",
    "from sklearn.preprocessing import PolynomialFeatures\n",
    "from sklearn.pipeline import make_pipeline\n",
    "from sklearn import model_selection\n",
    "from sklearn import  metrics\n",
    "from statsmodels.formula.api import ols"
   ]
  },
  {
   "cell_type": "markdown",
   "metadata": {
    "pycharm": {
     "name": "#%% md\n"
    }
   },
   "source": [
    "Rozważmy zbiór Boston"
   ]
  },
  {
   "cell_type": "code",
   "execution_count": 5,
   "metadata": {
    "pycharm": {
     "name": "#%%\n"
    }
   },
   "outputs": [
    {
     "name": "stderr",
     "output_type": "stream",
     "text": [
      "/home/zyndram/anaconda3/envs/podstawy_sztucznej_inteligencji/lib/python3.8/site-packages/sklearn/utils/deprecation.py:87: FutureWarning: Function load_boston is deprecated; `load_boston` is deprecated in 1.0 and will be removed in 1.2.\n",
      "\n",
      "    The Boston housing prices dataset has an ethical problem. You can refer to\n",
      "    the documentation of this function for further details.\n",
      "\n",
      "    The scikit-learn maintainers therefore strongly discourage the use of this\n",
      "    dataset unless the purpose of the code is to study and educate about\n",
      "    ethical issues in data science and machine learning.\n",
      "\n",
      "    In this special case, you can fetch the dataset from the original\n",
      "    source::\n",
      "\n",
      "        import pandas as pd\n",
      "        import numpy as np\n",
      "\n",
      "\n",
      "        data_url = \"http://lib.stat.cmu.edu/datasets/boston\"\n",
      "        raw_df = pd.read_csv(data_url, sep=\"\\s+\", skiprows=22, header=None)\n",
      "        data = np.hstack([raw_df.values[::2, :], raw_df.values[1::2, :2]])\n",
      "        target = raw_df.values[1::2, 2]\n",
      "\n",
      "    Alternative datasets include the California housing dataset (i.e.\n",
      "    :func:`~sklearn.datasets.fetch_california_housing`) and the Ames housing\n",
      "    dataset. You can load the datasets as follows::\n",
      "\n",
      "        from sklearn.datasets import fetch_california_housing\n",
      "        housing = fetch_california_housing()\n",
      "\n",
      "    for the California housing dataset and::\n",
      "\n",
      "        from sklearn.datasets import fetch_openml\n",
      "        housing = fetch_openml(name=\"house_prices\", as_frame=True)\n",
      "\n",
      "    for the Ames housing dataset.\n",
      "    \n",
      "  warnings.warn(msg, category=FutureWarning)\n"
     ]
    }
   ],
   "source": [
    "boston = datasets.load_boston()\n",
    "# print description\n",
    "# print(boston.DESCR)"
   ]
  },
  {
   "cell_type": "code",
   "execution_count": 6,
   "metadata": {
    "pycharm": {
     "name": "#%%\n"
    }
   },
   "outputs": [
    {
     "name": "stdout",
     "output_type": "stream",
     "text": [
      "dict_keys(['data', 'target', 'feature_names', 'DESCR', 'filename', 'data_module'])\n",
      "(506, 13)\n",
      "['CRIM' 'ZN' 'INDUS' 'CHAS' 'NOX' 'RM' 'AGE' 'DIS' 'RAD' 'TAX' 'PTRATIO'\n",
      " 'B' 'LSTAT']\n"
     ]
    }
   ],
   "source": [
    "print(boston.keys())\n",
    "print(boston.data.shape)\n",
    "print(boston.feature_names)"
   ]
  },
  {
   "cell_type": "code",
   "execution_count": 7,
   "metadata": {
    "pycharm": {
     "name": "#%%\n"
    }
   },
   "outputs": [],
   "source": [
    "# get the data\n",
    "boston_X = boston.data\n",
    "boston_Y = boston.target\n",
    "\n",
    "# Split the data into training/testing sets\n",
    "boston_X_train = boston_X[:-50]\n",
    "boston_X_test = boston_X[-50:]\n",
    " \n",
    "# Split the targets into training/testing sets\n",
    "boston_y_train = boston_Y[:-50]\n",
    "boston_y_test = boston_Y[-50:]"
   ]
  },
  {
   "cell_type": "code",
   "execution_count": 7,
   "metadata": {
    "pycharm": {
     "name": "#%%\n"
    }
   },
   "outputs": [],
   "source": []
  },
  {
   "cell_type": "code",
   "execution_count": 8,
   "metadata": {
    "pycharm": {
     "name": "#%%\n"
    }
   },
   "outputs": [
    {
     "data": {
      "text/plain": "      CRIM    ZN  INDUS  CHAS    NOX     RM   AGE     DIS  RAD    TAX  \\\n0  0.00632  18.0   2.31   0.0  0.538  6.575  65.2  4.0900  1.0  296.0   \n1  0.02731   0.0   7.07   0.0  0.469  6.421  78.9  4.9671  2.0  242.0   \n2  0.02729   0.0   7.07   0.0  0.469  7.185  61.1  4.9671  2.0  242.0   \n3  0.03237   0.0   2.18   0.0  0.458  6.998  45.8  6.0622  3.0  222.0   \n4  0.06905   0.0   2.18   0.0  0.458  7.147  54.2  6.0622  3.0  222.0   \n\n   PTRATIO       B  LSTAT  PRICE  \n0     15.3  396.90   4.98   24.0  \n1     17.8  396.90   9.14   21.6  \n2     17.8  392.83   4.03   34.7  \n3     18.7  394.63   2.94   33.4  \n4     18.7  396.90   5.33   36.2  ",
      "text/html": "<div>\n<style scoped>\n    .dataframe tbody tr th:only-of-type {\n        vertical-align: middle;\n    }\n\n    .dataframe tbody tr th {\n        vertical-align: top;\n    }\n\n    .dataframe thead th {\n        text-align: right;\n    }\n</style>\n<table border=\"1\" class=\"dataframe\">\n  <thead>\n    <tr style=\"text-align: right;\">\n      <th></th>\n      <th>CRIM</th>\n      <th>ZN</th>\n      <th>INDUS</th>\n      <th>CHAS</th>\n      <th>NOX</th>\n      <th>RM</th>\n      <th>AGE</th>\n      <th>DIS</th>\n      <th>RAD</th>\n      <th>TAX</th>\n      <th>PTRATIO</th>\n      <th>B</th>\n      <th>LSTAT</th>\n      <th>PRICE</th>\n    </tr>\n  </thead>\n  <tbody>\n    <tr>\n      <th>0</th>\n      <td>0.00632</td>\n      <td>18.0</td>\n      <td>2.31</td>\n      <td>0.0</td>\n      <td>0.538</td>\n      <td>6.575</td>\n      <td>65.2</td>\n      <td>4.0900</td>\n      <td>1.0</td>\n      <td>296.0</td>\n      <td>15.3</td>\n      <td>396.90</td>\n      <td>4.98</td>\n      <td>24.0</td>\n    </tr>\n    <tr>\n      <th>1</th>\n      <td>0.02731</td>\n      <td>0.0</td>\n      <td>7.07</td>\n      <td>0.0</td>\n      <td>0.469</td>\n      <td>6.421</td>\n      <td>78.9</td>\n      <td>4.9671</td>\n      <td>2.0</td>\n      <td>242.0</td>\n      <td>17.8</td>\n      <td>396.90</td>\n      <td>9.14</td>\n      <td>21.6</td>\n    </tr>\n    <tr>\n      <th>2</th>\n      <td>0.02729</td>\n      <td>0.0</td>\n      <td>7.07</td>\n      <td>0.0</td>\n      <td>0.469</td>\n      <td>7.185</td>\n      <td>61.1</td>\n      <td>4.9671</td>\n      <td>2.0</td>\n      <td>242.0</td>\n      <td>17.8</td>\n      <td>392.83</td>\n      <td>4.03</td>\n      <td>34.7</td>\n    </tr>\n    <tr>\n      <th>3</th>\n      <td>0.03237</td>\n      <td>0.0</td>\n      <td>2.18</td>\n      <td>0.0</td>\n      <td>0.458</td>\n      <td>6.998</td>\n      <td>45.8</td>\n      <td>6.0622</td>\n      <td>3.0</td>\n      <td>222.0</td>\n      <td>18.7</td>\n      <td>394.63</td>\n      <td>2.94</td>\n      <td>33.4</td>\n    </tr>\n    <tr>\n      <th>4</th>\n      <td>0.06905</td>\n      <td>0.0</td>\n      <td>2.18</td>\n      <td>0.0</td>\n      <td>0.458</td>\n      <td>7.147</td>\n      <td>54.2</td>\n      <td>6.0622</td>\n      <td>3.0</td>\n      <td>222.0</td>\n      <td>18.7</td>\n      <td>396.90</td>\n      <td>5.33</td>\n      <td>36.2</td>\n    </tr>\n  </tbody>\n</table>\n</div>"
     },
     "execution_count": 8,
     "metadata": {},
     "output_type": "execute_result"
    }
   ],
   "source": [
    "bos=pd.DataFrame(boston.data[:-50])\n",
    "bos.columns = boston.feature_names\n",
    "bos['PRICE']=boston.target[:-50]\n",
    "bos.head()"
   ]
  },
  {
   "cell_type": "code",
   "execution_count": 9,
   "metadata": {
    "pycharm": {
     "name": "#%%\n"
    }
   },
   "outputs": [
    {
     "data": {
      "text/plain": "      CRIM   ZN  INDUS  CHAS    NOX     RM   AGE     DIS   RAD    TAX  \\\n0  4.66883  0.0   18.1   0.0  0.713  5.976  87.9  2.5806  24.0  666.0   \n1  8.20058  0.0   18.1   0.0  0.713  5.936  80.3  2.7792  24.0  666.0   \n2  7.75223  0.0   18.1   0.0  0.713  6.301  83.7  2.7831  24.0  666.0   \n3  6.80117  0.0   18.1   0.0  0.713  6.081  84.4  2.7175  24.0  666.0   \n4  4.81213  0.0   18.1   0.0  0.713  6.701  90.0  2.5975  24.0  666.0   \n\n   PTRATIO       B  LSTAT  PRICE  \n0     20.2   10.48  19.01   12.7  \n1     20.2    3.50  16.94   13.5  \n2     20.2  272.21  16.23   14.9  \n3     20.2  396.90  14.70   20.0  \n4     20.2  255.23  16.42   16.4  ",
      "text/html": "<div>\n<style scoped>\n    .dataframe tbody tr th:only-of-type {\n        vertical-align: middle;\n    }\n\n    .dataframe tbody tr th {\n        vertical-align: top;\n    }\n\n    .dataframe thead th {\n        text-align: right;\n    }\n</style>\n<table border=\"1\" class=\"dataframe\">\n  <thead>\n    <tr style=\"text-align: right;\">\n      <th></th>\n      <th>CRIM</th>\n      <th>ZN</th>\n      <th>INDUS</th>\n      <th>CHAS</th>\n      <th>NOX</th>\n      <th>RM</th>\n      <th>AGE</th>\n      <th>DIS</th>\n      <th>RAD</th>\n      <th>TAX</th>\n      <th>PTRATIO</th>\n      <th>B</th>\n      <th>LSTAT</th>\n      <th>PRICE</th>\n    </tr>\n  </thead>\n  <tbody>\n    <tr>\n      <th>0</th>\n      <td>4.66883</td>\n      <td>0.0</td>\n      <td>18.1</td>\n      <td>0.0</td>\n      <td>0.713</td>\n      <td>5.976</td>\n      <td>87.9</td>\n      <td>2.5806</td>\n      <td>24.0</td>\n      <td>666.0</td>\n      <td>20.2</td>\n      <td>10.48</td>\n      <td>19.01</td>\n      <td>12.7</td>\n    </tr>\n    <tr>\n      <th>1</th>\n      <td>8.20058</td>\n      <td>0.0</td>\n      <td>18.1</td>\n      <td>0.0</td>\n      <td>0.713</td>\n      <td>5.936</td>\n      <td>80.3</td>\n      <td>2.7792</td>\n      <td>24.0</td>\n      <td>666.0</td>\n      <td>20.2</td>\n      <td>3.50</td>\n      <td>16.94</td>\n      <td>13.5</td>\n    </tr>\n    <tr>\n      <th>2</th>\n      <td>7.75223</td>\n      <td>0.0</td>\n      <td>18.1</td>\n      <td>0.0</td>\n      <td>0.713</td>\n      <td>6.301</td>\n      <td>83.7</td>\n      <td>2.7831</td>\n      <td>24.0</td>\n      <td>666.0</td>\n      <td>20.2</td>\n      <td>272.21</td>\n      <td>16.23</td>\n      <td>14.9</td>\n    </tr>\n    <tr>\n      <th>3</th>\n      <td>6.80117</td>\n      <td>0.0</td>\n      <td>18.1</td>\n      <td>0.0</td>\n      <td>0.713</td>\n      <td>6.081</td>\n      <td>84.4</td>\n      <td>2.7175</td>\n      <td>24.0</td>\n      <td>666.0</td>\n      <td>20.2</td>\n      <td>396.90</td>\n      <td>14.70</td>\n      <td>20.0</td>\n    </tr>\n    <tr>\n      <th>4</th>\n      <td>4.81213</td>\n      <td>0.0</td>\n      <td>18.1</td>\n      <td>0.0</td>\n      <td>0.713</td>\n      <td>6.701</td>\n      <td>90.0</td>\n      <td>2.5975</td>\n      <td>24.0</td>\n      <td>666.0</td>\n      <td>20.2</td>\n      <td>255.23</td>\n      <td>16.42</td>\n      <td>16.4</td>\n    </tr>\n  </tbody>\n</table>\n</div>"
     },
     "execution_count": 9,
     "metadata": {},
     "output_type": "execute_result"
    }
   ],
   "source": [
    "bos1=pd.DataFrame(boston_X[-50:])\n",
    "bos1.columns = boston.feature_names\n",
    "bos1['PRICE']=boston.target[-50:]\n",
    "bos1.head()"
   ]
  },
  {
   "cell_type": "code",
<<<<<<< Updated upstream
   "execution_count": 10,
   "outputs": [
    {
     "data": {
      "text/plain": "             CRIM  ZN     INDUS  CHAS       NOX        RM       AGE       DIS  \\\nCRIM     1.000000 NaN  0.201003   NaN  0.211382  0.045282  0.161483  0.118856   \nZN            NaN NaN       NaN   NaN       NaN       NaN       NaN       NaN   \nINDUS    0.201003 NaN  1.000000   NaN  0.207219 -0.147740  0.421844 -0.170231   \nCHAS          NaN NaN       NaN   NaN       NaN       NaN       NaN       NaN   \nNOX      0.211382 NaN  0.207219   NaN  1.000000  0.026864  0.275541 -0.205316   \nRM       0.045282 NaN -0.147740   NaN  0.026864  1.000000  0.090267  0.212857   \nAGE      0.161483 NaN  0.421844   NaN  0.275541  0.090267  1.000000 -0.590915   \nDIS      0.118856 NaN -0.170231   NaN -0.205316  0.212857 -0.590915  1.000000   \nRAD      0.733008 NaN  0.256055   NaN  0.279781  0.218370  0.004245  0.516316   \nTAX      0.529592 NaN  0.812731   NaN  0.304850 -0.077908  0.236345  0.173004   \nPTRATIO  0.180582 NaN  0.295379   NaN  0.034593  0.439612  0.338677  0.001232   \nB       -0.147766 NaN -0.146834   NaN -0.503015  0.098176 -0.198093  0.030635   \nLSTAT    0.185681 NaN  0.408161   NaN  0.250875 -0.651521  0.376219 -0.417711   \nPRICE   -0.057827 NaN -0.414676   NaN -0.308019  0.562242 -0.570963  0.458780   \n\n              RAD       TAX   PTRATIO         B     LSTAT     PRICE  \nCRIM     0.733008  0.529592  0.180582 -0.147766  0.185681 -0.057827  \nZN            NaN       NaN       NaN       NaN       NaN       NaN  \nINDUS    0.256055  0.812731  0.295379 -0.146834  0.408161 -0.414676  \nCHAS          NaN       NaN       NaN       NaN       NaN       NaN  \nNOX      0.279781  0.304850  0.034593 -0.503015  0.250875 -0.308019  \nRM       0.218370 -0.077908  0.439612  0.098176 -0.651521  0.562242  \nAGE      0.004245  0.236345  0.338677 -0.198093  0.376219 -0.570963  \nDIS      0.516316  0.173004  0.001232  0.030635 -0.417711  0.458780  \nRAD      1.000000  0.734176  0.132078 -0.258563  0.085061  0.105992  \nTAX      0.734176  1.000000  0.073417 -0.238775  0.411040 -0.232839  \nPTRATIO  0.132078  0.073417  1.000000 -0.079456 -0.294283 -0.039699  \nB       -0.258563 -0.238775 -0.079456  1.000000 -0.314114  0.362257  \nLSTAT    0.085061  0.411040 -0.294283 -0.314114  1.000000 -0.700107  \nPRICE    0.105992 -0.232839 -0.039699  0.362257 -0.700107  1.000000  ",
      "text/html": "<div>\n<style scoped>\n    .dataframe tbody tr th:only-of-type {\n        vertical-align: middle;\n    }\n\n    .dataframe tbody tr th {\n        vertical-align: top;\n    }\n\n    .dataframe thead th {\n        text-align: right;\n    }\n</style>\n<table border=\"1\" class=\"dataframe\">\n  <thead>\n    <tr style=\"text-align: right;\">\n      <th></th>\n      <th>CRIM</th>\n      <th>ZN</th>\n      <th>INDUS</th>\n      <th>CHAS</th>\n      <th>NOX</th>\n      <th>RM</th>\n      <th>AGE</th>\n      <th>DIS</th>\n      <th>RAD</th>\n      <th>TAX</th>\n      <th>PTRATIO</th>\n      <th>B</th>\n      <th>LSTAT</th>\n      <th>PRICE</th>\n    </tr>\n  </thead>\n  <tbody>\n    <tr>\n      <th>CRIM</th>\n      <td>1.000000</td>\n      <td>NaN</td>\n      <td>0.201003</td>\n      <td>NaN</td>\n      <td>0.211382</td>\n      <td>0.045282</td>\n      <td>0.161483</td>\n      <td>0.118856</td>\n      <td>0.733008</td>\n      <td>0.529592</td>\n      <td>0.180582</td>\n      <td>-0.147766</td>\n      <td>0.185681</td>\n      <td>-0.057827</td>\n    </tr>\n    <tr>\n      <th>ZN</th>\n      <td>NaN</td>\n      <td>NaN</td>\n      <td>NaN</td>\n      <td>NaN</td>\n      <td>NaN</td>\n      <td>NaN</td>\n      <td>NaN</td>\n      <td>NaN</td>\n      <td>NaN</td>\n      <td>NaN</td>\n      <td>NaN</td>\n      <td>NaN</td>\n      <td>NaN</td>\n      <td>NaN</td>\n    </tr>\n    <tr>\n      <th>INDUS</th>\n      <td>0.201003</td>\n      <td>NaN</td>\n      <td>1.000000</td>\n      <td>NaN</td>\n      <td>0.207219</td>\n      <td>-0.147740</td>\n      <td>0.421844</td>\n      <td>-0.170231</td>\n      <td>0.256055</td>\n      <td>0.812731</td>\n      <td>0.295379</td>\n      <td>-0.146834</td>\n      <td>0.408161</td>\n      <td>-0.414676</td>\n    </tr>\n    <tr>\n      <th>CHAS</th>\n      <td>NaN</td>\n      <td>NaN</td>\n      <td>NaN</td>\n      <td>NaN</td>\n      <td>NaN</td>\n      <td>NaN</td>\n      <td>NaN</td>\n      <td>NaN</td>\n      <td>NaN</td>\n      <td>NaN</td>\n      <td>NaN</td>\n      <td>NaN</td>\n      <td>NaN</td>\n      <td>NaN</td>\n    </tr>\n    <tr>\n      <th>NOX</th>\n      <td>0.211382</td>\n      <td>NaN</td>\n      <td>0.207219</td>\n      <td>NaN</td>\n      <td>1.000000</td>\n      <td>0.026864</td>\n      <td>0.275541</td>\n      <td>-0.205316</td>\n      <td>0.279781</td>\n      <td>0.304850</td>\n      <td>0.034593</td>\n      <td>-0.503015</td>\n      <td>0.250875</td>\n      <td>-0.308019</td>\n    </tr>\n    <tr>\n      <th>RM</th>\n      <td>0.045282</td>\n      <td>NaN</td>\n      <td>-0.147740</td>\n      <td>NaN</td>\n      <td>0.026864</td>\n      <td>1.000000</td>\n      <td>0.090267</td>\n      <td>0.212857</td>\n      <td>0.218370</td>\n      <td>-0.077908</td>\n      <td>0.439612</td>\n      <td>0.098176</td>\n      <td>-0.651521</td>\n      <td>0.562242</td>\n    </tr>\n    <tr>\n      <th>AGE</th>\n      <td>0.161483</td>\n      <td>NaN</td>\n      <td>0.421844</td>\n      <td>NaN</td>\n      <td>0.275541</td>\n      <td>0.090267</td>\n      <td>1.000000</td>\n      <td>-0.590915</td>\n      <td>0.004245</td>\n      <td>0.236345</td>\n      <td>0.338677</td>\n      <td>-0.198093</td>\n      <td>0.376219</td>\n      <td>-0.570963</td>\n    </tr>\n    <tr>\n      <th>DIS</th>\n      <td>0.118856</td>\n      <td>NaN</td>\n      <td>-0.170231</td>\n      <td>NaN</td>\n      <td>-0.205316</td>\n      <td>0.212857</td>\n      <td>-0.590915</td>\n      <td>1.000000</td>\n      <td>0.516316</td>\n      <td>0.173004</td>\n      <td>0.001232</td>\n      <td>0.030635</td>\n      <td>-0.417711</td>\n      <td>0.458780</td>\n    </tr>\n    <tr>\n      <th>RAD</th>\n      <td>0.733008</td>\n      <td>NaN</td>\n      <td>0.256055</td>\n      <td>NaN</td>\n      <td>0.279781</td>\n      <td>0.218370</td>\n      <td>0.004245</td>\n      <td>0.516316</td>\n      <td>1.000000</td>\n      <td>0.734176</td>\n      <td>0.132078</td>\n      <td>-0.258563</td>\n      <td>0.085061</td>\n      <td>0.105992</td>\n    </tr>\n    <tr>\n      <th>TAX</th>\n      <td>0.529592</td>\n      <td>NaN</td>\n      <td>0.812731</td>\n      <td>NaN</td>\n      <td>0.304850</td>\n      <td>-0.077908</td>\n      <td>0.236345</td>\n      <td>0.173004</td>\n      <td>0.734176</td>\n      <td>1.000000</td>\n      <td>0.073417</td>\n      <td>-0.238775</td>\n      <td>0.411040</td>\n      <td>-0.232839</td>\n    </tr>\n    <tr>\n      <th>PTRATIO</th>\n      <td>0.180582</td>\n      <td>NaN</td>\n      <td>0.295379</td>\n      <td>NaN</td>\n      <td>0.034593</td>\n      <td>0.439612</td>\n      <td>0.338677</td>\n      <td>0.001232</td>\n      <td>0.132078</td>\n      <td>0.073417</td>\n      <td>1.000000</td>\n      <td>-0.079456</td>\n      <td>-0.294283</td>\n      <td>-0.039699</td>\n    </tr>\n    <tr>\n      <th>B</th>\n      <td>-0.147766</td>\n      <td>NaN</td>\n      <td>-0.146834</td>\n      <td>NaN</td>\n      <td>-0.503015</td>\n      <td>0.098176</td>\n      <td>-0.198093</td>\n      <td>0.030635</td>\n      <td>-0.258563</td>\n      <td>-0.238775</td>\n      <td>-0.079456</td>\n      <td>1.000000</td>\n      <td>-0.314114</td>\n      <td>0.362257</td>\n    </tr>\n    <tr>\n      <th>LSTAT</th>\n      <td>0.185681</td>\n      <td>NaN</td>\n      <td>0.408161</td>\n      <td>NaN</td>\n      <td>0.250875</td>\n      <td>-0.651521</td>\n      <td>0.376219</td>\n      <td>-0.417711</td>\n      <td>0.085061</td>\n      <td>0.411040</td>\n      <td>-0.294283</td>\n      <td>-0.314114</td>\n      <td>1.000000</td>\n      <td>-0.700107</td>\n    </tr>\n    <tr>\n      <th>PRICE</th>\n      <td>-0.057827</td>\n      <td>NaN</td>\n      <td>-0.414676</td>\n      <td>NaN</td>\n      <td>-0.308019</td>\n      <td>0.562242</td>\n      <td>-0.570963</td>\n      <td>0.458780</td>\n      <td>0.105992</td>\n      <td>-0.232839</td>\n      <td>-0.039699</td>\n      <td>0.362257</td>\n      <td>-0.700107</td>\n      <td>1.000000</td>\n    </tr>\n  </tbody>\n</table>\n</div>"
     },
     "execution_count": 10,
     "metadata": {},
     "output_type": "execute_result"
    }
   ],
   "source": [
    "corr = bos1.corr()\n",
    "\n",
    "corr"
   ],
   "metadata": {
    "collapsed": false,
    "pycharm": {
     "name": "#%%\n"
    }
   }
  },
  {
   "cell_type": "code",
   "execution_count": 42,
   "outputs": [
    {
     "name": "stdout",
     "output_type": "stream",
     "text": [
      "                                                           Results: Ordinary least squares\n",
      "=====================================================================================================================================================\n",
      "Model:                                           OLS                                         Adj. R-squared:                                0.733    \n",
      "Dependent Variable:                              PRICE                                       AIC:                                           2775.1739\n",
      "Date:                                            2022-03-25 15:13                            BIC:                                           2907.0937\n",
      "No. Observations:                                456                                         Log-Likelihood:                                -1355.6  \n",
      "Df Model:                                        31                                          F-statistic:                                   41.30    \n",
      "Df Residuals:                                    424                                         Prob (F-statistic):                            3.52e-108\n",
      "R-squared:                                       0.751                                       Scale:                                         24.057   \n",
      "-----------------------------------------------------------------------------------------------------------------------------------------------------\n",
      "                                                                                      Coef.       Std.Err.     t    P>|t|      [0.025       0.975]   \n",
      "-----------------------------------------------------------------------------------------------------------------------------------------------------\n",
      "Intercept                                                                          -338759.3584 142900.2714 -2.3706 0.0182  -619640.5162  -57878.2007\n",
      "I(np.power(LSTAT, 0.01))                                                            330640.2840 139533.5480  2.3696 0.0183    56376.6726  604903.8953\n",
      "I(np.power(AGE, 0.7))                                                                11783.7010   6015.2311  1.9590 0.0508      -39.6851   23607.0871\n",
      "I(np.power(LSTAT, 0.01)):I(np.power(AGE, 0.7))                                      -11504.9289   5867.6603 -1.9607 0.0506   -23038.2535      28.3956\n",
      "I(np.power(B, 0.5))                                                                  17382.1325   7276.5808  2.3888 0.0173     3079.4694   31684.7956\n",
      "I(np.power(LSTAT, 0.01)):I(np.power(B, 0.5))                                        -16965.6082   7105.4504 -2.3877 0.0174   -30931.9017   -2999.3147\n",
      "I(np.power(AGE, 0.7)):I(np.power(B, 0.5))                                             -611.3397    306.3019 -1.9959 0.0466    -1213.3990      -9.2805\n",
      "I(np.power(LSTAT, 0.01)):I(np.power(AGE, 0.7)):I(np.power(B, 0.5))                     596.9061    298.8019  1.9977 0.0464        9.5886    1184.2235\n",
      "I(NOX)                                                                              747381.4623 332802.6196  2.2457 0.0252    93233.0540 1401529.8706\n",
      "I(np.power(LSTAT, 0.01)):I(NOX)                                                    -729023.4490 324838.3746 -2.2443 0.0253 -1367517.5388  -90529.3591\n",
      "I(np.power(AGE, 0.7)):I(NOX)                                                        -26601.8307  13895.8190 -1.9144 0.0562   -53915.1009     711.4395\n",
      "I(np.power(LSTAT, 0.01)):I(np.power(AGE, 0.7)):I(NOX)                                25953.1550  13554.0593  1.9148 0.0562     -688.3611   52594.6711\n",
      "I(np.power(B, 0.5)):I(NOX)                                                          -38011.6533  16942.4340 -2.2436 0.0254   -71313.2728   -4710.0337\n",
      "I(np.power(LSTAT, 0.01)):I(np.power(B, 0.5)):I(NOX)                                  37079.3601  16537.7013  2.2421 0.0255     4573.2728   69585.4473\n",
      "I(np.power(AGE, 0.7)):I(np.power(B, 0.5)):I(NOX)                                      1370.3953    707.6252  1.9366 0.0535      -20.4950    2761.2856\n",
      "I(np.power(LSTAT, 0.01)):I(np.power(AGE, 0.7)):I(np.power(B, 0.5)):I(NOX)            -1337.0017    690.2542 -1.9370 0.0534    -2693.7480      19.7445\n",
      "I(INDUS)                                                                             17278.7216   8098.7838  2.1335 0.0335     1359.9572   33197.4861\n",
      "I(np.power(LSTAT, 0.01)):I(INDUS)                                                   -16875.2957   7903.9826 -2.1350 0.0333   -32411.1640   -1339.4275\n",
      "I(np.power(AGE, 0.7)):I(INDUS)                                                        -597.7393    336.4112 -1.7768 0.0763    -1258.9807      63.5022\n",
      "I(np.power(LSTAT, 0.01)):I(np.power(AGE, 0.7)):I(INDUS)                                584.1303    328.0285  1.7807 0.0757      -60.6341    1228.8947\n",
      "I(np.power(B, 0.5)):I(INDUS)                                                          -892.2075    413.6382 -2.1570 0.0316    -1705.2443     -79.1708\n",
      "I(np.power(LSTAT, 0.01)):I(np.power(B, 0.5)):I(INDUS)                                  871.5942    403.7109  2.1590 0.0314       78.0702    1665.1182\n",
      "I(np.power(AGE, 0.7)):I(np.power(B, 0.5)):I(INDUS)                                      31.4619     17.1844  1.8308 0.0678       -2.3152      65.2391\n",
      "I(np.power(LSTAT, 0.01)):I(np.power(AGE, 0.7)):I(np.power(B, 0.5)):I(INDUS)            -30.7525     16.7571 -1.8352 0.0672      -63.6899       2.1849\n",
      "I(NOX):I(INDUS)                                                                     -38975.8448  18111.3415 -2.1520 0.0320   -74575.0395   -3376.6501\n",
      "I(np.power(LSTAT, 0.01)):I(NOX):I(INDUS)                                             38033.1554  17675.9271  2.1517 0.0320     3289.8004   72776.5104\n",
      "I(np.power(AGE, 0.7)):I(NOX):I(INDUS)                                                 1384.0348    749.4917  1.8466 0.0655      -89.1470    2857.2167\n",
      "I(np.power(LSTAT, 0.01)):I(np.power(AGE, 0.7)):I(NOX):I(INDUS)                       -1350.9765    730.9939 -1.8481 0.0653    -2787.7995      85.8465\n",
      "I(np.power(B, 0.5)):I(NOX):I(INDUS)                                                   1975.9474    923.9215  2.1387 0.0330      159.9108    3791.9841\n",
      "I(np.power(LSTAT, 0.01)):I(np.power(B, 0.5)):I(NOX):I(INDUS)                         -1928.5538    901.7569 -2.1387 0.0330    -3701.0244    -156.0832\n",
      "I(np.power(AGE, 0.7)):I(np.power(B, 0.5)):I(NOX):I(INDUS)                              -71.1106     38.2533 -1.8589 0.0637     -146.3003       4.0791\n",
      "I(np.power(LSTAT, 0.01)):I(np.power(AGE, 0.7)):I(np.power(B, 0.5)):I(NOX):I(INDUS)      69.4260     37.3113  1.8607 0.0635       -3.9121     142.7640\n",
      "-----------------------------------------------------------------------------------------------------------------------------------------------------\n",
      "Omnibus:                                         96.000                                 Durbin-Watson:                                    1.238      \n",
      "Prob(Omnibus):                                   0.000                                  Jarque-Bera (JB):                                 263.504    \n",
      "Skew:                                            1.010                                  Prob(JB):                                         0.000      \n",
      "Kurtosis:                                        6.128                                  Condition No.:                                    19413652376\n",
      "=====================================================================================================================================================\n",
      "* The condition number is large (2e+10). This might indicate             strong multicollinearity or other numerical problems.\n"
     ]
    }
   ],
=======
   "execution_count": null,
   "outputs": [],
>>>>>>> Stashed changes
   "source": [
    "model = ols(\"PRICE ~ I(np.power(LSTAT, 0.01)) * I(np.power(-AGE, 0.7)) * I(np.power(B, 0.5)) *  I(NOX) * I(INDUS)\", bos).fit()\n",
    "# Print the summary\n",
    "print((model.summary2()))"
<<<<<<< Updated upstream
   ],
   "metadata": {
    "collapsed": false,
    "pycharm": {
     "name": "#%%\n"
    }
   }
  },
  {
   "cell_type": "code",
   "execution_count": 43,
   "metadata": {
    "pycharm": {
     "name": "#%%\n"
    }
   },
   "outputs": [
    {
     "data": {
      "text/plain": "0.7512376679775388"
     },
     "execution_count": 43,
     "metadata": {},
     "output_type": "execute_result"
    }
=======
>>>>>>> Stashed changes
   ],
   "metadata": {
    "collapsed": false,
    "pycharm": {
     "name": "#%%\n"
    }
   }
  },
  {
   "cell_type": "code",
   "execution_count": 13,
   "metadata": {
    "pycharm": {
     "name": "#%%\n"
    }
   },
   "outputs": [
    {
     "data": {
      "text/plain": [
       "-0.8973506326938079"
      ]
     },
     "execution_count": 13,
     "metadata": {},
     "output_type": "execute_result"
    }
   ],
   "source": [
    "from sklearn import  metrics\n",
    "metrics.r2_score(bos1.PRICE, model.predict(bos1))"
   ]
  },
  {
   "cell_type": "code",
   "execution_count": null,
   "metadata": {
    "collapsed": true,
    "pycharm": {
     "name": "#%%\n"
    }
   },
   "outputs": [],
   "source": []
  },
  {
   "cell_type": "code",
   "execution_count": null,
   "metadata": {
    "collapsed": true,
    "pycharm": {
     "name": "#%%\n"
    }
   },
   "outputs": [],
   "source": []
  }
 ],
 "metadata": {
  "kernelspec": {
   "display_name": "Python 3",
   "language": "python",
   "name": "python3"
  },
  "language_info": {
   "codemirror_mode": {
    "name": "ipython",
    "version": 3
   },
   "file_extension": ".py",
   "mimetype": "text/x-python",
   "name": "python",
   "nbconvert_exporter": "python",
   "pygments_lexer": "ipython3",
   "version": "3.7.6"
  }
 },
 "nbformat": 4,
 "nbformat_minor": 2
}